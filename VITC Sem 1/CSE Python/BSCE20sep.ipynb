{
  "nbformat": 4,
  "nbformat_minor": 0,
  "metadata": {
    "colab": {
      "name": "BSCE20sep.ipynb",
      "provenance": [],
      "collapsed_sections": []
    },
    "kernelspec": {
      "name": "python3",
      "display_name": "Python 3"
    },
    "language_info": {
      "name": "python"
    }
  },
  "cells": [
    {
      "cell_type": "code",
      "metadata": {
        "id": "472d73hV8vBv"
      },
      "source": [
        "print(\"Hello BSCE, Welcome to python class!\")"
      ],
      "execution_count": null,
      "outputs": []
    },
    {
      "cell_type": "code",
      "metadata": {
        "id": "MoX20ZUw9CpE"
      },
      "source": [
        "# Insert missing part of code\n",
        "(\"Hello BSCE, Welcome to python class!\")"
      ],
      "execution_count": null,
      "outputs": []
    },
    {
      "cell_type": "markdown",
      "metadata": {
        "id": "-esSm06A-If9"
      },
      "source": [
        "Insert the symbol for commenting a line"
      ]
    },
    {
      "cell_type": "code",
      "metadata": {
        "id": "8DTC_LgR-D9D"
      },
      "source": [
        "This is a comment"
      ],
      "execution_count": null,
      "outputs": []
    },
    {
      "cell_type": "markdown",
      "metadata": {
        "id": "r5QAkUm9-jXK"
      },
      "source": [
        "Insert symbol for commenting multiple lines (Use \" \" \" at start and end)"
      ]
    },
    {
      "cell_type": "code",
      "metadata": {
        "id": "ELQ3Ee-k-rD_"
      },
      "source": [
        "Python was created in the early 1990s.\n",
        "Python is an interpreted high-level general-purpose programming language.\n",
        "Python is widely considered one of the easiest programming languages for a beginner to learn"
      ],
      "execution_count": null,
      "outputs": []
    },
    {
      "cell_type": "markdown",
      "metadata": {
        "id": "ZiWAYWX0M1b-"
      },
      "source": [
        "Check for Indendation"
      ]
    },
    {
      "cell_type": "code",
      "metadata": {
        "id": "WhU8dzLM9YMZ"
      },
      "source": [
        "\n",
        "if 'B' < 'b':\n",
        "print(\"B is greater\")"
      ],
      "execution_count": null,
      "outputs": []
    },
    {
      "cell_type": "code",
      "metadata": {
        "id": "an2rEDIu94FP"
      },
      "source": [
        "#Create a variable named Student_Name and assign the your name as value\n"
      ],
      "execution_count": null,
      "outputs": []
    },
    {
      "cell_type": "code",
      "metadata": {
        "id": "d7VJysBs_xBE"
      },
      "source": [
        "#Create a variable named n1 and assign the value 5555 to it.\n"
      ],
      "execution_count": null,
      "outputs": []
    },
    {
      "cell_type": "code",
      "metadata": {
        "id": "ym8zAPQ5ANDI"
      },
      "source": [
        "# Display the sum of 5555 + 1111, using two variables: x and y.\n",
        "x= 5555\n",
        "print(x+y)"
      ],
      "execution_count": null,
      "outputs": []
    },
    {
      "cell_type": "code",
      "metadata": {
        "id": "1LaFJFf4AYgC"
      },
      "source": [
        "# Display the multiplication of 5555 + 1111, using two variables: x and y and display the result using third variable.\n"
      ],
      "execution_count": null,
      "outputs": []
    },
    {
      "cell_type": "markdown",
      "metadata": {
        "id": "HGFkEqsQMe7y"
      },
      "source": [
        "#Remove the illegal characters in the variable name\n"
      ]
    },
    {
      "cell_type": "code",
      "metadata": {
        "id": "yqTnGMunMytg"
      },
      "source": [
        "1_my-first*1234e = \"Python\""
      ],
      "execution_count": null,
      "outputs": []
    },
    {
      "cell_type": "markdown",
      "metadata": {
        "id": "VsKyrP2ENL_b"
      },
      "source": [
        "Insert the correct syntax to assign the same value (python) to two variables (s1 and s2) in one line"
      ]
    },
    {
      "cell_type": "code",
      "metadata": {
        "id": "ejehJzXuNPTS"
      },
      "source": [
        ""
      ],
      "execution_count": null,
      "outputs": []
    },
    {
      "cell_type": "markdown",
      "metadata": {
        "id": "onUyEc_DNeM7"
      },
      "source": [
        "Write code to print the data type of x"
      ]
    },
    {
      "cell_type": "code",
      "metadata": {
        "id": "YzF7nU5VN2Ym"
      },
      "source": [
        "x= 5555"
      ],
      "execution_count": null,
      "outputs": []
    },
    {
      "cell_type": "markdown",
      "metadata": {
        "id": "gzvQM4YkN4fX"
      },
      "source": [
        "Write code to print the data type of x"
      ]
    },
    {
      "cell_type": "code",
      "metadata": {
        "id": "5QQkC5gzN9ez"
      },
      "source": [
        "x = \"python\""
      ],
      "execution_count": null,
      "outputs": []
    },
    {
      "cell_type": "markdown",
      "metadata": {
        "id": "4RVqk9_cOJS8"
      },
      "source": [
        "Write code to print the data type of x\n"
      ]
    },
    {
      "cell_type": "code",
      "metadata": {
        "id": "Azdw-LPGOIdd"
      },
      "source": [
        "x = 55550.57676"
      ],
      "execution_count": null,
      "outputs": []
    },
    {
      "cell_type": "markdown",
      "metadata": {
        "id": "PXOeQH7zOdFi"
      },
      "source": [
        "Write code to print the data type of x"
      ]
    },
    {
      "cell_type": "code",
      "metadata": {
        "id": "0GUC8drROcRI"
      },
      "source": [
        "x= False"
      ],
      "execution_count": null,
      "outputs": []
    },
    {
      "cell_type": "markdown",
      "metadata": {
        "id": "cgBh2fQLOkBB"
      },
      "source": [
        "Convert x to float\n",
        "\n"
      ]
    },
    {
      "cell_type": "code",
      "metadata": {
        "id": "jCBtmAxeO-y3"
      },
      "source": [
        "x = 565456"
      ],
      "execution_count": null,
      "outputs": []
    },
    {
      "cell_type": "markdown",
      "metadata": {
        "id": "NpV8mjV6O4CP"
      },
      "source": [
        "Convert x to integer"
      ]
    },
    {
      "cell_type": "code",
      "metadata": {
        "id": "6RdE3LBeOvWT"
      },
      "source": [
        "x = 565456.76767"
      ],
      "execution_count": null,
      "outputs": []
    },
    {
      "cell_type": "markdown",
      "metadata": {
        "id": "k9P-WBTLPCUP"
      },
      "source": [
        "Convert x to complex. Add complex keyword.\n"
      ]
    },
    {
      "cell_type": "code",
      "metadata": {
        "id": "Iix-BENZPOtW"
      },
      "source": [
        "x= 766243562\n"
      ],
      "execution_count": null,
      "outputs": []
    },
    {
      "cell_type": "markdown",
      "metadata": {
        "id": "VwFQR7JpfM5m"
      },
      "source": [
        "Write a program to accept a name as input and print “Hello <input name>. Welcome to Python BCSE101E” as the output"
      ]
    },
    {
      "cell_type": "code",
      "metadata": {
        "id": "t89lf0DVft0V"
      },
      "source": [
        ""
      ],
      "execution_count": null,
      "outputs": []
    },
    {
      "cell_type": "markdown",
      "metadata": {
        "id": "POZVifwUf4SB"
      },
      "source": [
        "Write a program to accept a number as input and display the square of the number as the output."
      ]
    }
  ]
}