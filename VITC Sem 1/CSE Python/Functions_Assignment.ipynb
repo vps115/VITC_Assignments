{
  "nbformat": 4,
  "nbformat_minor": 0,
  "metadata": {
    "colab": {
      "name": "Functions_Assignment.ipynb",
      "provenance": [],
      "collapsed_sections": []
    },
    "kernelspec": {
      "name": "python3",
      "display_name": "Python 3"
    },
    "language_info": {
      "name": "python"
    }
  },
  "cells": [
    {
      "cell_type": "markdown",
      "metadata": {
        "id": "mm2D3c3pdb_V"
      },
      "source": [
        "#**Vidhi P Shah**\n",
        "#**21BCE1297**"
      ]
    },
    {
      "cell_type": "markdown",
      "metadata": {
        "id": "qSl77d1xw3tU"
      },
      "source": [
        "#**FizzBuzz**\n",
        "###Write a function to print 'Fizz' if divisble by 3 and 'Buzz' if divisible by 5 and FizzBuzz if divisible by 3 and 5"
      ]
    },
    {
      "cell_type": "markdown",
      "metadata": {
        "id": "tdPKbv7ndfhz"
      },
      "source": [
        "##**FizzBuzz1 (Single number)**"
      ]
    },
    {
      "cell_type": "code",
      "metadata": {
        "id": "T7tozyfnddGr"
      },
      "source": [
        "def fizzbuzz1(n):\n",
        "  if n%3==0 and n%5==0:\n",
        "    msg = 'FizzBuzz'\n",
        "  elif n%3==0:\n",
        "    msg = 'Fizz'\n",
        "  elif n%5==0:\n",
        "    msg = 'Buzz'\n",
        "  else:\n",
        "    msg = 'None'\n",
        "  return msg"
      ],
      "execution_count": null,
      "outputs": []
    },
    {
      "cell_type": "code",
      "metadata": {
        "colab": {
          "base_uri": "https://localhost:8080/"
        },
        "id": "Uv4th-b3ddV4",
        "outputId": "115bf032-45f4-4cfe-a03a-d14ce7df0ebe"
      },
      "source": [
        "n = int(input())\n",
        "print(fizzbuzz1(n))"
      ],
      "execution_count": null,
      "outputs": [
        {
          "output_type": "stream",
          "name": "stdout",
          "text": [
            "60\n",
            "FizzBuzz\n"
          ]
        }
      ]
    },
    {
      "cell_type": "markdown",
      "metadata": {
        "id": "_N1i93P0ddmX"
      },
      "source": [
        "##**FizzBuzz2 (List of numbers)**"
      ]
    },
    {
      "cell_type": "code",
      "metadata": {
        "id": "FndxmQtldd2-"
      },
      "source": [
        "def fizzbuzz2(*numbers):\n",
        "  for n in numbers:\n",
        "    if n%3==0 and n%5==0:\n",
        "      msg = 'FizzBuzz'\n",
        "    elif n%3==0:\n",
        "      msg = 'Fizz'\n",
        "    elif n%5==0:\n",
        "      msg = 'Buzz'\n",
        "    else:\n",
        "      msg = 'None'\n",
        "    print(msg)"
      ],
      "execution_count": null,
      "outputs": []
    },
    {
      "cell_type": "code",
      "metadata": {
        "colab": {
          "base_uri": "https://localhost:8080/"
        },
        "id": "LTwrpcrVdeF4",
        "outputId": "4bf1b91e-5bc6-42e0-dfff-71ecf80817b7"
      },
      "source": [
        "numbers=list(map(int,input().split()))\n",
        "fizzbuzz2(*numbers)"
      ],
      "execution_count": null,
      "outputs": [
        {
          "output_type": "stream",
          "name": "stdout",
          "text": [
            "2 5 3 15 30 60 80 95\n",
            "None\n",
            "Buzz\n",
            "Fizz\n",
            "FizzBuzz\n",
            "FizzBuzz\n",
            "FizzBuzz\n",
            "Buzz\n",
            "Buzz\n"
          ]
        }
      ]
    },
    {
      "cell_type": "markdown",
      "metadata": {
        "id": "UjedNZa6deUs"
      },
      "source": [
        "##**FizzBuzz3 (List of numbers and store in dictionary)**"
      ]
    },
    {
      "cell_type": "code",
      "metadata": {
        "id": "-9APB9gRdejM"
      },
      "source": [
        "def fizzbuzz3(*numbers):\n",
        "  fbdict={'FizzBuzz':[],'Fizz':[],'Buzz':[],'None':[]}\n",
        "  for n in numbers:\n",
        "    if n%3==0 and n%5==0:\n",
        "      fbdict['FizzBuzz'].append(n)\n",
        "    elif n%3==0:\n",
        "      fbdict['Fizz'].append(n)\n",
        "    elif n%5==0:\n",
        "      fbdict['Buzz'].append(n)\n",
        "    else:\n",
        "      fbdict['None'].append(n)\n",
        "  return fbdict"
      ],
      "execution_count": null,
      "outputs": []
    },
    {
      "cell_type": "code",
      "metadata": {
        "colab": {
          "base_uri": "https://localhost:8080/"
        },
        "id": "O3aDpevYdexW",
        "outputId": "4ec0fbc8-60dc-4a2c-d03a-cc5124d13616"
      },
      "source": [
        "numbers = list(map(int,input().split()))\n",
        "print(fizzbuzz3(*numbers))"
      ],
      "execution_count": null,
      "outputs": [
        {
          "output_type": "stream",
          "name": "stdout",
          "text": [
            "2 15 5 6 80 90 7 300 100\n",
            "{'FizzBuzz': [15, 90, 300], 'Fizz': [6], 'Buzz': [5, 80, 100], 'None': [2, 7]}\n"
          ]
        }
      ]
    },
    {
      "cell_type": "markdown",
      "metadata": {
        "id": "6wVqjSB3ko0s"
      },
      "source": [
        "#**Write the python function to find maximum of 3 numbers**"
      ]
    },
    {
      "cell_type": "markdown",
      "metadata": {
        "id": "DzBUCSjQJqpx"
      },
      "source": [
        "##Using Errors and exceptions"
      ]
    },
    {
      "cell_type": "code",
      "metadata": {
        "id": "KiAnq9OskpWV"
      },
      "source": [
        "def maxnum(*numbers,len_numbers=3):\n",
        "  if len(numbers)==len_numbers:\n",
        "    return f\"Maximum: {max(numbers)}\"\n",
        "  else:\n",
        "    raise Exception(f\"Invalid Input: Enter exactly {len_numbers} numbers.\")"
      ],
      "execution_count": null,
      "outputs": []
    },
    {
      "cell_type": "code",
      "metadata": {
        "colab": {
          "base_uri": "https://localhost:8080/"
        },
        "id": "i6sYgSWflGkQ",
        "outputId": "a28e688c-a690-46e1-897a-cebf5bd15616"
      },
      "source": [
        "while True:\n",
        "  try:\n",
        "    numbers = list(map(float,input(\"Enter 3 numbers: \").split()))\n",
        "    print(maxnum(*numbers))\n",
        "    break\n",
        "  except ValueError:\n",
        "    print(\"Invalid Input: Enter integer or floats only.\\n\")\n",
        "  except Exception as e:\n",
        "    print(e,end='\\n\\n')"
      ],
      "execution_count": null,
      "outputs": [
        {
          "output_type": "stream",
          "name": "stdout",
          "text": [
            "Enter 3 numbers: 10 20\n",
            "Invalid Input: Enter exactly 3 numbers.\n",
            "\n",
            "Enter 3 numbers: 10 20 30 40\n",
            "Invalid Input: Enter exactly 3 numbers.\n",
            "\n",
            "Enter 3 numbers: a b c\n",
            "Invalid Input: Enter integer or floats only.\n",
            "\n",
            "Enter 3 numbers: 10.1 10.5 10.9\n",
            "Maximum: 10.9\n"
          ]
        }
      ]
    },
    {
      "cell_type": "markdown",
      "metadata": {
        "id": "stOgSJHDJyim"
      },
      "source": [
        "##Normally"
      ]
    },
    {
      "cell_type": "code",
      "metadata": {
        "id": "nkQk17gpKAUw"
      },
      "source": [
        "def maxnum(*numbers):\n",
        "    return max(numbers)"
      ],
      "execution_count": null,
      "outputs": []
    },
    {
      "cell_type": "code",
      "metadata": {
        "id": "DMuiq0P-KBRa"
      },
      "source": [
        "numbers = list(map(float,input(\"Enter 3 numbers: \").split()))\n",
        "print(maxnum(*numbers))"
      ],
      "execution_count": null,
      "outputs": []
    },
    {
      "cell_type": "markdown",
      "metadata": {
        "id": "oDm1yr56MQ3m"
      },
      "source": [
        "## Using same function again"
      ]
    },
    {
      "cell_type": "code",
      "metadata": {
        "id": "asRwcgm2MUP0"
      },
      "source": [
        "def maxnum2(n1,n2):\n",
        "  if n1>n2:\n",
        "    return n1\n",
        "  elif n2>n1:\n",
        "    return n2\n",
        "  else:\n",
        "    return n1\n",
        "\n",
        "  def maxnum3(n1,n2,n3):\n",
        "    return maxnum2(maxnum2(n1,n2),n3)"
      ],
      "execution_count": null,
      "outputs": []
    },
    {
      "cell_type": "code",
      "metadata": {
        "colab": {
          "base_uri": "https://localhost:8080/"
        },
        "id": "ff5pSJH0NxqW",
        "outputId": "3193a727-7617-4857-82b5-e79d9cdf40fd"
      },
      "source": [
        "maxnum3(97,86,33)"
      ],
      "execution_count": null,
      "outputs": [
        {
          "output_type": "execute_result",
          "data": {
            "text/plain": [
              "97"
            ]
          },
          "metadata": {},
          "execution_count": 106
        }
      ]
    },
    {
      "cell_type": "markdown",
      "metadata": {
        "id": "EeAWVKGcKgcC"
      },
      "source": [
        "#**Write a python code using functions which calculates the number of upper case letters, lower case letters, total number of characters and number of words**"
      ]
    },
    {
      "cell_type": "code",
      "metadata": {
        "id": "NMG_gaPVK--e"
      },
      "source": [
        "import re\n",
        "def chars(s):\n",
        "  return len(s)\n",
        "def upper_case(s):\n",
        "  return len(re.findall('[A-Z]',s))\n",
        "def lower_case(s):\n",
        "  return len(re.findall('[a-z]',s)) \n",
        "def words(s):\n",
        "  return len(s.split(' '))\n",
        "\n",
        "def count_all(s):\n",
        "  print(\"Total number of words:\", words(s))\n",
        "  print(\"Total number of characters:\", chars(s))\n",
        "  print(\"Total number of upper case letters:\", upper_case(s))\n",
        "  print(\"Total number of lower case letters:\", lower_case(s))"
      ],
      "execution_count": null,
      "outputs": []
    },
    {
      "cell_type": "code",
      "metadata": {
        "colab": {
          "base_uri": "https://localhost:8080/"
        },
        "id": "tQNLPdrQLSpy",
        "outputId": "2b159159-e865-4fd4-cbf7-957d015eb79c"
      },
      "source": [
        "s = 'Hello, World! This is Python Programming'\n",
        "count_all(s)"
      ],
      "execution_count": null,
      "outputs": [
        {
          "output_type": "stream",
          "name": "stdout",
          "text": [
            "Total number of words: 6\n",
            "Total number of characters: 40\n",
            "Total number of upper case letters: 5\n",
            "Total number of lower case letters: 28\n"
          ]
        }
      ]
    },
    {
      "cell_type": "markdown",
      "metadata": {
        "id": "Gvhl28HwWB2U"
      },
      "source": [
        "#**Write a python function to count the number of occurences of lowercase and uppercase letters and store it in a dictionary**"
      ]
    },
    {
      "cell_type": "code",
      "metadata": {
        "id": "ZjnFsVM2WHH0"
      },
      "source": [
        "import re\n",
        "def upper_case(s):\n",
        "  return len(re.findall('[A-Z]',s))\n",
        "def lower_case(s):\n",
        "  return len(re.findall('[a-z]',s))\n",
        "def dictionary(s):\n",
        "  d={}\n",
        "  d['upper_case']=upper_case(s)\n",
        "  d['lower_case']=lower_case(s)\n",
        "  print(d)"
      ],
      "execution_count": null,
      "outputs": []
    },
    {
      "cell_type": "code",
      "metadata": {
        "colab": {
          "base_uri": "https://localhost:8080/"
        },
        "id": "UUTGo1vDW78M",
        "outputId": "397f68eb-ba65-420c-fab6-91ca5e6bf7e8"
      },
      "source": [
        "s = 'Hello, World! This is Python Programming'\n",
        "dictionary(s)"
      ],
      "execution_count": null,
      "outputs": [
        {
          "output_type": "stream",
          "name": "stdout",
          "text": [
            "{'upper_case': 5, 'lower_case': 28}\n"
          ]
        }
      ]
    },
    {
      "cell_type": "markdown",
      "metadata": {
        "id": "_B5_mUu8SQDH"
      },
      "source": [
        "#**Triangle Formation Problem**\n",
        "Given three points, write an algorithm and the subsequent Python code to check if they can form a triangle. Three points can form a triangle, if they do not fall in a straight line and length of a side of triangle is less than the sum of length of other two sides of the triangle.\n",
        "\n",
        "For example, the points (5,10), (20,10) and (15,15) can form a triangle as they do not fall in a straight line and length of any side is less than sum of the length of the other two sides"
      ]
    },
    {
      "cell_type": "code",
      "metadata": {
        "id": "tBvjlnHbS3tw"
      },
      "source": [
        "def triangle(x,y):\n",
        "  a = x[0]*(y[1]-y[2]) + x[1]*(y[2]-y[0]) + x[2]*(y[0]-y[1])\n",
        "  if a:\n",
        "    return \"Can form Triangle\"\n",
        "  else:\n",
        "    return \"Cannot form a triangle\" "
      ],
      "execution_count": null,
      "outputs": []
    },
    {
      "cell_type": "code",
      "metadata": {
        "colab": {
          "base_uri": "https://localhost:8080/"
        },
        "id": "77isHMJeSQWf",
        "outputId": "0f5923a5-6f86-4b5f-a9fa-52f240aab6d9"
      },
      "source": [
        "x=[]\n",
        "y=[]\n",
        "for i in range(3):\n",
        "  a,b=list(map(int,input().split()))\n",
        "  x.append(a)\n",
        "  y.append(b)\n",
        "print(triangle(x,y))"
      ],
      "execution_count": null,
      "outputs": [
        {
          "output_type": "stream",
          "name": "stdout",
          "text": [
            "5 10\n",
            "20 10\n",
            "15 15\n",
            "Can form Triangle\n"
          ]
        }
      ]
    },
    {
      "cell_type": "markdown",
      "metadata": {
        "id": "BvbkplRUXdY6"
      },
      "source": [
        "#**Write a python code using functions to calculate area and perimeter of circle and rectangle**"
      ]
    },
    {
      "cell_type": "code",
      "metadata": {
        "id": "n7SH9Fz1Xgto"
      },
      "source": [
        "from math import pi\n",
        "def circle(r):\n",
        "  area = round(pi*(r**2),2)\n",
        "  perimeter = round(4*pi*r,2)\n",
        "  return area,perimeter\n",
        "def rectangle(l,b):\n",
        "  area = l*b\n",
        "  perimeter = 2*(l+b) \n",
        "  return area,perimeter"
      ],
      "execution_count": null,
      "outputs": []
    },
    {
      "cell_type": "code",
      "metadata": {
        "colab": {
          "base_uri": "https://localhost:8080/"
        },
        "id": "M9n946sbhsS2",
        "outputId": "01b07397-2773-40d9-88cd-4c01ac14f471"
      },
      "source": [
        "r = int(input(\"Radius of circle: \"))\n",
        "print('Area of circle: {0} units, Perimeter of Circle: {1} units'.format(*circle(r)))\n",
        "\n",
        "l = int(input(\"\\nLength of Rectangle: \"))\n",
        "b = int(input(\"Breadth of Rectangle: \"))\n",
        "print('Area of  Rectangle: {0} units, Perimeter of Rectangle: {1} units'.format(*rectangle(l,b)))"
      ],
      "execution_count": null,
      "outputs": [
        {
          "output_type": "stream",
          "name": "stdout",
          "text": [
            "Radius of circle: 1\n",
            "Area of circle: 3.14 units, Perimeter of Circle: 12.57 units\n",
            "\n",
            "Length of Rectangle: 10\n",
            "Breadth of Rectangle: 20\n",
            "Area of  Rectangle: 200 units, Perimeter of Rectangle: 60 units\n"
          ]
        }
      ]
    }
  ]
}