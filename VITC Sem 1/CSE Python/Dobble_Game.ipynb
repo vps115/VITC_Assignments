{
  "nbformat": 4,
  "nbformat_minor": 0,
  "metadata": {
    "colab": {
      "name": "Dobble Game.ipynb",
      "provenance": []
    },
    "kernelspec": {
      "name": "python3",
      "display_name": "Python 3"
    },
    "language_info": {
      "name": "python"
    }
  },
  "cells": [
    {
      "cell_type": "markdown",
      "metadata": {
        "id": "ELkJFwYzJOrk"
      },
      "source": [
        "### **DOBBLE GAME**\n",
        "#### VIDHI SHAH\n",
        "#### 21BCE1297"
      ]
    },
    {
      "cell_type": "code",
      "metadata": {
        "colab": {
          "base_uri": "https://localhost:8080/"
        },
        "id": "KsDcXAShJ7n_",
        "outputId": "8e0144e9-28a5-43dd-b088-9ee4746d65f5"
      },
      "source": [
        "import string\n",
        "import random\n",
        "\n",
        "n = int(input(\"No. of symbols in the card: \"))\n",
        "s = list(string.ascii_letters)\n",
        "\n",
        "card1 = [0]*n\n",
        "card2 = [0]*n\n",
        "\n",
        "fp1 = random.randrange(n)\n",
        "fp2 = random.randrange(n)\n",
        "\n",
        "cs = random.choice(s)\n",
        "s.remove(cs)\n",
        "\n",
        "card1[fp1] = card2[fp2] = cs\n",
        "\n",
        "for i in range(n):\n",
        "    if i!=fp1:\n",
        "        cs1 = random.choice(s)\n",
        "        card1[i] = cs1\n",
        "        s.remove(cs1)\n",
        "    if i!=fp2:\n",
        "        cs1 = random.choice(s)\n",
        "        card2[i] = cs1\n",
        "        s.remove(cs1)\n",
        "        \n",
        "print(card1)\n",
        "print(card2)\n",
        "\n",
        "ch = input(\"Common Symbol? \")\n",
        "\n",
        "if ch == cs:\n",
        "    print(\"Identified\")\n",
        "else:\n",
        "    print(\"Try Again\")    "
      ],
      "execution_count": 2,
      "outputs": [
        {
          "output_type": "stream",
          "name": "stdout",
          "text": [
            "No. of symbols in the card: 8\n",
            "['j', 'X', 's', 'L', 'h', 'I', 'x', 'w']\n",
            "['F', 'I', 'Z', 'G', 'C', 'H', 'b', 'z']\n",
            "Common Symbol? H\n",
            "Try Again\n"
          ]
        }
      ]
    }
  ]
}