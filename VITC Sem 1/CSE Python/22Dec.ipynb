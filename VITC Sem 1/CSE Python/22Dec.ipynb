{
  "nbformat": 4,
  "nbformat_minor": 0,
  "metadata": {
    "colab": {
      "name": "files.ipynb",
      "provenance": [],
      "collapsed_sections": []
    },
    "kernelspec": {
      "name": "python3",
      "display_name": "Python 3"
    },
    "language_info": {
      "name": "python"
    }
  },
  "cells": [
    {
      "cell_type": "markdown",
      "source": [
        "# File Handling"
      ],
      "metadata": {
        "id": "VdyskBdpK4_L"
      }
    },
    {
      "cell_type": "markdown",
      "source": [
        "#Types of Files\n",
        "\n",
        "1. Text Files (character data; .txt files)\n",
        "2. Binary Files (img, video, audio)\n"
      ],
      "metadata": {
        "id": "sATJ8skv3z_H"
      }
    },
    {
      "cell_type": "markdown",
      "source": [
        "#Open File\n",
        "*Syntax: open(filename, mode)*\n",
        "\n",
        "* r  - read\n",
        "* w  - write\n",
        "* a  - append\n",
        "* r+ - write\n",
        "* w+ - write\n"
      ],
      "metadata": {
        "id": "CYyUtjqn33_6"
      }
    },
    {
      "cell_type": "markdown",
      "source": [
        "**r**: open an existing file for read operation. (Default mode)"
      ],
      "metadata": {
        "id": "MRc78atj-Jkn"
      }
    },
    {
      "cell_type": "code",
      "source": [
        "fh = open('file1.txt')"
      ],
      "metadata": {
        "id": "uE1LTQ82K3cm"
      },
      "execution_count": null,
      "outputs": []
    },
    {
      "cell_type": "markdown",
      "source": [
        "**w**: open an existing file for write operation \n",
        "\n",
        "\n",
        "* if file is available it overwrites data\n",
        "* if file is unavilable it creates new file"
      ],
      "metadata": {
        "id": "No8-c5kw-vLF"
      }
    },
    {
      "cell_type": "code",
      "source": [
        "fh=open('filew.txt', 'w')"
      ],
      "metadata": {
        "id": "GDQ5RgQMHIwU"
      },
      "execution_count": null,
      "outputs": []
    },
    {
      "cell_type": "markdown",
      "source": [
        "**a:** append\n",
        "\n",
        "* if file is unavilable it creates new file\n",
        "* perform append no overwrite\n",
        "\n"
      ],
      "metadata": {
        "id": "lFZ8a6Tl_hcC"
      }
    },
    {
      "cell_type": "code",
      "source": [
        "fh = open('file2.txt', 'a')\n"
      ],
      "metadata": {
        "id": "ibZEZ_Ld-0lN"
      },
      "execution_count": null,
      "outputs": []
    },
    {
      "cell_type": "markdown",
      "source": [
        "**r+:** read and write operation(no overwriting)"
      ],
      "metadata": {
        "id": "WZf0DYydACU5"
      }
    },
    {
      "cell_type": "markdown",
      "source": [
        "**w+:** write and read operation"
      ],
      "metadata": {
        "id": "0dBIPVHPBODP"
      }
    },
    {
      "cell_type": "markdown",
      "source": [
        "**a+**: append and read "
      ],
      "metadata": {
        "id": "N6eRIGjT25Sj"
      }
    },
    {
      "cell_type": "markdown",
      "source": [
        "**x:** To open a file in exclusive mode.\n",
        "*FileExistError*"
      ],
      "metadata": {
        "id": "MJsXyyiW9yWM"
      }
    },
    {
      "cell_type": "markdown",
      "source": [
        "File handler is used to get properties of the file\n",
        "\n",
        "* f.name - name of the opened file\n",
        "* f.mode - mode of the file\n",
        "* f.closed - returns boolean value\n",
        "\n",
        "* f.readable()\n",
        "* f.writable()\n",
        "\n"
      ],
      "metadata": {
        "id": "TKGqImxyGRi6"
      }
    },
    {
      "cell_type": "code",
      "source": [
        "print(f'Name of file:{fh.name}')\n",
        "print(f'Mode:{fh.mode}')\n",
        "print(f'Status:{fh.closed}')\n",
        "print(f'Is readble:{fh.readable()}')\n",
        "print(f'Is writable:{fh.writable()}')\n",
        "fh.close()"
      ],
      "metadata": {
        "id": "4MT6xS3PH-ul"
      },
      "execution_count": null,
      "outputs": []
    },
    {
      "cell_type": "code",
      "source": [
        "fh= open('filew.txt')\n",
        "print(f'Name of file:{fh.name}')\n",
        "print(f'Mode:{fh.mode}')\n",
        "print(f'Status:{fh.closed}')\n",
        "print(f'Is readble:{fh.readable()}')\n",
        "print(f'Is writable:{fh.writable()}')\n",
        "fh.close()"
      ],
      "metadata": {
        "id": "fBRMEvO8Kpm9"
      },
      "execution_count": null,
      "outputs": []
    },
    {
      "cell_type": "markdown",
      "source": [
        "# Write a data to a file\n",
        "\n",
        "* write(string)\n",
        "* writelines(list of lines)\n",
        "\n"
      ],
      "metadata": {
        "id": "k1dOc3UYGg5B"
      }
    },
    {
      "cell_type": "code",
      "source": [
        "!pwd"
      ],
      "metadata": {
        "id": "gPbMabxzRsvQ"
      },
      "execution_count": null,
      "outputs": []
    },
    {
      "cell_type": "code",
      "source": [
        "!mkdir gsFiles"
      ],
      "metadata": {
        "id": "35rmsbHzRxhq"
      },
      "execution_count": null,
      "outputs": []
    },
    {
      "cell_type": "code",
      "source": [
        "fh= open('filew.txt', 'w')\n",
        "fh.write('VIT Chennai')\n",
        "fh.write('Python BSCE101E')\n",
        "fh.close()"
      ],
      "metadata": {
        "id": "VkbpSpffOBX9"
      },
      "execution_count": null,
      "outputs": []
    },
    {
      "cell_type": "code",
      "source": [
        "fh= open('/content/gsFiles/filedemo.txt', 'w')\n",
        "fh.write('VIT Chennai\\n')\n",
        "fh.write('Python BSCE101E')\n",
        "fh.close()"
      ],
      "metadata": {
        "id": "kEHY4wyTPPxv"
      },
      "execution_count": null,
      "outputs": []
    },
    {
      "cell_type": "code",
      "source": [
        "fh= open('/content/gsFiles/filedemo.txt', 'a')\n",
        "list1= ['Python\\n', 'Oops\\n', 'DBMS\\n', 'Hadoop\\n', 'Mapreduce\\n']\n",
        "fh.writelines(list1)\n",
        "fh.close()"
      ],
      "metadata": {
        "id": "8H7mstA5QVkR"
      },
      "execution_count": null,
      "outputs": []
    },
    {
      "cell_type": "markdown",
      "source": [
        "#Read data from file\n",
        "* fh.read() - to read all data\n",
        "* fh.read(n) - to read 'n' characters from the file\n",
        "* fh.readline() - to read one line\n",
        "*fh.readlines() - to read all lines into list\n",
        "\n"
      ],
      "metadata": {
        "id": "JV8nG9CjG0v2"
      }
    },
    {
      "cell_type": "code",
      "source": [
        "fh= open('/content/gsFiles/filedemo.txt')\n",
        "data = fh.read()\n",
        "print(data)\n",
        "fh.close()"
      ],
      "metadata": {
        "id": "Ew9D9NvAZ9uo"
      },
      "execution_count": null,
      "outputs": []
    },
    {
      "cell_type": "code",
      "source": [
        "fh= open('/content/gsFiles/filedemo.txt')\n",
        "data = fh.read(21)\n",
        "print(data)\n",
        "fh.close()"
      ],
      "metadata": {
        "id": "VnOjUyz-am8-"
      },
      "execution_count": null,
      "outputs": []
    },
    {
      "cell_type": "code",
      "source": [
        "fh= open('/content/gsFiles/filedemo.txt')\n",
        "l1 = fh.readline()\n",
        "print(l1)\n",
        "l2 = fh.readline()\n",
        "print(l2)\n",
        "l3 = fh.readline()\n",
        "print(l3)\n",
        "fh.close()"
      ],
      "metadata": {
        "id": "_CSJ8fBea6nJ"
      },
      "execution_count": null,
      "outputs": []
    },
    {
      "cell_type": "code",
      "source": [
        "fh= open('/content/gsFiles/filedemo.txt')\n",
        "lines = fh.readlines()\n",
        "for i in lines:\n",
        "  print(i)\n",
        "fh.close()"
      ],
      "metadata": {
        "id": "ysjj5hj2bo3t"
      },
      "execution_count": null,
      "outputs": []
    },
    {
      "cell_type": "markdown",
      "source": [
        "#with statement\n",
        "automatically close the file "
      ],
      "metadata": {
        "id": "p8fPOkCmaT2Y"
      }
    },
    {
      "cell_type": "code",
      "source": [
        "with open('/content/gsFiles/filedemo.txt') as fh:\n",
        "  print(fh.readlines())"
      ],
      "metadata": {
        "id": "DK2yg87XnTRD"
      },
      "execution_count": null,
      "outputs": []
    },
    {
      "cell_type": "markdown",
      "source": [
        "#Write a program to copy one file to another file."
      ],
      "metadata": {
        "id": "mXZ060O4mq0R"
      }
    },
    {
      "cell_type": "code",
      "source": [
        "fh1= open('/content/gsFiles/filedemo.txt', 'r')\n",
        "fh2= open('/content/gsFiles/demo2.txt', 'w')\n",
        "fh2.write(fh1.read())\n",
        "fh2.close()\n"
      ],
      "metadata": {
        "id": "GLvm-vcomrWA"
      },
      "execution_count": null,
      "outputs": []
    },
    {
      "cell_type": "markdown",
      "source": [
        "# Given a character ch write a python program to count number of lines not starting with ch."
      ],
      "metadata": {
        "id": "Lh2hqkVRJbjk"
      }
    },
    {
      "cell_type": "markdown",
      "source": [
        "# Write a function in Python to count and display the total number of words in a text file"
      ],
      "metadata": {
        "id": "vzsewH5UPtes"
      }
    },
    {
      "cell_type": "markdown",
      "source": [
        "#Write a function in Python to read lines from a text file. Your function should find and display the occurrence of the word given by the user."
      ],
      "metadata": {
        "id": "b1ZY5zLSQS50"
      }
    },
    {
      "cell_type": "markdown",
      "source": [
        "#Write a function in python to read lines from a text file, and display the words, which are less than the number of characters given by user"
      ],
      "metadata": {
        "id": "4jA9_2S1KhPw"
      }
    },
    {
      "cell_type": "markdown",
      "source": [
        "#tell()\n",
        "to return current position of the cursor from begining of the file"
      ],
      "metadata": {
        "id": "S0bdefaAWWhb"
      }
    },
    {
      "cell_type": "code",
      "source": [
        "with open('/content/gsFiles/filedemo.txt') as fh:\n",
        "  print(fh.tell())\n",
        "  print(fh.read(5))\n",
        "  print(fh.tell())\n",
        "  print(fh.read(1))\n",
        "  print(fh.tell())\n"
      ],
      "metadata": {
        "id": "mVNf3Di0XKJi"
      },
      "execution_count": null,
      "outputs": []
    },
    {
      "cell_type": "markdown",
      "source": [
        "#seek()\n",
        "change the position of the file handler to specified location\n"
      ],
      "metadata": {
        "id": "zx7bCFHLYGiO"
      }
    },
    {
      "cell_type": "code",
      "source": [
        "with open('/content/gsFiles/filedemo.txt') as fh:\n",
        "  print(fh.seek(17))\n",
        "  print(fh.tell())\n"
      ],
      "metadata": {
        "id": "U6PXRf8YYoAP"
      },
      "execution_count": null,
      "outputs": []
    },
    {
      "cell_type": "markdown",
      "source": [
        "# Write a program to read a line and replace the word using tell() and seek()"
      ],
      "metadata": {
        "id": "wad_wWp0dSCU"
      }
    }
  ]
}