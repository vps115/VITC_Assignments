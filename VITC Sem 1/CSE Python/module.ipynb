{
  "nbformat": 4,
  "nbformat_minor": 0,
  "metadata": {
    "colab": {
      "name": "gsmodule.ipynb",
      "provenance": []
    },
    "kernelspec": {
      "name": "python3",
      "display_name": "Python 3"
    },
    "language_info": {
      "name": "python"
    }
  },
  "cells": [
    {
      "cell_type": "markdown",
      "source": [
        "#Module\n",
        "A module is a file that contains python code that we can use in our program"
      ],
      "metadata": {
        "id": "fAY_bbOxEian"
      }
    },
    {
      "cell_type": "code",
      "source": [
        "def greetings():\n",
        "  print(\"Hi! BSCE101E was an awesome class!!!!\")"
      ],
      "metadata": {
        "id": "m8R7I_wL_e4Z"
      },
      "execution_count": null,
      "outputs": []
    },
    {
      "cell_type": "markdown",
      "source": [
        "#Build-in modules\n",
        "\n",
        "1. math\n",
        "2. datetime\n",
        "3. functools\n",
        "random\n",
        "pathlib\n"
      ],
      "metadata": {
        "id": "GVQjCPQ1E3cg"
      }
    }
  ]
}