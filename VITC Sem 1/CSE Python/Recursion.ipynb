{
  "nbformat": 4,
  "nbformat_minor": 0,
  "metadata": {
    "colab": {
      "name": "Recursion.ipynb",
      "provenance": [],
      "collapsed_sections": []
    },
    "kernelspec": {
      "name": "python3",
      "display_name": "Python 3"
    },
    "language_info": {
      "name": "python"
    }
  },
  "cells": [
    {
      "cell_type": "markdown",
      "metadata": {
        "id": "1rh8Oqez-8uS"
      },
      "source": [
        "# Factorial - Iterative Version"
      ]
    },
    {
      "cell_type": "code",
      "metadata": {
        "id": "JuqalvEG-9Qo"
      },
      "source": [
        "def fn_factorial(n):                   #Fact 0 =1\n",
        "  product =1                           #Fact -ve numbers does not exist\n",
        "  for i in range(1, n+1):\n",
        "    product = product *i\n",
        "  return product\n",
        "\n",
        "n= int(input())\n",
        "if n<0:\n",
        "  print('Factorial is not defined for -ve numbers')\n",
        "else:\n",
        "  print(fn_factorial(n))"
      ],
      "execution_count": null,
      "outputs": []
    },
    {
      "cell_type": "markdown",
      "metadata": {
        "id": "eKPp0xTwHlmk"
      },
      "source": [
        "#Factorial - Recursion"
      ]
    },
    {
      "cell_type": "code",
      "metadata": {
        "id": "QdMhbrRQHw0B"
      },
      "source": [
        "def fn_recurfactorial(n):\n",
        "  #base case  \n",
        "  if n == 0:\n",
        "    return 1\n",
        "    \n",
        "  # recursive function\n",
        "  return n*fn_recurfactorial(n-1)\n",
        "\n",
        "n= int(input())\n",
        "if n<0:\n",
        "  print('Factorial is not defined for -ve numbers')\n",
        "else:\n",
        "  print(fn_recurfactorial(n))"
      ],
      "execution_count": null,
      "outputs": []
    },
    {
      "cell_type": "code",
      "metadata": {
        "id": "Kl6vHDRkmXsx"
      },
      "source": [
        "def xyz():\n",
        "  print(\"Python is awesome\")\n",
        "  xyz()\n",
        "  \n",
        "xyz()"
      ],
      "execution_count": null,
      "outputs": []
    },
    {
      "cell_type": "markdown",
      "source": [
        "#Steps in Recursion\n",
        "#1. Divide big problem into small and simple problems\n",
        "#2. Find a base condition with simple answer\n",
        "#3. Return or roll back answer for base cond. to solve all sub problems\n"
      ],
      "metadata": {
        "id": "Z-AHkfCVt9ij"
      }
    },
    {
      "cell_type": "markdown",
      "source": [
        "# Find the sum of numbers using recusion"
      ],
      "metadata": {
        "id": "HV3tT14ivGGJ"
      }
    },
    {
      "cell_type": "code",
      "source": [
        "def fn_add(n):\n",
        "  #base case  \n",
        "  if n == 1:\n",
        "    return 1\n",
        "    \n",
        "  # recursive function\n",
        "  return n + xyz(n-1)\n",
        "\n",
        "n= int(input())\n",
        "print(fn_add(n))"
      ],
      "metadata": {
        "id": "gUyvKPPopKU8"
      },
      "execution_count": null,
      "outputs": []
    },
    {
      "cell_type": "markdown",
      "metadata": {
        "id": "vVFBh_IWkVEi"
      },
      "source": [
        "#Fibonacci sequence\n",
        "#0th fib no = 0 \n",
        "#1st fib no = 1\n",
        "#2nd fib no = 1\n",
        "#3rd fib no = 2\n",
        "#4th fib no = 3\n",
        "#5th fib no = 5 "
      ]
    },
    {
      "cell_type": "code",
      "metadata": {
        "id": "xY1YZoE7uPzG"
      },
      "source": [
        ""
      ],
      "execution_count": null,
      "outputs": []
    },
    {
      "cell_type": "code",
      "metadata": {
        "id": "fYssJPNGkVU7"
      },
      "source": [
        "n = int(input())\n",
        "a =0\n",
        "b =1\n",
        "if n == 1:\n",
        "  print(a)\n",
        "else:\n",
        "  print(a)\n",
        "  print(b)\n",
        "for i in range(2, n):\n",
        "  c = a + b\n",
        "  a =b\n",
        "  b= c\n",
        "  print(c)"
      ],
      "execution_count": null,
      "outputs": []
    },
    {
      "cell_type": "code",
      "metadata": {
        "id": "Z6vKyUBknpzT"
      },
      "source": [
        "def fibonacci(n):\n",
        "  #base case\n",
        "  if n <2:\n",
        "    return n\n",
        "  else:\n",
        "    return fibonacci(n-1) + fibonacci(n-2)\n",
        "\n",
        "n = int(input())\n",
        "if n<0:\n",
        "  print('Undefined')\n",
        "else:\n",
        "  print(fibonacci(n))"
      ],
      "execution_count": null,
      "outputs": []
    }
  ]
}