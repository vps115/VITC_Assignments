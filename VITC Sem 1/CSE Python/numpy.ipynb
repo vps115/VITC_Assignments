{
  "nbformat": 4,
  "nbformat_minor": 0,
  "metadata": {
    "colab": {
      "name": "gsnumpy.ipynb",
      "provenance": [],
      "collapsed_sections": []
    },
    "kernelspec": {
      "name": "python3",
      "display_name": "Python 3"
    },
    "language_info": {
      "name": "python"
    }
  },
  "cells": [
    {
      "cell_type": "markdown",
      "source": [
        "#Module\n"
      ],
      "metadata": {
        "id": "GKW2Wh7UGd8_"
      }
    },
    {
      "cell_type": "code",
      "source": [
        "from google.colab import files\n",
        "upload = files.upload()"
      ],
      "metadata": {
        "colab": {
          "resources": {
            "http://localhost:8080/nbextensions/google.colab/files.js": {
              "data": "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",
              "ok": true,
              "headers": [
                [
                  "content-type",
                  "application/javascript"
                ]
              ],
              "status": 200,
              "status_text": ""
            }
          },
          "base_uri": "https://localhost:8080/",
          "height": 74
        },
        "id": "wDFIki8SGtWa",
        "outputId": "20783b7c-018b-4345-f618-f2587a29978f"
      },
      "execution_count": null,
      "outputs": [
        {
          "output_type": "display_data",
          "data": {
            "text/html": [
              "\n",
              "     <input type=\"file\" id=\"files-bf234841-5e30-4d36-92e0-1351d76b05b4\" name=\"files[]\" multiple disabled\n",
              "        style=\"border:none\" />\n",
              "     <output id=\"result-bf234841-5e30-4d36-92e0-1351d76b05b4\">\n",
              "      Upload widget is only available when the cell has been executed in the\n",
              "      current browser session. Please rerun this cell to enable.\n",
              "      </output>\n",
              "      <script src=\"/nbextensions/google.colab/files.js\"></script> "
            ],
            "text/plain": [
              "<IPython.core.display.HTML object>"
            ]
          },
          "metadata": {}
        },
        {
          "output_type": "stream",
          "name": "stdout",
          "text": [
            "Saving gsmodule.py to gsmodule.py\n"
          ]
        }
      ]
    },
    {
      "cell_type": "code",
      "source": [
        "from gsmodule import greetings\n",
        "greetings()"
      ],
      "metadata": {
        "colab": {
          "base_uri": "https://localhost:8080/"
        },
        "id": "TduB2ZbPIpiE",
        "outputId": "f2a47d62-c558-4b91-f71e-419a3444c150"
      },
      "execution_count": null,
      "outputs": [
        {
          "output_type": "stream",
          "name": "stdout",
          "text": [
            "Hi! BSCE101E was an awesome class!!!!\n"
          ]
        }
      ]
    },
    {
      "cell_type": "markdown",
      "source": [
        "#Numpy\n",
        "NumPy is a linear algebra library in python.\n",
        "It is very useful for performing mathematical and logical operations on Arrays. \n"
      ],
      "metadata": {
        "id": "ibcvKYU7lxZN"
      }
    },
    {
      "cell_type": "markdown",
      "source": [
        "#array()"
      ],
      "metadata": {
        "id": "_QZh0xc8n602"
      }
    },
    {
      "cell_type": "markdown",
      "source": [
        "#Creating an array in Numpy\n",
        "1. array()\n",
        "2. linspace()\n",
        "3. logspace()\n",
        "4. arange()\n",
        "5. zeros()\n",
        "5. ones()\n",
        "\n"
      ],
      "metadata": {
        "id": "gorZBR-lnSid"
      }
    },
    {
      "cell_type": "code",
      "source": [
        "from numpy import *\n",
        "arr = array([111, 112, 113, 114, 115])\n",
        "print(arr)\n",
        "print(arr.dtype)"
      ],
      "metadata": {
        "colab": {
          "base_uri": "https://localhost:8080/"
        },
        "id": "i5uLi0Mhna6H",
        "outputId": "c2b7618b-53f1-4053-c48a-c4035ba793af"
      },
      "execution_count": null,
      "outputs": [
        {
          "output_type": "stream",
          "name": "stdout",
          "text": [
            "[111.  112.  113.  114.  115.5]\n",
            "float64\n"
          ]
        }
      ]
    },
    {
      "cell_type": "code",
      "source": [
        "from numpy import *\n",
        "arr = array([[111, 112, 113], [114, 115, 116], [117, 118, 119]])\n",
        "print(arr)"
      ],
      "metadata": {
        "colab": {
          "base_uri": "https://localhost:8080/"
        },
        "id": "ZSaRK4-2wPbY",
        "outputId": "c9fb6d4e-d608-4af8-a0ff-925575261990"
      },
      "execution_count": null,
      "outputs": [
        {
          "output_type": "stream",
          "name": "stdout",
          "text": [
            "[[111 112 113]\n",
            " [114 115 116]\n",
            " [117 118 119]]\n"
          ]
        }
      ]
    },
    {
      "cell_type": "markdown",
      "source": [
        "* ndim -> no. of dimensions\n",
        "* shape -> shape of array (len of each dimension)\n",
        "* size -> total no. of elements\n",
        "* len() -> size of the first dimension"
      ],
      "metadata": {
        "id": "jlrBXuTowbrb"
      }
    },
    {
      "cell_type": "code",
      "source": [
        "arr_3D = array([\n",
        "                [(1, 2, 3),(4,5,6),(7,8,9)], \n",
        "                [(11, 12, 13), (14, 15, 16), (17, 18, 19)]\n",
        "                ])\n",
        "print(arr_3D)\n"
      ],
      "metadata": {
        "colab": {
          "base_uri": "https://localhost:8080/"
        },
        "id": "50qIf_4Exmkp",
        "outputId": "b41bb9c4-8122-432b-9d40-e99271f82679"
      },
      "execution_count": null,
      "outputs": [
        {
          "output_type": "stream",
          "name": "stdout",
          "text": [
            "[[[ 1  2  3]\n",
            "  [ 4  5  6]\n",
            "  [ 7  8  9]]\n",
            "\n",
            " [[11 12 13]\n",
            "  [14 15 16]\n",
            "  [17 18 19]]]\n"
          ]
        }
      ]
    },
    {
      "cell_type": "code",
      "source": [
        "print(arr_3D.ndim)\n",
        "print(arr_3D.shape)\n",
        "print(arr_3D.itemsize)  #size of each element"
      ],
      "metadata": {
        "colab": {
          "base_uri": "https://localhost:8080/"
        },
        "id": "CAvkC63W2VTx",
        "outputId": "96be12e7-c5f1-4853-c2ad-d32866d1a454"
      },
      "execution_count": null,
      "outputs": [
        {
          "output_type": "stream",
          "name": "stdout",
          "text": [
            "3\n",
            "(2, 3, 3)\n",
            "8\n"
          ]
        }
      ]
    },
    {
      "cell_type": "markdown",
      "source": [
        "#linspace()\n",
        "* Evenly spaced elements\n",
        "* unlike arange() which takes the third parameter as no. of arguments, linspace() takes no. of datapoints to be created \n",
        "* includes stop value\n",
        "* *retstep* = True -> returns step value"
      ],
      "metadata": {
        "id": "hESxG6Dmn_Mh"
      }
    },
    {
      "cell_type": "code",
      "source": [
        "from numpy import *\n",
        "arr = linspace(110, 150) # The third parameter means number of parts (default = 50)\n",
        "print(arr)"
      ],
      "metadata": {
        "colab": {
          "base_uri": "https://localhost:8080/"
        },
        "id": "5g2i3pUpoBDC",
        "outputId": "e1581465-0f5b-472b-a8c2-2e62065e6d1e"
      },
      "execution_count": null,
      "outputs": [
        {
          "output_type": "stream",
          "name": "stdout",
          "text": [
            "[110.         110.81632653 111.63265306 112.44897959 113.26530612\n",
            " 114.08163265 114.89795918 115.71428571 116.53061224 117.34693878\n",
            " 118.16326531 118.97959184 119.79591837 120.6122449  121.42857143\n",
            " 122.24489796 123.06122449 123.87755102 124.69387755 125.51020408\n",
            " 126.32653061 127.14285714 127.95918367 128.7755102  129.59183673\n",
            " 130.40816327 131.2244898  132.04081633 132.85714286 133.67346939\n",
            " 134.48979592 135.30612245 136.12244898 136.93877551 137.75510204\n",
            " 138.57142857 139.3877551  140.20408163 141.02040816 141.83673469\n",
            " 142.65306122 143.46938776 144.28571429 145.10204082 145.91836735\n",
            " 146.73469388 147.55102041 148.36734694 149.18367347 150.        ]\n"
          ]
        }
      ]
    },
    {
      "cell_type": "markdown",
      "source": [
        "# logspace()\n",
        "* interval between elements is logarthmic\n",
        "* seq starts with base^start (base to the power of start) and ends with base^stop\n",
        "#Parameters\n",
        "* start -> 10^2\n",
        "* stop  -> 10^5\n",
        "* numinteger (optional) -> No. of samples tp generate. Default is 50\n",
        "* endpointboolean, optional -> If True stop is last sample. else not included\n",
        "* base, optional -> The base of logspace. Default is 10\n",
        "* dtype ->The type of the output array. Default is float\n"
      ],
      "metadata": {
        "id": "GXQ8mgzgpSa6"
      }
    },
    {
      "cell_type": "code",
      "source": [
        "from numpy import *\n",
        "arr = logspace(2, 5, 5, base=2.0)  # interval between 2 numbers will depend on the log (10^1 till 10^5- equally divided into 10 parts)\n",
        "\n",
        "print(arr)"
      ],
      "metadata": {
        "id": "NdDj4r1XpWjy",
        "colab": {
          "base_uri": "https://localhost:8080/"
        },
        "outputId": "5bae0bfd-5b80-457f-a92f-083b2825020a"
      },
      "execution_count": null,
      "outputs": [
        {
          "output_type": "stream",
          "name": "stdout",
          "text": [
            "[ 4.          6.72717132 11.3137085  19.02731384 32.        ]\n"
          ]
        }
      ]
    },
    {
      "cell_type": "code",
      "source": [
        "from numpy import *\n",
        "arr = logspace(2, 5, num=10, endpoint= True, base=10.0)\n",
        "print(arr)"
      ],
      "metadata": {
        "colab": {
          "base_uri": "https://localhost:8080/"
        },
        "id": "R7ZYg_saqoPy",
        "outputId": "fc20e92b-b67d-4ca8-a42f-1b3beae87d5e"
      },
      "execution_count": null,
      "outputs": [
        {
          "output_type": "stream",
          "name": "stdout",
          "text": [
            "[   100.            215.443469      464.15888336   1000.\n",
            "   2154.43469003   4641.58883361  10000.          21544.34690032\n",
            "  46415.88833613 100000.        ]\n"
          ]
        }
      ]
    },
    {
      "cell_type": "code",
      "source": [
        "from numpy import *\n",
        "arr = logspace(2, 5, num=10, endpoint= False, base=10.0) # generates only till 10^4\n",
        "print(arr)"
      ],
      "metadata": {
        "colab": {
          "base_uri": "https://localhost:8080/"
        },
        "id": "nUNK6YjOrM_T",
        "outputId": "1285b257-2bcb-45a8-bdc8-202e5ef66841"
      },
      "execution_count": null,
      "outputs": [
        {
          "output_type": "stream",
          "name": "stdout",
          "text": [
            "[  100.           199.5262315    398.10717055   794.32823472\n",
            "  1584.89319246  3162.27766017  6309.5734448  12589.25411794\n",
            " 25118.8643151  50118.72336273]\n"
          ]
        }
      ]
    },
    {
      "cell_type": "markdown",
      "source": [
        "#Generating an array of random numbers\n",
        "An array of random numbers can be generated using rand(), raandn() or randint() functions\n",
        "* random.rand()-> generate an array of random numbers from uniform distribution over 0 to 1\n",
        "* random.randn()-> generate random samples from standard normal or gaussian distribution centered around 0- mean of the values will be  0 and variance will be 1\n",
        "* random.randint() -> generates an array of integers. The arndint() function can take upto 3 arguments: the low (inclusive, high(exclusive) and size of array\n"
      ],
      "metadata": {
        "id": "HVbYC5LHrfkm"
      }
    },
    {
      "cell_type": "code",
      "source": [
        "import matplotlib.pyplot as plt\n",
        "sample_size=100000\n",
        "uniform= np.random.rand(sample_size)\n",
        "normal= np.random.randn(sample_size)\n",
        "\n",
        "pdf, bins, patches = plt.hist(uniform, bins=20, range=(0, 1), density=True)\n",
        "plt.title('rand: uniform')\n",
        "plt.show()\n",
        "\n",
        "pdf, bins, patches = plt.hist(normal, bins=20, range=(-4, 4), density=True)\n",
        "plt.title('randn: normal')\n",
        "plt.show()"
      ],
      "metadata": {
        "colab": {
          "base_uri": "https://localhost:8080/",
          "height": 545
        },
        "id": "FUVsbpTVzW8p",
        "outputId": "dc0c3078-f695-4217-b903-1e9879a78d03"
      },
      "execution_count": null,
      "outputs": [
        {
          "output_type": "display_data",
          "data": {
            "image/png": "[encoded data removed]",
            "text/plain": [
              "<Figure size 432x288 with 1 Axes>"
            ]
          },
          "metadata": {
            "needs_background": "light"
          }
        },
        {
          "output_type": "display_data",
          "data": {
            "image/png": "[encoded data removed]",
            "text/plain": [
              "<Figure size 432x288 with 1 Axes>"
            ]
          },
          "metadata": {
            "needs_background": "light"
          }
        }
      ]
    },
    {
      "cell_type": "code",
      "source": [
        "# rand function\n",
        "r1 = np.random.rand(4)\n",
        "r2 = np.random.rand(3,4)\n",
        "print('1 Dimension')\n",
        "print(r1)\n",
        "print('2 Dimension')\n",
        "print(r2)"
      ],
      "metadata": {
        "colab": {
          "base_uri": "https://localhost:8080/"
        },
        "id": "_SGgSbpD0f7W",
        "outputId": "0c29c747-3c32-4ae6-a612-49e03996e996"
      },
      "execution_count": null,
      "outputs": [
        {
          "output_type": "stream",
          "name": "stdout",
          "text": [
            "1 Dimension\n",
            "[0.98807094 0.10539426 0.05992651 0.20335766]\n",
            "2 Dimension\n",
            "[[0.56321977 0.2361748  0.77675068 0.90249843]\n",
            " [0.41147733 0.38246268 0.4275751  0.37718865]\n",
            " [0.37194107 0.38699298 0.24131496 0.07847157]]\n"
          ]
        }
      ]
    },
    {
      "cell_type": "code",
      "source": [
        "# randn function\n",
        "r1 = np.random.randn(4)\n",
        "r2 = np.random.randn(3,4)\n",
        "print('1 Dimension')\n",
        "print(r1)\n",
        "print('2 Dimension')\n",
        "print(r2)"
      ],
      "metadata": {
        "colab": {
          "base_uri": "https://localhost:8080/"
        },
        "id": "1f6islaLBk4l",
        "outputId": "b1f2acd8-2e1f-4e17-b6d0-a5c626be5563"
      },
      "execution_count": null,
      "outputs": [
        {
          "output_type": "stream",
          "name": "stdout",
          "text": [
            "1 Dimension\n",
            "[-2.51201119  1.83701533 -1.39099085  1.42237702]\n",
            "2 Dimension\n",
            "[[ 0.73094672 -1.0774952   0.89481286  1.51699415]\n",
            " [-0.42520678 -0.24321334  0.42337638 -1.51592496]\n",
            " [-0.61189632  1.7250642  -0.81232805 -0.38447754]]\n"
          ]
        }
      ]
    },
    {
      "cell_type": "code",
      "source": [
        "np.random.randint(20) # generates a random number exclusive of 20"
      ],
      "metadata": {
        "colab": {
          "base_uri": "https://localhost:8080/"
        },
        "id": "gQJeOtFyBuXG",
        "outputId": "aebfcddc-2c80-4fc3-8f21-3a10f61b66e4"
      },
      "execution_count": null,
      "outputs": [
        {
          "output_type": "execute_result",
          "data": {
            "text/plain": [
              "19"
            ]
          },
          "metadata": {},
          "execution_count": 69
        }
      ]
    },
    {
      "cell_type": "code",
      "source": [
        "np.random.randint(15, 20) # start value can be specified"
      ],
      "metadata": {
        "colab": {
          "base_uri": "https://localhost:8080/"
        },
        "id": "V2rU4JHRCL5a",
        "outputId": "d75dab2c-c2ab-4d6d-e290-bc42c65df0bf"
      },
      "execution_count": null,
      "outputs": [
        {
          "output_type": "execute_result",
          "data": {
            "text/plain": [
              "17"
            ]
          },
          "metadata": {},
          "execution_count": 73
        }
      ]
    },
    {
      "cell_type": "code",
      "source": [
        "np.random.randint(1,20,5) # generates 5 random numbers including 10 and excluding 20"
      ],
      "metadata": {
        "colab": {
          "base_uri": "https://localhost:8080/"
        },
        "id": "BsuGqOH4CSWM",
        "outputId": "f37b4643-cc72-43ba-a1ce-ce23b508653b"
      },
      "execution_count": null,
      "outputs": [
        {
          "output_type": "execute_result",
          "data": {
            "text/plain": [
              "array([13, 15,  1, 11,  8])"
            ]
          },
          "metadata": {},
          "execution_count": 75
        }
      ]
    },
    {
      "cell_type": "markdown",
      "source": [
        "#arange()"
      ],
      "metadata": {
        "id": "TnCbNJfyo5GR"
      }
    },
    {
      "cell_type": "code",
      "source": [
        "from numpy import *\n",
        "arr = arange(110, 150, 10) # Here the third parameter is steps \n",
        "print(arr)"
      ],
      "metadata": {
        "colab": {
          "base_uri": "https://localhost:8080/"
        },
        "id": "Bw5uPtnLo7M8",
        "outputId": "1593d725-ffc0-43d0-c94d-de7a929bb1a2"
      },
      "execution_count": null,
      "outputs": [
        {
          "output_type": "stream",
          "name": "stdout",
          "text": [
            "[110 120 130 140]\n"
          ]
        }
      ]
    },
    {
      "cell_type": "code",
      "source": [
        "print('%.2f' %arr[0])"
      ],
      "metadata": {
        "colab": {
          "base_uri": "https://localhost:8080/"
        },
        "id": "fq4UQSmYJpkE",
        "outputId": "3e79bcf1-cde8-4b3a-abcd-10b2765988d3"
      },
      "execution_count": null,
      "outputs": [
        {
          "output_type": "stream",
          "name": "stdout",
          "text": [
            "100.00\n"
          ]
        }
      ]
    },
    {
      "cell_type": "markdown",
      "source": [
        "#zeros()"
      ],
      "metadata": {
        "id": "myPzmHxmMN-G"
      }
    },
    {
      "cell_type": "code",
      "source": [
        "from numpy import *\n",
        "arr = zeros(5) # default it is float\n",
        "print(arr)"
      ],
      "metadata": {
        "colab": {
          "base_uri": "https://localhost:8080/"
        },
        "id": "VekOfXmfMJ8F",
        "outputId": "2271d696-cbd2-4fbe-9661-5615d23a5ca7"
      },
      "execution_count": null,
      "outputs": [
        {
          "output_type": "stream",
          "name": "stdout",
          "text": [
            "[0. 0. 0. 0. 0.]\n"
          ]
        }
      ]
    },
    {
      "cell_type": "code",
      "source": [
        "from numpy import *\n",
        "arr = zeros(5, int) # for int data type\n",
        "print(arr)"
      ],
      "metadata": {
        "colab": {
          "base_uri": "https://localhost:8080/"
        },
        "id": "9yb1-rhqMq2B",
        "outputId": "be2d3a37-75c2-4adf-d275-ba93fa806f0f"
      },
      "execution_count": null,
      "outputs": [
        {
          "output_type": "stream",
          "name": "stdout",
          "text": [
            "[0 0 0 0 0]\n"
          ]
        }
      ]
    },
    {
      "cell_type": "code",
      "source": [
        "from numpy import *\n",
        "arr = zeros([5,4], int) # for int data type\n",
        "print(arr)"
      ],
      "metadata": {
        "colab": {
          "base_uri": "https://localhost:8080/"
        },
        "id": "dBP7wnXLNDtg",
        "outputId": "3672ae89-0c52-4489-89fa-1ae56e3332f8"
      },
      "execution_count": null,
      "outputs": [
        {
          "output_type": "stream",
          "name": "stdout",
          "text": [
            "[[0 0 0 0]\n",
            " [0 0 0 0]\n",
            " [0 0 0 0]\n",
            " [0 0 0 0]\n",
            " [0 0 0 0]]\n"
          ]
        }
      ]
    },
    {
      "cell_type": "markdown",
      "source": [
        "#ones()"
      ],
      "metadata": {
        "id": "ZxhvZ5oZMy7u"
      }
    },
    {
      "cell_type": "code",
      "source": [
        "from numpy import *\n",
        "arr = ones(5, dtype=np.int32) # default it is float\n",
        "print(arr)"
      ],
      "metadata": {
        "colab": {
          "base_uri": "https://localhost:8080/"
        },
        "id": "rFRloRklM0WH",
        "outputId": "8eb151ee-cc23-4d48-b8c7-690494a7cbd3"
      },
      "execution_count": null,
      "outputs": [
        {
          "output_type": "stream",
          "name": "stdout",
          "text": [
            "[1 1 1 1 1]\n"
          ]
        }
      ]
    },
    {
      "cell_type": "markdown",
      "source": [
        "# Identity Matrix - eye()\n",
        "Useful when dealing with linear algebra"
      ],
      "metadata": {
        "id": "SN5ikCpmhiMv"
      }
    },
    {
      "cell_type": "code",
      "source": [
        "e1 = np.eye(5, dtype=int) #generally a square matrix\n",
        "print(e1)"
      ],
      "metadata": {
        "colab": {
          "base_uri": "https://localhost:8080/"
        },
        "id": "eXx2ndfhhy_O",
        "outputId": "8c852a02-0094-425b-dbfe-95bfa24b2e72"
      },
      "execution_count": null,
      "outputs": [
        {
          "output_type": "stream",
          "name": "stdout",
          "text": [
            "[[1 0 0 0 0]\n",
            " [0 1 0 0 0]\n",
            " [0 0 1 0 0]\n",
            " [0 0 0 1 0]\n",
            " [0 0 0 0 1]]\n"
          ]
        }
      ]
    },
    {
      "cell_type": "code",
      "source": [
        "e1=np.eye(4,5,dtype=int) #not a square matrix\n",
        "print(e1)"
      ],
      "metadata": {
        "colab": {
          "base_uri": "https://localhost:8080/"
        },
        "id": "ePoTG8jZiEmO",
        "outputId": "17e1884b-f440-44ec-c74d-e6c04b6c93c7"
      },
      "execution_count": null,
      "outputs": [
        {
          "output_type": "stream",
          "name": "stdout",
          "text": [
            "[[1 0 0 0 0]\n",
            " [0 1 0 0 0]\n",
            " [0 0 1 0 0]\n",
            " [0 0 0 1 0]]\n"
          ]
        }
      ]
    },
    {
      "cell_type": "markdown",
      "source": [
        "# The diagonal can be main, upper, or lower depending on the optional parameter k. \n",
        "* +ve k for upper diagonal\n",
        "* -ve k for lower diagonal\n",
        "* 0 k for the main diagonal"
      ],
      "metadata": {
        "id": "96jkVEWsjMCJ"
      }
    },
    {
      "cell_type": "code",
      "source": [
        "e1= np.eye(4,5,k=-1, dtype=float)\n",
        "print(e1)"
      ],
      "metadata": {
        "colab": {
          "base_uri": "https://localhost:8080/"
        },
        "id": "oCnQ4qqniZ7B",
        "outputId": "5be7f486-6b0d-4560-ec20-2e26a0137586"
      },
      "execution_count": null,
      "outputs": [
        {
          "output_type": "stream",
          "name": "stdout",
          "text": [
            "[[0. 0. 0. 0. 0.]\n",
            " [1. 0. 0. 0. 0.]\n",
            " [0. 1. 0. 0. 0.]\n",
            " [0. 0. 1. 0. 0.]]\n"
          ]
        }
      ]
    },
    {
      "cell_type": "markdown",
      "source": [
        "#Why Numpy when list is there\n",
        "Numpy arrays consumes less memory than lists.\n",
        "\n",
        "* no memory restriction in list(int64)\n",
        "* homogeneous"
      ],
      "metadata": {
        "id": "EQhEoY_3m0FK"
      }
    },
    {
      "cell_type": "code",
      "source": [
        "import numpy as np\n",
        "import sys\n",
        "s= list(range(100000))              # creating sequence of elements and converting to list\n",
        "print(sys.getsizeof(100000)*len(s)) # computing bytes allocated\n",
        "d = np.arange(100000)                # numpy array\n",
        "print(d.size*d.itemsize)            # memory allocated for one item in np array d.itemsize\n"
      ],
      "metadata": {
        "id": "TpL0DHipnAl2",
        "colab": {
          "base_uri": "https://localhost:8080/"
        },
        "outputId": "b1624c5a-7508-4d7b-d371-8f3d3c55e889"
      },
      "execution_count": null,
      "outputs": [
        {
          "output_type": "stream",
          "name": "stdout",
          "text": [
            "2800000\n",
            "800000\n"
          ]
        }
      ]
    },
    {
      "cell_type": "markdown",
      "source": [
        "#Numpy array work faster than list"
      ],
      "metadata": {
        "id": "C5QwaAlEuin6"
      }
    },
    {
      "cell_type": "code",
      "source": [
        "import time\n",
        "t1= time.time() #current time\n",
        "x1= range(100000)\n",
        "y1= range(100000)\n",
        "z1 =[x1[i] + y1[i] for i in range(len(x1))]\n",
        "print(time.time()-t1)"
      ],
      "metadata": {
        "colab": {
          "base_uri": "https://localhost:8080/"
        },
        "id": "oUIpqQSmumg4",
        "outputId": "c2afa3a6-e1e8-45d5-c09f-6a634033f1d5"
      },
      "execution_count": null,
      "outputs": [
        {
          "output_type": "stream",
          "name": "stdout",
          "text": [
            "0.04836106300354004\n"
          ]
        }
      ]
    },
    {
      "cell_type": "code",
      "source": [
        "import numpy as np\n",
        "t2= time.time() #current time\n",
        "x2= np.arange(100000)\n",
        "y2= np.arange(100000)\n",
        "z2 = x2+y2\n",
        "print(time.time()-t2)"
      ],
      "metadata": {
        "colab": {
          "base_uri": "https://localhost:8080/"
        },
        "id": "AxAMEFYnvKfI",
        "outputId": "a79b7c33-fd43-4127-c28c-caf0f5642562"
      },
      "execution_count": null,
      "outputs": [
        {
          "output_type": "stream",
          "name": "stdout",
          "text": [
            "0.008231163024902344\n"
          ]
        }
      ]
    },
    {
      "cell_type": "markdown",
      "source": [
        "Creating a numpy array\n"
      ],
      "metadata": {
        "id": "xJxEaY2C4MYh"
      }
    },
    {
      "cell_type": "code",
      "source": [
        "import numpy as np\n",
        "arr_1D = np.array([1,2,3,4,5])\n",
        "print(arr_1D)"
      ],
      "metadata": {
        "colab": {
          "base_uri": "https://localhost:8080/"
        },
        "id": "qaUMLZ5o4V-C",
        "outputId": "9b0e828a-e488-4e92-f72b-61251a702b07"
      },
      "execution_count": null,
      "outputs": [
        {
          "output_type": "stream",
          "name": "stdout",
          "text": [
            "[1 2 3 4 5]\n"
          ]
        }
      ]
    },
    {
      "cell_type": "code",
      "source": [
        "arr_2D = np.array([[1,2,3], [4,5,6]])\n",
        "print(arr_2D)"
      ],
      "metadata": {
        "colab": {
          "base_uri": "https://localhost:8080/"
        },
        "id": "VOgutZAh4erS",
        "outputId": "92efc146-239d-4e53-955b-5c7a0d012fb5"
      },
      "execution_count": null,
      "outputs": [
        {
          "output_type": "stream",
          "name": "stdout",
          "text": [
            "[[1 2 3]\n",
            " [4 5 6]]\n"
          ]
        }
      ]
    },
    {
      "cell_type": "code",
      "source": [
        "arr_3D = np.array([\n",
        "                   [[1,2,3], [4,5,6], [7,8,9]],\n",
        "                   [[11, 12, 12], [14, 15, 16], [17, 18, 19]]\n",
        "                   ])\n",
        "print(arr_3D)"
      ],
      "metadata": {
        "colab": {
          "base_uri": "https://localhost:8080/"
        },
        "id": "5yK8L0JB4t6V",
        "outputId": "e58dea08-7f83-49ac-da52-547e9a13354f"
      },
      "execution_count": null,
      "outputs": [
        {
          "output_type": "stream",
          "name": "stdout",
          "text": [
            "[[[ 1  2  3]\n",
            "  [ 4  5  6]\n",
            "  [ 7  8  9]]\n",
            "\n",
            " [[11 12 12]\n",
            "  [14 15 16]\n",
            "  [17 18 19]]]\n"
          ]
        }
      ]
    },
    {
      "cell_type": "markdown",
      "source": [
        "#ndim -> Dimension of the array"
      ],
      "metadata": {
        "id": "UHJe_lIA5yLD"
      }
    },
    {
      "cell_type": "code",
      "source": [
        "import numpy as np\n",
        "print(arr_3D.ndim)"
      ],
      "metadata": {
        "colab": {
          "base_uri": "https://localhost:8080/"
        },
        "id": "8bbo84EI5xa1",
        "outputId": "5a6a5b61-9188-43f0-e02f-90db237ab186"
      },
      "execution_count": null,
      "outputs": [
        {
          "output_type": "stream",
          "name": "stdout",
          "text": [
            "3\n"
          ]
        }
      ]
    },
    {
      "cell_type": "code",
      "source": [
        "#Shape -> len of each dimension\n",
        "print(arr_3D.shape)"
      ],
      "metadata": {
        "colab": {
          "base_uri": "https://localhost:8080/"
        },
        "id": "Rht4I06c6LHv",
        "outputId": "7cc3116f-06b8-49b0-dc42-be4a7869f349"
      },
      "execution_count": null,
      "outputs": [
        {
          "output_type": "stream",
          "name": "stdout",
          "text": [
            "(2, 3, 3)\n"
          ]
        }
      ]
    },
    {
      "cell_type": "code",
      "source": [
        "#itemsize-> how many bytes will be allocated for each item in the array\n",
        "print(arr_3D.itemsize)"
      ],
      "metadata": {
        "id": "CHrqwVKX6VyR",
        "colab": {
          "base_uri": "https://localhost:8080/"
        },
        "outputId": "23ed6324-ef73-4b8a-92b3-390e6cba5360"
      },
      "execution_count": null,
      "outputs": [
        {
          "output_type": "stream",
          "name": "stdout",
          "text": [
            "8\n"
          ]
        }
      ]
    },
    {
      "cell_type": "code",
      "source": [
        "#dtype -> data type of elements in arrray\n",
        "print(arr_3D.dtype)"
      ],
      "metadata": {
        "colab": {
          "base_uri": "https://localhost:8080/"
        },
        "id": "4IZELoxoSKuM",
        "outputId": "8a59fcdf-c524-4efc-8386-1e81ca127919"
      },
      "execution_count": null,
      "outputs": [
        {
          "output_type": "stream",
          "name": "stdout",
          "text": [
            "int64\n"
          ]
        }
      ]
    },
    {
      "cell_type": "code",
      "source": [
        "#size -> add the elements in each dimension\n",
        "print(arr_3D.size)"
      ],
      "metadata": {
        "colab": {
          "base_uri": "https://localhost:8080/"
        },
        "id": "4wtsNDdOS_Fb",
        "outputId": "23304608-41c4-463d-e31b-1b76cfd02d9c"
      },
      "execution_count": null,
      "outputs": [
        {
          "output_type": "stream",
          "name": "stdout",
          "text": [
            "18\n"
          ]
        }
      ]
    },
    {
      "cell_type": "markdown",
      "source": [
        "# Accessing elements of an array/ Indexing in Numpy\n",
        "\n",
        "* One dimensional\n",
        "* Two dimnensional \n",
        "* Three dimensional"
      ],
      "metadata": {
        "id": "shEo-_EVTbZD"
      }
    },
    {
      "cell_type": "code",
      "source": [
        "print(arr_1D)\n",
        "print(arr_1D[4])"
      ],
      "metadata": {
        "colab": {
          "base_uri": "https://localhost:8080/"
        },
        "id": "l-MumUMgTiKC",
        "outputId": "81c6a647-517c-49e7-e452-00044e037910"
      },
      "execution_count": null,
      "outputs": [
        {
          "output_type": "stream",
          "name": "stdout",
          "text": [
            "[1 2 3 4 5]\n",
            "5\n"
          ]
        }
      ]
    },
    {
      "cell_type": "code",
      "source": [
        "print(arr_2D) \n",
        "print(arr_2D[1][1]) #both representations are valid\n",
        "print(arr_2D[1,2])"
      ],
      "metadata": {
        "colab": {
          "base_uri": "https://localhost:8080/"
        },
        "id": "M5Ek0kuiUCMy",
        "outputId": "a564faaf-bdb3-4151-db78-5584d3aa8ada"
      },
      "execution_count": null,
      "outputs": [
        {
          "output_type": "stream",
          "name": "stdout",
          "text": [
            "[[1 2 3]\n",
            " [4 5 6]]\n",
            "5\n",
            "6\n"
          ]
        }
      ]
    },
    {
      "cell_type": "code",
      "source": [
        "print(arr_3D)\n",
        "print(arr_3D[0][1][1])\n",
        "print(arr_3D[1,1,1])"
      ],
      "metadata": {
        "colab": {
          "base_uri": "https://localhost:8080/"
        },
        "id": "bXVbexVvUW6g",
        "outputId": "bac25b34-3af5-4e4b-9bf3-6d87718e31b2"
      },
      "execution_count": null,
      "outputs": [
        {
          "output_type": "stream",
          "name": "stdout",
          "text": [
            "[[[ 1  2  3]\n",
            "  [ 4  5  6]\n",
            "  [ 7  8  9]]\n",
            "\n",
            " [[11 12 12]\n",
            "  [14 15 16]\n",
            "  [17 18 19]]]\n",
            "5\n",
            "15\n"
          ]
        }
      ]
    },
    {
      "cell_type": "markdown",
      "source": [
        "#Reshaping an array in Numpy \n",
        "Used to reshape an arrays in Numpy"
      ],
      "metadata": {
        "id": "RJqQDOKsVkb-"
      }
    },
    {
      "cell_type": "code",
      "source": [
        "oneD= np.arange(1,25)\n",
        "print(oneD)"
      ],
      "metadata": {
        "colab": {
          "base_uri": "https://localhost:8080/"
        },
        "id": "Zu5TpO77VnZu",
        "outputId": "bd07cc99-7e31-4a9a-b5e8-87677b191fa9"
      },
      "execution_count": null,
      "outputs": [
        {
          "output_type": "stream",
          "name": "stdout",
          "text": [
            "[ 1  2  3  4  5  6  7  8  9 10 11 12 13 14 15 16 17 18 19 20 21 22 23 24]\n"
          ]
        }
      ]
    },
    {
      "cell_type": "code",
      "source": [
        "twoD= oneD.reshape(6,4)\n",
        "print(twoD)"
      ],
      "metadata": {
        "colab": {
          "base_uri": "https://localhost:8080/"
        },
        "outputId": "cb45b326-6141-4c81-8515-606dd60747dd",
        "id": "E38jzgdLWaur"
      },
      "execution_count": null,
      "outputs": [
        {
          "output_type": "stream",
          "name": "stdout",
          "text": [
            "[[ 1  2  3  4]\n",
            " [ 5  6  7  8]\n",
            " [ 9 10 11 12]\n",
            " [13 14 15 16]\n",
            " [17 18 19 20]\n",
            " [21 22 23 24]]\n"
          ]
        }
      ]
    },
    {
      "cell_type": "markdown",
      "source": [
        "# Ravel a 2D array -> flattening the arrays\n",
        "convert from 2D to 1D\n",
        "1. ravel\n",
        "2. reshape"
      ],
      "metadata": {
        "id": "mYKKeCAOWoFH"
      }
    },
    {
      "cell_type": "code",
      "source": [
        "new_OneD = np.ravel(twoD) # Using ravel\n",
        "print(new_OneD)"
      ],
      "metadata": {
        "colab": {
          "base_uri": "https://localhost:8080/"
        },
        "id": "hSgjmAPdWzDN",
        "outputId": "657a9e88-3619-4680-fbce-fba1d6931ffe"
      },
      "execution_count": null,
      "outputs": [
        {
          "output_type": "stream",
          "name": "stdout",
          "text": [
            "[ 1  2  3  4  5  6  7  8  9 10 11 12 13 14 15 16 17 18 19 20 21 22 23 24]\n"
          ]
        }
      ]
    },
    {
      "cell_type": "code",
      "source": [
        "new_OneD1 = twoD.reshape(-1)\n",
        "print(new_OneD1)"
      ],
      "metadata": {
        "colab": {
          "base_uri": "https://localhost:8080/"
        },
        "id": "rS2LINrsXKvC",
        "outputId": "9579c0fb-9864-4ae0-d4eb-000f1f370843"
      },
      "execution_count": null,
      "outputs": [
        {
          "output_type": "stream",
          "name": "stdout",
          "text": [
            "[ 1  2  3  4  5  6  7  8  9 10 11 12 13 14 15 16 17 18 19 20 21 22 23 24]\n"
          ]
        }
      ]
    },
    {
      "cell_type": "code",
      "source": [
        "new_OneD1 = arr_3D.reshape(-1)\n",
        "print(new_OneD1)"
      ],
      "metadata": {
        "colab": {
          "base_uri": "https://localhost:8080/"
        },
        "id": "vw3DoVHuXljX",
        "outputId": "b2a20957-4248-420d-dd90-33d8eaceec8d"
      },
      "execution_count": null,
      "outputs": [
        {
          "output_type": "stream",
          "name": "stdout",
          "text": [
            "[ 1  2  3  4  5  6  7  8  9 11 12 12 14 15 16 17 18 19]\n"
          ]
        }
      ]
    },
    {
      "cell_type": "markdown",
      "source": [
        "#Slicing in Numpy"
      ],
      "metadata": {
        "id": "uSCAb5XwZLIL"
      }
    },
    {
      "cell_type": "code",
      "source": [
        "two_D = np.arange(0,36).reshape(6,6)\n",
        "print(two_D)"
      ],
      "metadata": {
        "colab": {
          "base_uri": "https://localhost:8080/"
        },
        "id": "tWp1ZPs8ZOTb",
        "outputId": "96468ad5-ccc3-4176-c11b-ceeda24e245e"
      },
      "execution_count": null,
      "outputs": [
        {
          "output_type": "stream",
          "name": "stdout",
          "text": [
            "[[ 0  1  2  3  4  5]\n",
            " [ 6  7  8  9 10 11]\n",
            " [12 13 14 15 16 17]\n",
            " [18 19 20 21 22 23]\n",
            " [24 25 26 27 28 29]\n",
            " [30 31 32 33 34 35]]\n"
          ]
        }
      ]
    },
    {
      "cell_type": "code",
      "source": [
        "s= two_D[1:4, 3:6]\n",
        "print(s)"
      ],
      "metadata": {
        "colab": {
          "base_uri": "https://localhost:8080/"
        },
        "id": "NkUfUgN6Zrpg",
        "outputId": "88475ebe-d27d-43c9-abec-c572ae3a68ff"
      },
      "execution_count": null,
      "outputs": [
        {
          "output_type": "stream",
          "name": "stdout",
          "text": [
            "[[ 9 10 11]\n",
            " [15 16 17]\n",
            " [21 22 23]]\n"
          ]
        }
      ]
    },
    {
      "cell_type": "code",
      "source": [
        "print(two_D)\n",
        "sub = two_D[1:, 3:6] #ignore that start or stop value\n",
        "print(sub)"
      ],
      "metadata": {
        "colab": {
          "base_uri": "https://localhost:8080/"
        },
        "id": "mD_Rcoo8gGAP",
        "outputId": "3dc18d61-8969-42d0-8f7a-ddf25f7a9fcb"
      },
      "execution_count": null,
      "outputs": [
        {
          "output_type": "stream",
          "name": "stdout",
          "text": [
            "[[ 0  1  2  3  4  5]\n",
            " [ 6  7  8  9 10 11]\n",
            " [12 13 14 15 16 17]\n",
            " [18 19 20 21 22 23]\n",
            " [24 25 26 27 28 29]\n",
            " [30 31 32 33 34 35]]\n",
            "[[ 9 10 11]\n",
            " [15 16 17]\n",
            " [21 22 23]\n",
            " [27 28 29]\n",
            " [33 34 35]]\n"
          ]
        }
      ]
    },
    {
      "cell_type": "markdown",
      "source": [
        "# Arithmetic Operations\n",
        "Numerical operators are defined in Numpy to do basic arithmetic operations elementwise."
      ],
      "metadata": {
        "id": "6DmO9s42Cs0c"
      }
    },
    {
      "cell_type": "code",
      "source": [
        "a= np.array([(1,2,3,4,5)])\n",
        "b= np.array([(0.5,1,1.5,2,2.5)])\n",
        "print('Addition')\n",
        "print(a+b)\n",
        "print('Subtraction')\n",
        "print(a-b)\n",
        "print('Multiplication')\n",
        "print(a*b)\n",
        "print('Division')\n",
        "print(a/b)"
      ],
      "metadata": {
        "colab": {
          "base_uri": "https://localhost:8080/"
        },
        "id": "Zw4NNsbwCr36",
        "outputId": "1df951dd-1610-47b4-a2ee-1a5b381edbd4"
      },
      "execution_count": null,
      "outputs": [
        {
          "output_type": "stream",
          "name": "stdout",
          "text": [
            "Addition\n",
            "[[1.5 3.  4.5 6.  7.5]]\n",
            "Subtraction\n",
            "[[0.5 1.  1.5 2.  2.5]]\n",
            "Multiplication\n",
            "[[ 0.5  2.   4.5  8.  12.5]]\n",
            "Division\n",
            "[[2. 2. 2. 2. 2.]]\n"
          ]
        }
      ]
    },
    {
      "cell_type": "markdown",
      "source": [
        "#Broadcasting\n",
        "Numpy's broadcasting rule relaxes the constraint that arthimetic operation on arrays work on an element-by-element basis.\n",
        "The simplest broadcasting example is when array vaue are combined in an operation\n",
        "\n",
        "* Add an integer to a numpy array"
      ],
      "metadata": {
        "id": "rQFR9UGRDqHR"
      }
    },
    {
      "cell_type": "code",
      "source": [
        "e = a +50 # This adds 50 to every element in that array\n",
        "print(e)"
      ],
      "metadata": {
        "colab": {
          "base_uri": "https://localhost:8080/"
        },
        "id": "-ccKuFKTE4rz",
        "outputId": "8a965a07-e8db-4608-9d24-3950fbb8214a"
      },
      "execution_count": null,
      "outputs": [
        {
          "output_type": "stream",
          "name": "stdout",
          "text": [
            "[[51 52 53 54 55]]\n"
          ]
        }
      ]
    },
    {
      "cell_type": "markdown",
      "source": [
        "#Mathematical functions\n",
        "Mathematical functions are also applied for each element of the numpy array"
      ],
      "metadata": {
        "id": "2XZb9K1PFY57"
      }
    },
    {
      "cell_type": "code",
      "source": [
        "sr= np.sqrt(a)\n",
        "print(sr)"
      ],
      "metadata": {
        "colab": {
          "base_uri": "https://localhost:8080/"
        },
        "id": "EYzha8k3FoEv",
        "outputId": "0e87a157-a24a-47ea-f072-3f42f6b0f9bc"
      },
      "execution_count": null,
      "outputs": [
        {
          "output_type": "stream",
          "name": "stdout",
          "text": [
            "[[1.         1.41421356 1.73205081 2.         2.23606798]]\n"
          ]
        }
      ]
    },
    {
      "cell_type": "code",
      "source": [
        "ex=np.exp(a)\n",
        "print(ex)"
      ],
      "metadata": {
        "colab": {
          "base_uri": "https://localhost:8080/"
        },
        "id": "xLb6dR0LFwsx",
        "outputId": "18128112-0b6e-44cc-c145-6b59d5bb1d4b"
      },
      "execution_count": null,
      "outputs": [
        {
          "output_type": "stream",
          "name": "stdout",
          "text": [
            "[[  2.71828183   7.3890561   20.08553692  54.59815003 148.4131591 ]]\n"
          ]
        }
      ]
    },
    {
      "cell_type": "code",
      "source": [
        "arr = np.array([1,2,3,9])\n",
        "s= np.sin(arr)   # returns sin of each element\n",
        "print(s)"
      ],
      "metadata": {
        "colab": {
          "base_uri": "https://localhost:8080/"
        },
        "id": "nKRRILhJJoth",
        "outputId": "63a6687b-cd89-4bdc-a568-dc644de50e39"
      },
      "execution_count": null,
      "outputs": [
        {
          "output_type": "stream",
          "name": "stdout",
          "text": [
            "[0.84147098 0.90929743 0.14112001 0.41211849]\n"
          ]
        }
      ]
    },
    {
      "cell_type": "code",
      "source": [
        "arr = np.array([1,2,3,9])\n",
        "s= np.cos(arr)   # returns cos of each element\n",
        "print(s)"
      ],
      "metadata": {
        "colab": {
          "base_uri": "https://localhost:8080/"
        },
        "id": "d95ilBzjJ3iH",
        "outputId": "b836458b-6b5f-470f-eb60-8589f24ed16b"
      },
      "execution_count": null,
      "outputs": [
        {
          "output_type": "stream",
          "name": "stdout",
          "text": [
            "[ 0.54030231 -0.41614684 -0.9899925  -0.91113026]\n"
          ]
        }
      ]
    },
    {
      "cell_type": "code",
      "source": [
        "arr = np.array([1,2,3,9])\n",
        "s= np.log(arr)   # returns log of each element\n",
        "print(s)"
      ],
      "metadata": {
        "colab": {
          "base_uri": "https://localhost:8080/"
        },
        "id": "S60fe8SDJ8fH",
        "outputId": "eb81b778-a3c1-4acb-db2f-49b0fd36583e"
      },
      "execution_count": null,
      "outputs": [
        {
          "output_type": "stream",
          "name": "stdout",
          "text": [
            "[0.         0.69314718 1.09861229 2.19722458]\n"
          ]
        }
      ]
    },
    {
      "cell_type": "code",
      "source": [
        "arr = np.array([1,2,3,9])\n",
        "s= np.sum(arr)   # returns sum of elements\n",
        "print(s)"
      ],
      "metadata": {
        "colab": {
          "base_uri": "https://localhost:8080/"
        },
        "id": "W8GwQRmeKQn3",
        "outputId": "1b067f36-fefd-4841-a72e-c5cbce0faa44"
      },
      "execution_count": null,
      "outputs": [
        {
          "output_type": "stream",
          "name": "stdout",
          "text": [
            "15\n"
          ]
        }
      ]
    },
    {
      "cell_type": "code",
      "source": [
        "arr = np.array([1,2,3,9])\n",
        "s= np.std(arr)   # returns standard deviation elements\n",
        "print(s)"
      ],
      "metadata": {
        "id": "WpGSybU0KZE1"
      },
      "execution_count": null,
      "outputs": []
    },
    {
      "cell_type": "markdown",
      "source": [
        "#Sum of elements in 2D Array"
      ],
      "metadata": {
        "id": "THfCVVZSK2VE"
      }
    },
    {
      "cell_type": "code",
      "source": [
        "twoD"
      ],
      "metadata": {
        "colab": {
          "base_uri": "https://localhost:8080/"
        },
        "id": "hZg3-uLkK6PK",
        "outputId": "83f9b88c-17d3-4a0b-aaf7-9600e9ed292b"
      },
      "execution_count": null,
      "outputs": [
        {
          "output_type": "execute_result",
          "data": {
            "text/plain": [
              "array([[ 1,  2,  3,  4],\n",
              "       [ 5,  6,  7,  8],\n",
              "       [ 9, 10, 11, 12],\n",
              "       [13, 14, 15, 16],\n",
              "       [17, 18, 19, 20],\n",
              "       [21, 22, 23, 24]])"
            ]
          },
          "metadata": {},
          "execution_count": 85
        }
      ]
    },
    {
      "cell_type": "code",
      "source": [
        "twoD.sum()  #returns the sum of all the values in twoD"
      ],
      "metadata": {
        "colab": {
          "base_uri": "https://localhost:8080/"
        },
        "id": "1G1PpP12K-PE",
        "outputId": "d751f71d-5c46-4ad8-bb51-9f0db87d65ef"
      },
      "execution_count": null,
      "outputs": [
        {
          "output_type": "execute_result",
          "data": {
            "text/plain": [
              "300"
            ]
          },
          "metadata": {},
          "execution_count": 86
        }
      ]
    },
    {
      "cell_type": "code",
      "source": [
        "twoD.sum(axis=0) #returns the sum of elements (add along rows)"
      ],
      "metadata": {
        "colab": {
          "base_uri": "https://localhost:8080/"
        },
        "id": "AeqRRq-KLKg7",
        "outputId": "a9106fdf-b8ec-4085-912e-6b10b3bc8400"
      },
      "execution_count": null,
      "outputs": [
        {
          "output_type": "execute_result",
          "data": {
            "text/plain": [
              "array([66, 72, 78, 84])"
            ]
          },
          "metadata": {},
          "execution_count": 90
        }
      ]
    },
    {
      "cell_type": "code",
      "source": [
        "twoD.sum(axis=1)  #returns the sum of elements column-wise (add along columns)"
      ],
      "metadata": {
        "colab": {
          "base_uri": "https://localhost:8080/"
        },
        "id": "5aDnzMH0LjvG",
        "outputId": "ddca4b2e-ec39-477d-f6f7-f1b8f3297bb0"
      },
      "execution_count": null,
      "outputs": [
        {
          "output_type": "execute_result",
          "data": {
            "text/plain": [
              "array([10, 26, 42, 58, 74, 90])"
            ]
          },
          "metadata": {},
          "execution_count": 91
        }
      ]
    },
    {
      "cell_type": "markdown",
      "source": [
        "#Maximum and Minimum elements\n",
        "max() and min() functions are used to find maximum and minimum value in an array\n",
        "\n",
        "argmax() and argmin() functions are used to fin dthe index of max and min elements"
      ],
      "metadata": {
        "id": "ohyiQBEHMds4"
      }
    },
    {
      "cell_type": "code",
      "source": [
        "print(twoD)"
      ],
      "metadata": {
        "colab": {
          "base_uri": "https://localhost:8080/"
        },
        "id": "8yMBBVxCMz1p",
        "outputId": "d208f29c-1771-4178-d0df-22b64e890e13"
      },
      "execution_count": null,
      "outputs": [
        {
          "output_type": "stream",
          "name": "stdout",
          "text": [
            "[[ 1  2  3  4]\n",
            " [ 5  6  7  8]\n",
            " [ 9 10 11 12]\n",
            " [13 14 15 16]\n",
            " [17 18 19 20]\n",
            " [21 22 23 24]]\n"
          ]
        }
      ]
    },
    {
      "cell_type": "code",
      "source": [
        "twoD.max()"
      ],
      "metadata": {
        "colab": {
          "base_uri": "https://localhost:8080/"
        },
        "id": "y_5a3Rp7M3d7",
        "outputId": "7ce58cfb-a6a4-4367-8d4a-9c1ebf069769"
      },
      "execution_count": null,
      "outputs": [
        {
          "output_type": "execute_result",
          "data": {
            "text/plain": [
              "24"
            ]
          },
          "metadata": {},
          "execution_count": 94
        }
      ]
    },
    {
      "cell_type": "code",
      "source": [
        "twoD.min()"
      ],
      "metadata": {
        "colab": {
          "base_uri": "https://localhost:8080/"
        },
        "id": "A5Fp-CFfM84U",
        "outputId": "fb993d9f-a3d5-48af-93a9-8ff8e2de33ea"
      },
      "execution_count": null,
      "outputs": [
        {
          "output_type": "execute_result",
          "data": {
            "text/plain": [
              "1"
            ]
          },
          "metadata": {},
          "execution_count": 95
        }
      ]
    },
    {
      "cell_type": "code",
      "source": [
        "twoD.argmax()"
      ],
      "metadata": {
        "colab": {
          "base_uri": "https://localhost:8080/"
        },
        "id": "WpGr2xAyNCMx",
        "outputId": "4f7edb0b-d0fb-4e6c-b62e-4329d456e124"
      },
      "execution_count": null,
      "outputs": [
        {
          "output_type": "execute_result",
          "data": {
            "text/plain": [
              "23"
            ]
          },
          "metadata": {},
          "execution_count": 96
        }
      ]
    },
    {
      "cell_type": "code",
      "source": [
        "twoD.argmin()"
      ],
      "metadata": {
        "colab": {
          "base_uri": "https://localhost:8080/"
        },
        "id": "S5kl1xErNEcg",
        "outputId": "9438b7f9-c7ea-49b8-bc11-1206905a0957"
      },
      "execution_count": null,
      "outputs": [
        {
          "output_type": "execute_result",
          "data": {
            "text/plain": [
              "0"
            ]
          },
          "metadata": {},
          "execution_count": 97
        }
      ]
    },
    {
      "cell_type": "markdown",
      "source": [
        "#Stacking of arrays in Numpy\n",
        "We can either horizontally or vertically stack on array into another array\n",
        "1. Horizontal stack -> *hstack()*\n",
        "2. vertical stack -> *vstack()*"
      ],
      "metadata": {
        "id": "vVewxscyNI-V"
      }
    },
    {
      "cell_type": "code",
      "source": [
        "# add along x axis, number of rows should be same\n",
        "a= np.array([(1,2,3),(4,5,6)])\n",
        "b= np.array([(0.5,1,1.5),(2,2.5,3)])\n",
        "c= np.hstack((a,b))\n",
        "print('AAAA')\n",
        "print(a)\n",
        "print('BBBB')\n",
        "print(b)\n",
        "print('CCCCC')\n",
        "print(c)"
      ],
      "metadata": {
        "colab": {
          "base_uri": "https://localhost:8080/"
        },
        "id": "6VoUqrHaNIDg",
        "outputId": "c14bbcc0-6e72-4195-fe1e-76996eac0767"
      },
      "execution_count": null,
      "outputs": [
        {
          "output_type": "stream",
          "name": "stdout",
          "text": [
            "AAAA\n",
            "[[1 2 3]\n",
            " [4 5 6]]\n",
            "BBBB\n",
            "[[0.5 1.  1.5]\n",
            " [2.  2.5 3. ]]\n",
            "CCCCC\n",
            "[[1.  2.  3.  0.5 1.  1.5]\n",
            " [4.  5.  6.  2.  2.5 3. ]]\n"
          ]
        }
      ]
    },
    {
      "cell_type": "code",
      "source": [
        "a= np.array([(1,2,3),(4,5,6)])\n",
        "b= np.array([(0.5,1,1.5),(2,2.5,3)])\n",
        "c= np.vstack((a,b))\n",
        "print('AAAA')\n",
        "print(a)\n",
        "print('BBBB')\n",
        "print(b)\n",
        "print('CCCCC')\n",
        "print(c)"
      ],
      "metadata": {
        "colab": {
          "base_uri": "https://localhost:8080/"
        },
        "id": "CKpg2IGuPqto",
        "outputId": "f34a86b9-aab1-49f9-d381-d91d570d5e9b"
      },
      "execution_count": null,
      "outputs": [
        {
          "output_type": "stream",
          "name": "stdout",
          "text": [
            "AAAA\n",
            "[[1 2 3]\n",
            " [4 5 6]]\n",
            "BBBB\n",
            "[[0.5 1.  1.5]\n",
            " [2.  2.5 3. ]]\n",
            "CCCCC\n",
            "[[1.  2.  3. ]\n",
            " [4.  5.  6. ]\n",
            " [0.5 1.  1.5]\n",
            " [2.  2.5 3. ]]\n"
          ]
        }
      ]
    },
    {
      "cell_type": "markdown",
      "source": [
        "# Insert a row or column in a 2D numpy array"
      ],
      "metadata": {
        "id": "7y28HrC7P7B7"
      }
    },
    {
      "cell_type": "code",
      "source": [
        "a =np.array([[1,2,3],[4,5,6],[7,8,9]])\n",
        "a =np.insert(a,1,[10,11,12],axis=0)\n",
        "print(a)"
      ],
      "metadata": {
        "colab": {
          "base_uri": "https://localhost:8080/"
        },
        "id": "SLOD8JTmP6To",
        "outputId": "7e0a098c-47df-4402-a1fe-4bd579dc2e5a"
      },
      "execution_count": null,
      "outputs": [
        {
          "output_type": "stream",
          "name": "stdout",
          "text": [
            "[[ 1  2  3]\n",
            " [10 11 12]\n",
            " [ 4  5  6]\n",
            " [ 7  8  9]]\n"
          ]
        }
      ]
    },
    {
      "cell_type": "code",
      "source": [
        "a =np.array([[1,2,3],[4,5,6],[7,8,9]])\n",
        "a =np.insert(a,1,[10,11,12],axis=1)\n",
        "print(a)"
      ],
      "metadata": {
        "colab": {
          "base_uri": "https://localhost:8080/"
        },
        "id": "67jyDY8LQi0J",
        "outputId": "aa16b482-8f52-40a8-f9a9-a99a0dfdd0a3"
      },
      "execution_count": null,
      "outputs": [
        {
          "output_type": "stream",
          "name": "stdout",
          "text": [
            "[[ 1 10  2  3]\n",
            " [ 4 11  5  6]\n",
            " [ 7 12  8  9]]\n"
          ]
        }
      ]
    },
    {
      "cell_type": "markdown",
      "source": [
        "#Delete a row or column in a 2D numpy array"
      ],
      "metadata": {
        "id": "4i9go2-4Qo7F"
      }
    },
    {
      "cell_type": "code",
      "source": [
        "print('A before Deletion')\n",
        "print(a)\n",
        "a_del=np.delete(a,2,axis=0)\n",
        "print('A after deletion')\n",
        "print(a_del)"
      ],
      "metadata": {
        "colab": {
          "base_uri": "https://localhost:8080/"
        },
        "id": "7pA63W0gQu9p",
        "outputId": "b5df3cff-fc65-43c0-c632-fb1f76e3ed8e"
      },
      "execution_count": null,
      "outputs": [
        {
          "output_type": "stream",
          "name": "stdout",
          "text": [
            "A before Deletion\n",
            "[[ 1 10  2  3]\n",
            " [ 4 11  5  6]\n",
            " [ 7 12  8  9]]\n",
            "A after deletion\n",
            "[[ 1 10  2  3]\n",
            " [ 4 11  5  6]]\n"
          ]
        }
      ]
    },
    {
      "cell_type": "code",
      "source": [
        "print('A before Deletion')\n",
        "print(a)\n",
        "a_cdel=np.delete(a,2,axis=1)\n",
        "print('A after deletion')\n",
        "print(a_cdel)"
      ],
      "metadata": {
        "colab": {
          "base_uri": "https://localhost:8080/"
        },
        "id": "R7uNtmKpRDLE",
        "outputId": "d528ec11-34d2-4a50-9f95-d8c34d9e3260"
      },
      "execution_count": null,
      "outputs": [
        {
          "output_type": "stream",
          "name": "stdout",
          "text": [
            "A before Deletion\n",
            "[[ 1 10  2  3]\n",
            " [ 4 11  5  6]\n",
            " [ 7 12  8  9]]\n",
            "A after deletion\n",
            "[[ 1 10  3]\n",
            " [ 4 11  6]\n",
            " [ 7 12  9]]\n"
          ]
        }
      ]
    },
    {
      "cell_type": "markdown",
      "source": [
        "#Create matrix in Numpy\n",
        "A built-in function matrix is in numpy"
      ],
      "metadata": {
        "id": "FkI87-DfRVzT"
      }
    },
    {
      "cell_type": "code",
      "source": [
        "mat1 = np.matrix('1 2; 3 4')\n",
        "print(mat1)"
      ],
      "metadata": {
        "colab": {
          "base_uri": "https://localhost:8080/"
        },
        "id": "rzXTeZPWRf_y",
        "outputId": "cae8a1cb-c3be-4f4f-b34c-1f56f2613c78"
      },
      "execution_count": null,
      "outputs": [
        {
          "output_type": "stream",
          "name": "stdout",
          "text": [
            "[[1 2]\n",
            " [3 4]]\n"
          ]
        }
      ]
    },
    {
      "cell_type": "code",
      "source": [
        "mat2 = np.matrix('5 6; 7 8')\n",
        "print(mat2)"
      ],
      "metadata": {
        "colab": {
          "base_uri": "https://localhost:8080/"
        },
        "id": "_C9KsUKFRx3D",
        "outputId": "2dac4282-1c59-4894-a8aa-3d0b7d92e23f"
      },
      "execution_count": null,
      "outputs": [
        {
          "output_type": "stream",
          "name": "stdout",
          "text": [
            "[[5 6]\n",
            " [7 8]]\n"
          ]
        }
      ]
    },
    {
      "cell_type": "markdown",
      "source": [
        "# Attributes of matrix"
      ],
      "metadata": {
        "id": "eQky1OI9SRR3"
      }
    },
    {
      "cell_type": "code",
      "source": [
        "print(mat1.shape)"
      ],
      "metadata": {
        "colab": {
          "base_uri": "https://localhost:8080/"
        },
        "id": "F7xyrqJXSZCj",
        "outputId": "bbe8e794-91b0-4248-a42e-5e0865b73971"
      },
      "execution_count": null,
      "outputs": [
        {
          "output_type": "stream",
          "name": "stdout",
          "text": [
            "(2, 2)\n"
          ]
        }
      ]
    },
    {
      "cell_type": "code",
      "source": [
        "print(mat1.size)"
      ],
      "metadata": {
        "colab": {
          "base_uri": "https://localhost:8080/"
        },
        "id": "z8N9-ALPSd-G",
        "outputId": "ca774ae1-745d-4da7-e12a-5e0b1bc88967"
      },
      "execution_count": null,
      "outputs": [
        {
          "output_type": "stream",
          "name": "stdout",
          "text": [
            "4\n"
          ]
        }
      ]
    },
    {
      "cell_type": "markdown",
      "source": [
        "Arthimetic operations with matrix"
      ],
      "metadata": {
        "id": "z8HeC7GKSkOU"
      }
    },
    {
      "cell_type": "code",
      "source": [
        "print('Mat1')\n",
        "print(mat1)\n",
        "print('Mat2')\n",
        "print(mat2)"
      ],
      "metadata": {
        "colab": {
          "base_uri": "https://localhost:8080/"
        },
        "id": "5j4Q8SoSSoM3",
        "outputId": "a72ee73e-f8c8-4aac-ae10-fcdfa4f42bee"
      },
      "execution_count": null,
      "outputs": [
        {
          "output_type": "stream",
          "name": "stdout",
          "text": [
            "Mat1\n",
            "[[1 2]\n",
            " [3 4]]\n",
            "Mat2\n",
            "[[5 6]\n",
            " [7 8]]\n"
          ]
        }
      ]
    },
    {
      "cell_type": "code",
      "source": [
        "print(mat1+mat2)"
      ],
      "metadata": {
        "colab": {
          "base_uri": "https://localhost:8080/"
        },
        "id": "JRdB88q0Sz8i",
        "outputId": "f0264315-53c8-4c63-ccb5-83625e81f02c"
      },
      "execution_count": null,
      "outputs": [
        {
          "output_type": "stream",
          "name": "stdout",
          "text": [
            "[[ 6  8]\n",
            " [10 12]]\n"
          ]
        }
      ]
    },
    {
      "cell_type": "code",
      "source": [
        "print(mat1-mat2)"
      ],
      "metadata": {
        "colab": {
          "base_uri": "https://localhost:8080/"
        },
        "id": "SYYd98o8S7B7",
        "outputId": "9e63e4b2-78ce-4889-f729-28b3173ce858"
      },
      "execution_count": null,
      "outputs": [
        {
          "output_type": "stream",
          "name": "stdout",
          "text": [
            "[[-4 -4]\n",
            " [-4 -4]]\n"
          ]
        }
      ]
    },
    {
      "cell_type": "code",
      "source": [
        "m3= np.dot(mat1,mat2) #matrix multiplication\n",
        "print(mat1)\n",
        "print(mat2)\n",
        "print(m3)"
      ],
      "metadata": {
        "colab": {
          "base_uri": "https://localhost:8080/"
        },
        "id": "dTwGrBQ4S9n5",
        "outputId": "00936420-1188-4076-d44d-5e9531a47541"
      },
      "execution_count": null,
      "outputs": [
        {
          "output_type": "stream",
          "name": "stdout",
          "text": [
            "[[1 2]\n",
            " [3 4]]\n",
            "[[5 6]\n",
            " [7 8]]\n",
            "[[19 22]\n",
            " [43 50]]\n"
          ]
        }
      ]
    },
    {
      "cell_type": "code",
      "source": [
        "m4= np.divide(mat1,mat2) #matrix multiplication\n",
        "print(mat1)\n",
        "print(mat2)\n",
        "print(m4)"
      ],
      "metadata": {
        "colab": {
          "base_uri": "https://localhost:8080/"
        },
        "id": "qL0dLL_OTby3",
        "outputId": "02617b86-5588-4d32-af2d-9f6dc68f81d9"
      },
      "execution_count": null,
      "outputs": [
        {
          "output_type": "stream",
          "name": "stdout",
          "text": [
            "[[1 2]\n",
            " [3 4]]\n",
            "[[5 6]\n",
            " [7 8]]\n",
            "[[0.2        0.33333333]\n",
            " [0.42857143 0.5       ]]\n"
          ]
        }
      ]
    },
    {
      "cell_type": "markdown",
      "source": [
        "#Transpose of a matrix"
      ],
      "metadata": {
        "id": "vlUyLWgkTlrz"
      }
    },
    {
      "cell_type": "code",
      "source": [
        "print(mat1)\n",
        "matT = np.transpose(mat1)\n",
        "print(matT)"
      ],
      "metadata": {
        "colab": {
          "base_uri": "https://localhost:8080/"
        },
        "id": "xmadpujkTppo",
        "outputId": "514b9a78-38c0-49cf-bcf1-8b3816cd7f52"
      },
      "execution_count": null,
      "outputs": [
        {
          "output_type": "stream",
          "name": "stdout",
          "text": [
            "[[1 2]\n",
            " [3 4]]\n",
            "[[1 3]\n",
            " [2 4]]\n"
          ]
        }
      ]
    },
    {
      "cell_type": "code",
      "source": [
        "# We can also user matrixname.T\n",
        "print(mat1.T)"
      ],
      "metadata": {
        "colab": {
          "base_uri": "https://localhost:8080/"
        },
        "id": "5h6qRIRaT7xg",
        "outputId": "e39327d9-e0e9-450a-bede-2c8d430eabf2"
      },
      "execution_count": null,
      "outputs": [
        {
          "output_type": "stream",
          "name": "stdout",
          "text": [
            "[[1 3]\n",
            " [2 4]]\n"
          ]
        }
      ]
    },
    {
      "cell_type": "markdown",
      "source": [
        "#Insert a row or column in a matrix"
      ],
      "metadata": {
        "id": "CWJw12_kUYNZ"
      }
    },
    {
      "cell_type": "code",
      "source": [
        "print('Mat1 is')\n",
        "print(mat1)\n",
        "print('Matrix after inserting 1st col')\n",
        "col1= np.matrix('10,11')\n",
        "matins = np.insert(mat1, 0, col1, axis=1)\n",
        "print(matins)"
      ],
      "metadata": {
        "colab": {
          "base_uri": "https://localhost:8080/"
        },
        "id": "UzRd7eScUdHs",
        "outputId": "bf610f06-4846-43a9-f0ee-9410dc169fab"
      },
      "execution_count": null,
      "outputs": [
        {
          "output_type": "stream",
          "name": "stdout",
          "text": [
            "Mat1 is\n",
            "[[1 2]\n",
            " [3 4]]\n",
            "Matrix after inserting 1st col\n",
            "[[10  1  2]\n",
            " [11  3  4]]\n"
          ]
        }
      ]
    },
    {
      "cell_type": "markdown",
      "source": [
        "#DElete a row or column in a matrix"
      ],
      "metadata": {
        "id": "NjvnIdRAVMQk"
      }
    },
    {
      "cell_type": "code",
      "source": [
        "print('Matrix ')\n",
        "print(matins)\n",
        "print('After Deleting')\n",
        "newmat = np.delete(matins, 0, axis=0)\n",
        "print(newmat)"
      ],
      "metadata": {
        "colab": {
          "base_uri": "https://localhost:8080/"
        },
        "id": "WrC4Q4QEVQeH",
        "outputId": "2a2f6503-5f77-47e6-85bc-7a10e04e9f7d"
      },
      "execution_count": null,
      "outputs": [
        {
          "output_type": "stream",
          "name": "stdout",
          "text": [
            "Matrix \n",
            "[[10  1  2]\n",
            " [11  3  4]]\n",
            "After Deleting\n",
            "[[11  3  4]]\n"
          ]
        }
      ]
    },
    {
      "cell_type": "markdown",
      "source": [
        "#Linear Algebra with Matrices\n",
        "numpy.linalg.det()- returns determinant of a matrix"
      ],
      "metadata": {
        "id": "1AkEt7oFV1R1"
      }
    },
    {
      "cell_type": "code",
      "source": [
        "m1= np.matrix('4 5 16 7; 2, -3, 2, 3; 3,4,5,6;4,7,8,9')"
      ],
      "metadata": {
        "id": "V22hgnsfV_qy"
      },
      "execution_count": null,
      "outputs": []
    },
    {
      "cell_type": "code",
      "source": [
        "print('Matrix m1')\n",
        "print(m1)\n",
        "print('Determinant')\n",
        "print(np.linalg.det(m1))"
      ],
      "metadata": {
        "colab": {
          "base_uri": "https://localhost:8080/"
        },
        "id": "71XJg9KEVu3G",
        "outputId": "2a69ddf5-deec-44da-bec9-0589c90bdbef"
      },
      "execution_count": null,
      "outputs": [
        {
          "output_type": "stream",
          "name": "stdout",
          "text": [
            "Matrix m1\n",
            "[[ 4  5 16  7]\n",
            " [ 2 -3  2  3]\n",
            " [ 3  4  5  6]\n",
            " [ 4  7  8  9]]\n",
            "Determinant\n",
            "128.00000000000009\n"
          ]
        }
      ]
    },
    {
      "cell_type": "code",
      "source": [
        "print('Matrix m1')\n",
        "print(m1)\n",
        "print('Rank')\n",
        "print(np.linalg.matrix_rank(m1))"
      ],
      "metadata": {
        "colab": {
          "base_uri": "https://localhost:8080/"
        },
        "id": "GoRbkj9cWhIC",
        "outputId": "2af9bfd6-65c3-4ab0-ec05-6810771da74f"
      },
      "execution_count": null,
      "outputs": [
        {
          "output_type": "stream",
          "name": "stdout",
          "text": [
            "Matrix m1\n",
            "[[ 4  5 16  7]\n",
            " [ 2 -3  2  3]\n",
            " [ 3  4  5  6]\n",
            " [ 4  7  8  9]]\n",
            "Rank\n",
            "4\n"
          ]
        }
      ]
    },
    {
      "cell_type": "code",
      "source": [
        "print('Matrix m1')\n",
        "print(m1)\n",
        "print('Inverse')\n",
        "print(np.linalg.inv(m1))"
      ],
      "metadata": {
        "colab": {
          "base_uri": "https://localhost:8080/"
        },
        "id": "BKF70cm1Wr4t",
        "outputId": "aeac8c4f-0af9-4ea6-8d62-80371adf56e0"
      },
      "execution_count": null,
      "outputs": [
        {
          "output_type": "stream",
          "name": "stdout",
          "text": [
            "Matrix m1\n",
            "[[ 4  5 16  7]\n",
            " [ 2 -3  2  3]\n",
            " [ 3  4  5  6]\n",
            " [ 4  7  8  9]]\n",
            "Inverse\n",
            "[[ 9.37500000e-02 -4.68750000e-01  3.68750000e+00 -2.37500000e+00]\n",
            " [ 1.51394049e-17 -2.50000000e-01  5.00000000e-01 -2.50000000e-01]\n",
            " [ 9.37500000e-02  3.12500000e-02 -3.12500000e-01  1.25000000e-01]\n",
            " [-1.25000000e-01  3.75000000e-01 -1.75000000e+00  1.25000000e+00]]\n"
          ]
        }
      ]
    },
    {
      "cell_type": "markdown",
      "source": [
        "# Solving system of Linear Equations\n",
        "#3x+y+2z =2\n",
        "#3x+2y+5z=-1\n",
        "#6x+7y+8z =3"
      ],
      "metadata": {
        "id": "Nrhz0m11W_6d"
      }
    },
    {
      "cell_type": "code",
      "source": [
        "# Solving system of Linear Equations\n",
        "A= np.matrix('3 1 2; 3 2 5; 6 7 8')\n",
        "B= np.matrix('2; -1; 3')\n",
        "x= np.linalg.solve(A,B)\n",
        "print(x)"
      ],
      "metadata": {
        "colab": {
          "base_uri": "https://localhost:8080/"
        },
        "id": "yY2gF0eIWxE1",
        "outputId": "c2a67de3-85eb-44a9-c7a9-bcfab34f2c46"
      },
      "execution_count": null,
      "outputs": [
        {
          "output_type": "stream",
          "name": "stdout",
          "text": [
            "[[ 1.24242424]\n",
            " [ 0.81818182]\n",
            " [-1.27272727]]\n"
          ]
        }
      ]
    }
  ]
}