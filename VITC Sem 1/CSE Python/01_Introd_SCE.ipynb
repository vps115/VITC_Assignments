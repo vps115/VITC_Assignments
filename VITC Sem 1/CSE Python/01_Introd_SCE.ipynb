{
  "nbformat": 4,
  "nbformat_minor": 0,
  "metadata": {
    "kernelspec": {
      "display_name": "Python 3",
      "language": "python",
      "name": "python3"
    },
    "language_info": {
      "codemirror_mode": {
        "name": "ipython",
        "version": 3
      },
      "file_extension": ".py",
      "mimetype": "text/x-python",
      "name": "python",
      "nbconvert_exporter": "python",
      "pygments_lexer": "ipython3",
      "version": "3.6.2"
    },
    "colab": {
      "name": "01_Introd_SCE.ipynb",
      "provenance": [],
      "collapsed_sections": []
    }
  },
  "cells": [
    {
      "cell_type": "markdown",
      "metadata": {
        "collapsed": true,
        "id": "hVaX_k0E5NOb"
      },
      "source": [
        "## Time to code!"
      ]
    },
    {
      "cell_type": "code",
      "metadata": {
        "colab": {
          "base_uri": "https://localhost:8080/"
        },
        "id": "hkwsrg-e8ycL",
        "outputId": "4b3953c9-ffa7-448b-a80d-b1c9f6a0ef7f"
      },
      "source": [
        "print (\"Hello B.tech, Good Morning\")"
      ],
      "execution_count": null,
      "outputs": [
        {
          "output_type": "stream",
          "name": "stdout",
          "text": [
            "Hello B.tech, Good Morning\n"
          ]
        }
      ]
    },
    {
      "cell_type": "code",
      "metadata": {
        "colab": {
          "base_uri": "https://localhost:8080/"
        },
        "id": "Xmd-nPO9JqFT",
        "outputId": "6cdaf271-d101-4f59-a000-a137af22e187"
      },
      "source": [
        "#variable: is a reserved memory location to store values.\n",
        "s1 = \"python\"\n",
        "print(s1)"
      ],
      "execution_count": null,
      "outputs": [
        {
          "output_type": "stream",
          "name": "stdout",
          "text": [
            "python\n"
          ]
        }
      ]
    },
    {
      "cell_type": "code",
      "metadata": {
        "id": "7LsfE4iCKOCD"
      },
      "source": [
        "s2=\"Machine_Learning\"\n",
        "s3=\"DBMS\""
      ],
      "execution_count": null,
      "outputs": []
    },
    {
      "cell_type": "code",
      "metadata": {
        "colab": {
          "base_uri": "https://localhost:8080/"
        },
        "id": "GbuPyv0pKVmn",
        "outputId": "f7328659-1a4c-44ef-8298-e16b616eb8d9"
      },
      "source": [
        "print(\"Welcome to s1\")"
      ],
      "execution_count": null,
      "outputs": [
        {
          "output_type": "stream",
          "name": "stdout",
          "text": [
            "Welcome to s1\n"
          ]
        }
      ]
    },
    {
      "cell_type": "code",
      "metadata": {
        "colab": {
          "base_uri": "https://localhost:8080/"
        },
        "id": "BalGWuAQKepe",
        "outputId": "ba66c4db-e226-4501-f4e3-f20aacbd8d28"
      },
      "source": [
        "print(\"Welcome to\", s1)\n",
        "print(\"Welcome to\", s2)\n",
        "print(\"Welcome to\", s3)"
      ],
      "execution_count": null,
      "outputs": [
        {
          "output_type": "stream",
          "name": "stdout",
          "text": [
            "Welcome to python\n"
          ]
        }
      ]
    },
    {
      "cell_type": "code",
      "metadata": {
        "colab": {
          "base_uri": "https://localhost:8080/"
        },
        "id": "nEofyzY8PiFV",
        "outputId": "266960af-8881-43ec-fa01-b033844cd6b1"
      },
      "source": [
        "print(\"Welcome to \", s1, s2, s3);"
      ],
      "execution_count": null,
      "outputs": [
        {
          "output_type": "stream",
          "name": "stdout",
          "text": [
            "Welcome to  python Machine_Learning DBMS\n"
          ]
        }
      ]
    },
    {
      "cell_type": "code",
      "metadata": {
        "colab": {
          "base_uri": "https://localhost:8080/"
        },
        "id": "nA_pc7hWP7V4",
        "outputId": "adaa7a9d-7614-4fc3-b1f5-b506e4ce2773"
      },
      "source": [
        "print(\"Welcome to \", s1, s2, s3);"
      ],
      "execution_count": null,
      "outputs": [
        {
          "output_type": "stream",
          "name": "stdout",
          "text": [
            "Welcome to  python Machine_Learning DBMS\n"
          ]
        }
      ]
    },
    {
      "cell_type": "code",
      "metadata": {
        "id": "vIhgYN_0BVGi"
      },
      "source": [
        "#Type the code to print your name\n"
      ],
      "execution_count": null,
      "outputs": []
    },
    {
      "cell_type": "code",
      "metadata": {
        "colab": {
          "base_uri": "https://localhost:8080/"
        },
        "id": "RV15dHwEWZqS",
        "outputId": "35c0cd1b-7219-45da-ed9c-d0d01b0fd91f"
      },
      "source": [
        "age =22\n",
        "print(\"Your age is:\", age)"
      ],
      "execution_count": null,
      "outputs": [
        {
          "output_type": "stream",
          "name": "stdout",
          "text": [
            "Your age is: 22\n"
          ]
        }
      ]
    },
    {
      "cell_type": "code",
      "metadata": {
        "colab": {
          "base_uri": "https://localhost:8080/"
        },
        "id": "8DmYXEYbWdNs",
        "outputId": "00edadc2-674d-4a17-8203-a0e9c27b28c0"
      },
      "source": [
        "age = 25\n",
        "print(\"Your age is:\", age)"
      ],
      "execution_count": null,
      "outputs": [
        {
          "output_type": "stream",
          "name": "stdout",
          "text": [
            "Your age is: 25\n"
          ]
        }
      ]
    },
    {
      "cell_type": "code",
      "metadata": {
        "colab": {
          "base_uri": "https://localhost:8080/"
        },
        "id": "CXpiS1wNWiBN",
        "outputId": "5084494a-85c0-4c1a-cfcc-77037184a09a"
      },
      "source": [
        "age = age+1\n",
        "age"
      ],
      "execution_count": null,
      "outputs": [
        {
          "output_type": "execute_result",
          "data": {
            "text/plain": [
              "26"
            ]
          },
          "metadata": {},
          "execution_count": 5
        }
      ]
    },
    {
      "cell_type": "markdown",
      "metadata": {
        "id": "TKDA5cxNOMe4"
      },
      "source": [
        "#Variable Naming Rules in Python\n",
        "1. Variable name should start with letter.\n",
        "### Valid : age , _age , Age\n",
        "### Invalid : 1age\n",
        "2. No special characters allowed other than underscore (_).\n",
        "### Valid : age_ , _age\n",
        "### Invalid : age_*\n",
        "3. Variables are case sensitive.\n",
        "### age and Age are different.\n",
        "4. Variable name can have numbers but not at the beginning.\n",
        "### Example: Age1\n",
        "5. Python keywords are not allowed.\n",
        "###  Invalid: if, break, continue..."
      ]
    },
    {
      "cell_type": "code",
      "metadata": {
        "colab": {
          "base_uri": "https://localhost:8080/"
        },
        "id": "-Jf0GuuHAHVi",
        "outputId": "8d3e0783-a820-45e7-a783-493c2aa7a2af"
      },
      "source": [
        "#Python automatically determines variable type.\n",
        "print(type(age))"
      ],
      "execution_count": null,
      "outputs": [
        {
          "output_type": "stream",
          "name": "stdout",
          "text": [
            "<class 'int'>\n"
          ]
        }
      ]
    },
    {
      "cell_type": "code",
      "metadata": {
        "colab": {
          "base_uri": "https://localhost:8080/"
        },
        "id": "l6ZxWkqhUZnY",
        "outputId": "4ce5b92a-4fe1-4d87-fcdb-ac1485ea54fc"
      },
      "source": [
        "print(type(s1))"
      ],
      "execution_count": null,
      "outputs": [
        {
          "output_type": "stream",
          "name": "stdout",
          "text": [
            "<class 'str'>\n"
          ]
        }
      ]
    },
    {
      "cell_type": "code",
      "metadata": {
        "id": "IwSDsfDhUgCg"
      },
      "source": [
        ""
      ],
      "execution_count": null,
      "outputs": []
    },
    {
      "cell_type": "code",
      "metadata": {
        "id": "SIUnaVyJW8YX",
        "colab": {
          "base_uri": "https://localhost:8080/"
        },
        "outputId": "9df3c9ce-3e2c-49a9-964a-3205551afc2d"
      },
      "source": [
        "#Sequence of instructions\n",
        "a=1; print(a); a=a+1;print(a); a=a+1; print(a); a=a+1; print(a);a=a+1; print(a);"
      ],
      "execution_count": null,
      "outputs": [
        {
          "output_type": "stream",
          "name": "stdout",
          "text": [
            "1\n",
            "2\n",
            "3\n",
            "4\n",
            "5\n"
          ]
        }
      ]
    },
    {
      "cell_type": "code",
      "metadata": {
        "id": "MSWb3okQyoYh"
      },
      "source": [
        "#Getting inputs from user"
      ],
      "execution_count": null,
      "outputs": []
    },
    {
      "cell_type": "code",
      "metadata": {
        "colab": {
          "base_uri": "https://localhost:8080/"
        },
        "id": "8BigGkvk-MMB",
        "outputId": "12d485ee-fd84-4e93-c33b-eed0eeb6f58d"
      },
      "source": [
        "n = input (\"What is your major?\")"
      ],
      "execution_count": null,
      "outputs": [
        {
          "name": "stdout",
          "output_type": "stream",
          "text": [
            "What is your major?ss\n"
          ]
        }
      ]
    },
    {
      "cell_type": "markdown",
      "metadata": {
        "id": "7U1LelEIynFP"
      },
      "source": [
        ""
      ]
    },
    {
      "cell_type": "code",
      "metadata": {
        "colab": {
          "base_uri": "https://localhost:8080/"
        },
        "id": "15WSphLp-Wfm",
        "outputId": "c6725c7e-0e2b-41e3-a49c-c7d3593afae3"
      },
      "source": [
        "print(\"Welcome to\",n)"
      ],
      "execution_count": null,
      "outputs": [
        {
          "output_type": "stream",
          "name": "stdout",
          "text": [
            "Welcome to ss\n"
          ]
        }
      ]
    },
    {
      "cell_type": "code",
      "metadata": {
        "colab": {
          "base_uri": "https://localhost:8080/"
        },
        "id": "xtJArWuj-elt",
        "outputId": "03b84916-7472-428e-fadb-57ec5a541cc8"
      },
      "source": [
        "print(\"Welcome to\",n, \". All the best!\")"
      ],
      "execution_count": null,
      "outputs": [
        {
          "output_type": "stream",
          "name": "stdout",
          "text": [
            "Welcome to ss . All the best!\n"
          ]
        }
      ]
    },
    {
      "cell_type": "code",
      "metadata": {
        "colab": {
          "base_uri": "https://localhost:8080/"
        },
        "id": "yGVd3sGO6-eg",
        "outputId": "12eeff73-374c-4eac-97d8-7bffd39c0bbe"
      },
      "source": [
        "#  operators\n",
        "# Arithmetic operators\n",
        "x= 11\n",
        "y=5\n",
        "print(\"Addition:\", x+y)\n",
        "print(\"Subtraction:\", x-y)\n",
        "print(\"Multiplication:\", x*y)\n",
        "print(\"Divison:\", x/y)\n",
        "print(\"Remainder:\", x%y)\n",
        "print(\"Exponential:\", x**y)\n",
        "print(\"Floor:\", x//y)\n"
      ],
      "execution_count": null,
      "outputs": [
        {
          "output_type": "stream",
          "name": "stdout",
          "text": [
            "Addition: 16\n",
            "Subtraction: 6\n",
            "Multiplication: 55\n",
            "Divison: 2.2\n",
            "Remainder: 1\n",
            "Exponential: 161051\n",
            "Floor: 2\n"
          ]
        }
      ]
    },
    {
      "cell_type": "code",
      "metadata": {
        "id": "70mfdC_h80at"
      },
      "source": [
        ""
      ],
      "execution_count": null,
      "outputs": []
    },
    {
      "cell_type": "code",
      "metadata": {
        "colab": {
          "base_uri": "https://localhost:8080/"
        },
        "id": "j3j3_uBd7dfB",
        "outputId": "acbf181e-5643-4859-f3ba-79f42b2d9ee1"
      },
      "source": [
        "#  operators\n",
        "#Assignment Operators\n",
        "x=5\n",
        "x=x+1\n",
        "print(x)"
      ],
      "execution_count": null,
      "outputs": [
        {
          "output_type": "stream",
          "name": "stdout",
          "text": [
            "6\n"
          ]
        }
      ]
    },
    {
      "cell_type": "markdown",
      "metadata": {
        "id": "FYgqz_KF1FAZ"
      },
      "source": [
        "Short hand opearator\n"
      ]
    },
    {
      "cell_type": "code",
      "metadata": {
        "colab": {
          "base_uri": "https://localhost:8080/"
        },
        "id": "WxjWTSb38Z2W",
        "outputId": "7acc6b0d-f098-4497-e0d9-3114de324002"
      },
      "source": [
        "x= 5\n",
        "x+=1\n",
        "print(x)"
      ],
      "execution_count": null,
      "outputs": [
        {
          "output_type": "stream",
          "name": "stdout",
          "text": [
            "6\n"
          ]
        }
      ]
    },
    {
      "cell_type": "markdown",
      "metadata": {
        "id": "TwfxQ5Zn1uOW"
      },
      "source": [
        "# Write code to subtract using short-hand operator"
      ]
    },
    {
      "cell_type": "code",
      "metadata": {
        "id": "O3fd0sc81enA"
      },
      "source": [
        "# Write code to subtract using short-hand operator\n",
        "x = 10\n",
        "\n",
        "print()"
      ],
      "execution_count": null,
      "outputs": []
    },
    {
      "cell_type": "markdown",
      "metadata": {
        "id": "AoDE5m0s3eE1"
      },
      "source": [
        "# Comparison Operator: compares the values of two operands and returns True or False based on the condition."
      ]
    },
    {
      "cell_type": "markdown",
      "metadata": {
        "id": "0DTS1Pyan6Zp"
      },
      "source": [
        "1. **<** less than\n",
        "Checks if left value is lesser than right"
      ]
    },
    {
      "cell_type": "code",
      "metadata": {
        "colab": {
          "base_uri": "https://localhost:8080/"
        },
        "id": "zgXkp9S-n9NW",
        "outputId": "416663a1-465e-465a-96f4-e5758f1985a2"
      },
      "source": [
        "a=10\n",
        "b=5\n",
        "b<a\n"
      ],
      "execution_count": null,
      "outputs": [
        {
          "output_type": "execute_result",
          "data": {
            "text/plain": [
              "True"
            ]
          },
          "metadata": {},
          "execution_count": 3
        }
      ]
    },
    {
      "cell_type": "code",
      "metadata": {
        "colab": {
          "base_uri": "https://localhost:8080/"
        },
        "id": "0KW-v3eo3Vw7",
        "outputId": "48bd8abd-18ee-47da-e181-48807182fe4a"
      },
      "source": [
        "'Ben' < 'ben'"
      ],
      "execution_count": null,
      "outputs": [
        {
          "output_type": "execute_result",
          "data": {
            "text/plain": [
              "True"
            ]
          },
          "metadata": {},
          "execution_count": 2
        }
      ]
    },
    {
      "cell_type": "markdown",
      "metadata": {
        "id": "a_q9SLuJ45ki"
      },
      "source": [
        "Here ascii value of the string is compared. Ascii of B = 66 and b =98"
      ]
    },
    {
      "cell_type": "markdown",
      "metadata": {
        "id": "VAAI1EtuoRrq"
      },
      "source": [
        "2.**>** greater than. Checks if value on left is greater than right value."
      ]
    },
    {
      "cell_type": "code",
      "metadata": {
        "colab": {
          "base_uri": "https://localhost:8080/"
        },
        "id": "Y5Qjma0JpaA5",
        "outputId": "3ad2a852-0779-4e3e-ef2a-fd2d616a42bb"
      },
      "source": [
        "0.5 < False "
      ],
      "execution_count": null,
      "outputs": [
        {
          "output_type": "execute_result",
          "data": {
            "text/plain": [
              "False"
            ]
          },
          "metadata": {},
          "execution_count": 4
        }
      ]
    },
    {
      "cell_type": "markdown",
      "metadata": {
        "id": "iH6yaQJopFY5"
      },
      "source": [
        "3. **<=** less than or equal to, returns True only if the value on the left is either less than or equal to right."
      ]
    },
    {
      "cell_type": "code",
      "metadata": {
        "id": "Bg1yjTgRpSOs"
      },
      "source": [
        "a = 2\n",
        "a <= a*2"
      ],
      "execution_count": null,
      "outputs": []
    },
    {
      "cell_type": "markdown",
      "metadata": {
        "id": "n_wnm6BkqCHe"
      },
      "source": [
        "4. **>=** (Equal To or Greater Than), returns True only if the value on the left is greater than or equal to right."
      ]
    },
    {
      "cell_type": "code",
      "metadata": {
        "colab": {
          "base_uri": "https://localhost:8080/"
        },
        "id": "BHzdyenxrOBC",
        "outputId": "766182c5-c0ec-465b-fe2f-247b2c44f548"
      },
      "source": [
        "from math import pi\n",
        "3.14 >= pi\n"
      ],
      "execution_count": null,
      "outputs": [
        {
          "output_type": "execute_result",
          "data": {
            "text/plain": [
              "False"
            ]
          },
          "metadata": {},
          "execution_count": 11
        }
      ]
    },
    {
      "cell_type": "markdown",
      "metadata": {
        "id": "6rWJL5q_q1gH"
      },
      "source": [
        "5. **==** (Equal to), returns True if the values on either side of the operator are equal."
      ]
    },
    {
      "cell_type": "code",
      "metadata": {
        "colab": {
          "base_uri": "https://localhost:8080/"
        },
        "id": "XWSv0OLjrGvA",
        "outputId": "7232aad4-87c6-4c26-b459-366393dedb23"
      },
      "source": [
        "3=='3'"
      ],
      "execution_count": null,
      "outputs": [
        {
          "output_type": "execute_result",
          "data": {
            "text/plain": [
              "False"
            ]
          },
          "metadata": {},
          "execution_count": 5
        }
      ]
    },
    {
      "cell_type": "markdown",
      "metadata": {
        "id": "uADyz9Ucr0Dl"
      },
      "source": [
        "6.**!=** (Not Equalto), does exact opposite of =="
      ]
    },
    {
      "cell_type": "code",
      "metadata": {
        "colab": {
          "base_uri": "https://localhost:8080/"
        },
        "id": "aFqilhDT8gkV",
        "outputId": "53edd52b-45ac-4bb3-a851-cceb48b9e15b"
      },
      "source": [
        "x=100\n",
        "y=10\n",
        "print(x!=y)"
      ],
      "execution_count": null,
      "outputs": [
        {
          "output_type": "stream",
          "name": "stdout",
          "text": [
            "True\n"
          ]
        }
      ]
    },
    {
      "cell_type": "markdown",
      "metadata": {
        "id": "b0m6pWkxsPSP"
      },
      "source": [
        "# Logical Operators"
      ]
    },
    {
      "cell_type": "markdown",
      "metadata": {
        "id": "DWIDS-1zttar"
      },
      "source": [
        "1.Logical **or**- Returns True if either of the operands are True"
      ]
    },
    {
      "cell_type": "code",
      "metadata": {
        "colab": {
          "base_uri": "https://localhost:8080/"
        },
        "id": "7jwbGRZA95gA",
        "outputId": "fba39833-e1f7-4ec1-b92a-ccf51404b89d"
      },
      "source": [
        "x=5\n",
        "print(x>3 or x<4)"
      ],
      "execution_count": null,
      "outputs": [
        {
          "output_type": "stream",
          "name": "stdout",
          "text": [
            "True\n"
          ]
        }
      ]
    },
    {
      "cell_type": "markdown",
      "metadata": {
        "id": "s4tzaXKgt4SF"
      },
      "source": [
        "2.Logical **and**-Returns True if both statements are true"
      ]
    },
    {
      "cell_type": "code",
      "metadata": {
        "colab": {
          "base_uri": "https://localhost:8080/"
        },
        "id": "i-9KGmEauBVg",
        "outputId": "6af7d2f9-6e12-46f0-ae78-ad58e0fbac5c"
      },
      "source": [
        "x = 5\n",
        "print(x > 3 and x < 10)\n"
      ],
      "execution_count": null,
      "outputs": [
        {
          "output_type": "stream",
          "name": "stdout",
          "text": [
            "True\n"
          ]
        }
      ]
    },
    {
      "cell_type": "markdown",
      "metadata": {
        "id": "06oAgRbyuS_r"
      },
      "source": [
        "3.Logical **not**-returns False if the result is true"
      ]
    },
    {
      "cell_type": "code",
      "metadata": {
        "colab": {
          "base_uri": "https://localhost:8080/"
        },
        "id": "aKXy6jb_uZIw",
        "outputId": "197dd885-05eb-4821-a80d-affb2a10219a"
      },
      "source": [
        "x = 5\n",
        "\n",
        "print(not(x > 3 and x < 10))"
      ],
      "execution_count": null,
      "outputs": [
        {
          "output_type": "stream",
          "name": "stdout",
          "text": [
            "False\n"
          ]
        }
      ]
    },
    {
      "cell_type": "markdown",
      "metadata": {
        "id": "gIeGWDt7uqvj"
      },
      "source": [
        "#Bitwise operator: used to compare (binary) numbers"
      ]
    },
    {
      "cell_type": "markdown",
      "metadata": {
        "id": "VWqsCB48u_5z"
      },
      "source": [
        "1. **&- AND:**\tSets each bit to 1 if both bits are 1"
      ]
    },
    {
      "cell_type": "code",
      "metadata": {
        "colab": {
          "base_uri": "https://localhost:8080/"
        },
        "id": "t1xwDb81vNr_",
        "outputId": "5dc84fec-bbf4-4217-dc21-a3f883ec2acd"
      },
      "source": [
        "a = 10\n",
        "b = 6\n",
        " \n",
        "# Print bitwise AND operation      #10 = 0000 1010; 6 = 0000 0110 = 0010\n",
        "print(\"a & b =\", a & b)"
      ],
      "execution_count": null,
      "outputs": [
        {
          "output_type": "stream",
          "name": "stdout",
          "text": [
            "a & b = 2\n"
          ]
        }
      ]
    },
    {
      "cell_type": "markdown",
      "metadata": {
        "id": "m2bgfCSTvVsX"
      },
      "source": [
        "2. **|-OR** Sets each bit to 1 if one of two bits is 1"
      ]
    },
    {
      "cell_type": "code",
      "metadata": {
        "colab": {
          "base_uri": "https://localhost:8080/"
        },
        "id": "37BUPhfHvyuR",
        "outputId": "325bc6b6-541f-48a9-d12e-d4a7ea76b946"
      },
      "source": [
        "a = 10\n",
        "b = 6\n",
        "# Print bitwise OR operation       #10 = 0000 1010; 6 = 0000 0101 = 1111\n",
        "print(\"a | b =\", a | b)"
      ],
      "execution_count": null,
      "outputs": [
        {
          "output_type": "stream",
          "name": "stdout",
          "text": [
            "a | b = 14\n"
          ]
        }
      ]
    },
    {
      "cell_type": "markdown",
      "metadata": {
        "id": "K5imEF24wCax"
      },
      "source": [
        "3. **^ XOR:**\tSets each bit to 1 if only one of two bits is 1"
      ]
    },
    {
      "cell_type": "code",
      "metadata": {
        "colab": {
          "base_uri": "https://localhost:8080/"
        },
        "id": "EWwNv0u3wTpN",
        "outputId": "369e7031-97cc-4316-8668-6a495147f670"
      },
      "source": [
        "a = 10\n",
        "b = 6\n",
        "# print bitwise XOR operation     #10 = 0000 1010; 6 = 0000 0110 = 0000 1100\n",
        "print(\"a ^ b =\", a ^ b)"
      ],
      "execution_count": null,
      "outputs": [
        {
          "output_type": "stream",
          "name": "stdout",
          "text": [
            "a ^ b = 12\n"
          ]
        }
      ]
    },
    {
      "cell_type": "markdown",
      "metadata": {
        "id": "H4yx_hmMwlfF"
      },
      "source": [
        "4. **~ NOT:**\tInverts all the bits"
      ]
    },
    {
      "cell_type": "code",
      "metadata": {
        "id": "4ENk8YdJ_Lrc",
        "colab": {
          "base_uri": "https://localhost:8080/"
        },
        "outputId": "fdeceb83-375c-4985-e28a-4dd9bbaa237b"
      },
      "source": [
        "a = 10\n",
        "# Print bitwise NOT operation      #10 = 0000 1010 = 1111 0101 = 0000 1010 \n",
        "print(\"~a =\", ~a)"
      ],
      "execution_count": null,
      "outputs": [
        {
          "output_type": "stream",
          "name": "stdout",
          "text": [
            "~a = -11\n"
          ]
        }
      ]
    },
    {
      "cell_type": "markdown",
      "metadata": {
        "id": "JYQaWphVxQkR"
      },
      "source": [
        "4. **<< left shift:**\tShift left by pushing zeros in from the right and let the leftmost bits fall off"
      ]
    },
    {
      "cell_type": "code",
      "metadata": {
        "colab": {
          "base_uri": "https://localhost:8080/"
        },
        "id": "f3kE6NzMNgLB",
        "outputId": "56eaef30-e9f2-41e1-95b5-0b13154bc645"
      },
      "source": [
        "# print bitwise left shift operation     \n",
        "a=5                                     #5 = 0000 0101 => 0001 0100\n",
        "print(a << 2)"
      ],
      "execution_count": null,
      "outputs": [
        {
          "output_type": "stream",
          "name": "stdout",
          "text": [
            "20\n"
          ]
        }
      ]
    },
    {
      "cell_type": "markdown",
      "metadata": {
        "id": "D5SdAqXmx0I-"
      },
      "source": [
        "5. **>> right shift:**\tShift right by pushing copies of the leftmost bit in from the left, and let the rightmost bits fall off"
      ]
    },
    {
      "cell_type": "code",
      "metadata": {
        "colab": {
          "base_uri": "https://localhost:8080/"
        },
        "id": "FxPbgeLcO4QD",
        "outputId": "1bd7a2ac-02e2-42c1-dee0-39c7df4c36db"
      },
      "source": [
        "# print bitwise right shift operation     #5 = 0000 1010 => 0000 0101\n",
        "a=10\n",
        "print(a >> 1)"
      ],
      "execution_count": null,
      "outputs": [
        {
          "output_type": "stream",
          "name": "stdout",
          "text": [
            "5\n"
          ]
        }
      ]
    },
    {
      "cell_type": "code",
      "metadata": {
        "colab": {
          "base_uri": "https://localhost:8080/"
        },
        "id": "wU0SGEYV_krc",
        "outputId": "ec23d370-9ae2-4935-9214-5f4a25a86d8b"
      },
      "source": [
        "#Discount Calculation\n",
        "cost = input(print(\"Enter the cost of item:\"))\n",
        "#amt = cost*0.9\n",
        "amt = int(cost) * .9\n",
        "print(\"Please pay the amount\", amt)"
      ],
      "execution_count": null,
      "outputs": [
        {
          "output_type": "stream",
          "name": "stdout",
          "text": [
            "Enter the cost of item:\n",
            "200\n",
            "Please pay the amount 180.0\n"
          ]
        }
      ]
    },
    {
      "cell_type": "markdown",
      "metadata": {
        "id": "_-m867zMyYiF"
      },
      "source": [
        "Write a program to accept a number as input and display the square of the number as the output.\n"
      ]
    },
    {
      "cell_type": "code",
      "metadata": {
        "id": "Ncr8PlPG6RId",
        "colab": {
          "base_uri": "https://localhost:8080/"
        },
        "outputId": "0c56e8e6-ccb8-4bc5-f132-a714aeafc74f"
      },
      "source": [
        "#square of the number \n",
        "#x = int(input())"
      ],
      "execution_count": null,
      "outputs": [
        {
          "output_type": "stream",
          "name": "stdout",
          "text": [
            "2\n",
            "4\n"
          ]
        }
      ]
    },
    {
      "cell_type": "code",
      "metadata": {
        "colab": {
          "base_uri": "https://localhost:8080/"
        },
        "id": "QlVnQ1bvCmXK",
        "outputId": "ea638eb3-b8b4-47a7-d4d0-0f1367d1192b"
      },
      "source": [
        "#Understanding if condition\n",
        "choice= input(print(\"Please enter your major\"))\n",
        "if choice == \"AI\":\n",
        "  print(\"You belong to Artificial Intelligence.\")\n",
        "if choice == \"ML\":\n",
        "  print(\"You belong to Machine Learning.\")\n",
        "if choice == \"BD\":\n",
        "  print(\"You belong to Big Data.\")\n"
      ],
      "execution_count": null,
      "outputs": [
        {
          "output_type": "stream",
          "name": "stdout",
          "text": [
            "Please enter your major\n",
            "AI\n",
            "You belong to Artificial Intelligence.\n"
          ]
        }
      ]
    },
    {
      "cell_type": "code",
      "metadata": {
        "colab": {
          "base_uri": "https://localhost:8080/",
          "height": 128
        },
        "id": "DGTSjCR3RyFT",
        "outputId": "8336703c-3312-4bee-8443-416206e0b740"
      },
      "source": [
        "#Python relies on indentation (whitespace at the beginning of a line) to define scope in the code. \n",
        "#Other programming languages often use curly-brackets for this purpose.\n",
        "choice= input(print(\"Please enter your major\"))\n",
        "if choice == \"AI\":\n",
        "print(\"You belong to Artificial Intelligence.\")"
      ],
      "execution_count": null,
      "outputs": [
        {
          "output_type": "error",
          "ename": "IndentationError",
          "evalue": "ignored",
          "traceback": [
            "\u001b[0;36m  File \u001b[0;32m\"<ipython-input-32-26d6810125cf>\"\u001b[0;36m, line \u001b[0;32m5\u001b[0m\n\u001b[0;31m    print(\"You belong to Artificial Intelligence.\")\u001b[0m\n\u001b[0m        ^\u001b[0m\n\u001b[0;31mIndentationError\u001b[0m\u001b[0;31m:\u001b[0m expected an indented block\n"
          ]
        }
      ]
    },
    {
      "cell_type": "code",
      "metadata": {
        "colab": {
          "base_uri": "https://localhost:8080/"
        },
        "id": "x-2FT9H5zrkW",
        "outputId": "784141e4-b9d7-4315-9d91-4035405a4517"
      },
      "source": [
        "a = 100\n",
        "b = 200\n",
        "if b > a:\n",
        "  print(\"b is greater than a\")"
      ],
      "execution_count": null,
      "outputs": [
        {
          "output_type": "stream",
          "name": "stdout",
          "text": [
            "b is greater than a\n"
          ]
        }
      ]
    },
    {
      "cell_type": "markdown",
      "metadata": {
        "id": "JudFLsFKz677"
      },
      "source": [
        "**Elif -** if the previous conditions were not true, then try this condition\"."
      ]
    },
    {
      "cell_type": "code",
      "metadata": {
        "colab": {
          "base_uri": "https://localhost:8080/"
        },
        "id": "kOPxqYWJ0EY6",
        "outputId": "6732fb34-a02d-4c5b-8bef-7ad18cb57f4c"
      },
      "source": [
        "a = 100\n",
        "b = 100\n",
        "if b > a:\n",
        "  print(\"b is greater than a\")\n",
        "elif a == b:\n",
        "  print(\"a and b are equal\")"
      ],
      "execution_count": null,
      "outputs": [
        {
          "output_type": "stream",
          "name": "stdout",
          "text": [
            "a and b are equal\n"
          ]
        }
      ]
    },
    {
      "cell_type": "markdown",
      "metadata": {
        "id": "h03sl0cY5i7a"
      },
      "source": [
        "**else** keyword catches anything which isn't caught by the preceding conditions."
      ]
    },
    {
      "cell_type": "code",
      "metadata": {
        "id": "MIaFtR8D5hUl"
      },
      "source": [
        "a = 200\n",
        "b = 100\n",
        "if b > a:\n",
        "  print(\"b is greater than a\")\n",
        "elif a == b:\n",
        "  print(\"a and b are equal\")\n",
        "else:\n",
        "  print(\"a is greater than b\")"
      ],
      "execution_count": null,
      "outputs": []
    },
    {
      "cell_type": "markdown",
      "metadata": {
        "id": "TqCtNu-i7Ow7"
      },
      "source": [
        "Write a program to accept a number as input and check if the number is posotive or negative."
      ]
    },
    {
      "cell_type": "code",
      "metadata": {
        "id": "qlfclgRU7e60"
      },
      "source": [
        "# positive or negative.\n",
        "\n"
      ],
      "execution_count": null,
      "outputs": []
    }
  ]
}