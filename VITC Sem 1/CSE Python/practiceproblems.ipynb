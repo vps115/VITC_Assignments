{
  "nbformat": 4,
  "nbformat_minor": 0,
  "metadata": {
    "colab": {
      "name": "practiceproblems.ipynb",
      "provenance": [],
      "collapsed_sections": []
    },
    "kernelspec": {
      "name": "python3",
      "display_name": "Python 3"
    },
    "language_info": {
      "name": "python"
    }
  },
  "cells": [
    {
      "cell_type": "code",
      "metadata": {
        "colab": {
          "base_uri": "https://localhost:8080/"
        },
        "id": "K2lD-3KGBivY",
        "outputId": "212e8b4d-509d-447a-c27d-1af5e5c042e2"
      },
      "source": [
        "#Excercise 1\n",
        "ns = int(input(\"No. of items in son's list: \"))\n",
        "s={}\n",
        "print(\"For son's list, input item_name<space>item_quantity:\")\n",
        "for i in range(ns):\n",
        "  i,q = input().split()\n",
        "  s[i] = q\n",
        "\n",
        "nd = int(input(\"\\nNo. of items in daughter's list: \"))\n",
        "d={}\n",
        "print(\"For daughter's list, input item_name<space>item_quantity: \")\n",
        "for i in range(nd):\n",
        "  i,q = input().split()\n",
        "  d[i] = q\n",
        "\n",
        "s_keys = set(s.keys())\n",
        "d_keys = set(d.keys())\n",
        "c = sorted((s_keys&d_keys))\n",
        "os = sorted((s_keys-d_keys))\n",
        "od = sorted((d_keys-s_keys))\n",
        "\n",
        "print(\"\\n1.Common items:\")\n",
        "print(\"Item\\tQuantity\")\n",
        "for i in c:\n",
        "  print(i+'\\t'+'x'+str(int(s[i])+int(d[i])))\n",
        "\n",
        "print(\"\\n2.Items listed by son only:\")\n",
        "print(\"Item\\tQuantity\")\n",
        "print(*[\"\\t\".join([i,'x'+s[i]]) for i in os],sep=\"\\n\")\n",
        "\n",
        "print(\"\\n3.Items listed by daughter only:\")\n",
        "print(\"Item\\tQuantity\")\n",
        "print(*[\"\\t\".join([i,'x'+d[i]]) for i in od],sep=\"\\n\")"
      ],
      "execution_count": null,
      "outputs": [
        {
          "output_type": "stream",
          "name": "stdout",
          "text": [
            "No. of items in son's list: 4\n",
            "For son's list, input item_name<space>item_quantity:\n",
            "Pen 3\n",
            "Pencils 5\n",
            "Biscuits 1\n",
            "Balloon 2\n",
            "\n",
            "No. of items in daughter's list: 5\n",
            "For daughter's list, input item_name<space>item_quantity: \n",
            "Pen 1\n",
            "Pencils 3\n",
            "Chips 1\n",
            "Eraser 1\n",
            "ToyCar 1\n",
            "\n",
            "1.Common items:\n",
            "Item\tQuantity\n",
            "Pen\tx4\n",
            "Pencils\tx8\n",
            "\n",
            "2.Items listed by son only:\n",
            "Item\tQuantity\n",
            "Balloon\tx2\n",
            "Biscuits\tx1\n",
            "\n",
            "3.Items listed by daughter only:\n",
            "Item\tQuantity\n",
            "Chips\tx1\n",
            "Eraser\tx1\n",
            "ToyCar\tx1\n"
          ]
        }
      ]
    },
    {
      "cell_type": "code",
      "metadata": {
        "colab": {
          "base_uri": "https://localhost:8080/"
        },
        "id": "hDxlTgYlEo1x",
        "outputId": "97a916b9-af22-448d-dc43-d0e565b1997a"
      },
      "source": [
        "#Excercise 2\n",
        "cities = ['Mumbai','Delhi','Bangalore','Hyderabad','Ahmedabad','Chennai','Kolkata','Surat','Pune','Jaipur','Lucknow','Kanpur','Nagpur',\n",
        "          'Indore','Thane','Bhopal','Visakhapatnam','Patna','Vadodara', 'Ghaziabad', 'Ludhiana','Agra','Coimbatore','Nashik']\n",
        "\n",
        "visited1 = []\n",
        "visited2 = []\n",
        "visited3 = []\n",
        "n1 = 0\n",
        "n2 = 0\n",
        "n3 = 0\n",
        "\n",
        "while n1<6: #Because visits to be calculated in middle of the year\n",
        "  n = input(\"City visited by salesman 1: \") \n",
        "  visited1.append(n)\n",
        "  n1 += int(input(\"No. of months taken by salesman 1 in the city: \"))\n",
        "print()\n",
        "\n",
        "while n2<6: #Because visits to be calculated in middle of the year\n",
        "  n = input(\"City visited by salesman 2: \") \n",
        "  visited2.append(n)\n",
        "  n2 += int(input(\"No. of months taken by salesman 2 in the city: \"))\n",
        "print()\n",
        "\n",
        "while n3<6: #Because visits to be calculated in middle of the year\n",
        "  n = input(\"City visited by salesman 3: \")\n",
        "  visited3.append(n) \n",
        "  n3 += int(input(\"No. of months taken by salesman 3 in the city: \"))\n",
        "\n",
        "notVisited = set(cities) - (set(visited1)|set(visited2)|set(visited3))\n",
        "\n",
        "print('\\nCities Visited by Salesman 1:')\n",
        "print(*set(visited1),sep='\\n')\n",
        "if (n1>6):\n",
        "  print(\"*Salesman 1 still on visit to\",visited1[-1])\n",
        "\n",
        "print('\\nCities Visited by Salesman 2:')\n",
        "print(*set(visited2),sep='\\n')\n",
        "if (n2>6):\n",
        "  print(\"*Salesman 2 still on visit to\",visited2[-1])\n",
        "\n",
        "print('\\nCities Visited by Salesman 3:')\n",
        "print(*set(visited3),sep='\\n')\n",
        "if (n3>6):\n",
        "  print(\"*Salesman 3 still on visit to\",visited3[-1])\n",
        "\n",
        "print('\\nCities yet to be visited:')\n",
        "print(*notVisited,sep='\\n')"
      ],
      "execution_count": null,
      "outputs": [
        {
          "output_type": "stream",
          "name": "stdout",
          "text": [
            "City visited by Salesman 1: Indore\n",
            "No. of months taken by salesman 1 in the city: 2\n",
            "City visited by Salesman 1: Patna\n",
            "No. of months taken by salesman 1 in the city: 3\n",
            "City visited by Salesman 1: Patna\n",
            "No. of months taken by salesman 1 in the city: 2\n",
            "\n",
            "City visited by Salesman 2: Vadodara\n",
            "No. of months taken by salesman 2 in the city: 1\n",
            "City visited by Salesman 2: Ahmedabad\n",
            "No. of months taken by salesman 2 in the city: 2\n",
            "City visited by Salesman 2: Surat\n",
            "No. of months taken by salesman 2 in the city: 3\n",
            "\n",
            "City visited by Salesman 3: Chennai\n",
            "No. of months taken by salesman 3 in the city: 4\n",
            "City visited by Salesman 3: Indore\n",
            "No. of months taken by salesman 3 in the city: 3\n",
            "\n",
            "Cities Visited by Salesman 1:\n",
            "Indore\n",
            "Patna\n",
            "*Salesman1 still on visit in Patna\n",
            "\n",
            "Cities Visited by Salesman 2:\n",
            "Ahmedabad\n",
            "Vadodara\n",
            "Surat\n",
            "\n",
            "Cities Visited by Salesman 3:\n",
            "Chennai\n",
            "Indore\n",
            "*Salesman3 still on visit in Indore\n",
            "\n",
            "Cities yet to be visited:\n",
            "Ghaziabad\n",
            "Kolkata\n",
            "Bhopal\n",
            "Agra\n",
            "Ludhiana\n",
            "Nagpur\n",
            "Delhi\n",
            "Coimbatore\n",
            "Pune\n",
            "Lucknow\n",
            "Hyderabad\n",
            "Bangalore\n",
            "Nashik\n",
            "Mumbai\n",
            "Jaipur\n",
            "Visakhapatnam\n",
            "Thane\n",
            "Kanpur\n"
          ]
        }
      ]
    },
    {
      "cell_type": "code",
      "metadata": {
        "colab": {
          "base_uri": "https://localhost:8080/"
        },
        "id": "EJtHNDyqX4lF",
        "outputId": "43d58f0e-c6d9-45db-97a6-4b950502d358"
      },
      "source": [
        "#Excercise 3\n",
        "CAT1 = {}\n",
        "n = int(input(\"No. of Proctees: \"))\n",
        "for i in range(n):\n",
        "  name = input(\"\\nName: \")\n",
        "  rgno = input(\"Registration No.: \")\n",
        "  m1 = int(input(\"Marks1: \"))\n",
        "  m2 = int(input(\"Marks2: \"))\n",
        "  m3 = int(input(\"Marks3: \"))\n",
        "  avg = \"{:.2f}\".format((m1+m2+m3)/3,2)\n",
        "  CAT1[rgno] = (name,rgno,m1,m2,m3,avg)\n",
        "\n",
        "print()\n",
        "for i in CAT1.keys():\n",
        "  print(CAT1[i][5], CAT1[i][1], CAT1[i][0])"
      ],
      "execution_count": null,
      "outputs": [
        {
          "output_type": "stream",
          "name": "stdout",
          "text": [
            "No. of Proctees: 3\n",
            "\n",
            "Name: Vidhi Shah\n",
            "Registration No.: 21BCE1297\n",
            "Marks1: 14\n",
            "Marks2: 13\n",
            "Marks3: 28\n",
            "\n",
            "Name: Sudeep Ghosh\n",
            "Registration No.: 21BCE1298\n",
            "Marks1: 25\n",
            "Marks2: 30\n",
            "Marks3: 29\n",
            "\n",
            "Name: Anjali Desai\n",
            "Registration No.: 21BCE1299\n",
            "Marks1: 18\n",
            "Marks2: 14\n",
            "Marks3: 21\n",
            "\n",
            "18.33 21BCE1297 Vidhi Shah\n",
            "28.00 21BCE1298 Sudeep Ghosh\n",
            "17.67 21BCE1299 Anjali Desai\n"
          ]
        }
      ]
    },
    {
      "cell_type": "code",
      "metadata": {
        "colab": {
          "base_uri": "https://localhost:8080/"
        },
        "id": "4HSTtZZBqnKc",
        "outputId": "6ebc0dbf-1a54-4810-8fa7-3e16baabb44e"
      },
      "source": [
        "#Excercise 4\n",
        "n1 = int(input(\"No. of items for Customer 1: \"))\n",
        "sl1=[]\n",
        "for i in range(n1):\n",
        "  sl1.append(input(\"Item Name: \"))\n",
        "\n",
        "n2 = int(input(\"No. of items for Customer 2: \"))\n",
        "sl2=[]\n",
        "for i in range(n2):\n",
        "  sl2.append(input(\"Item Name: \"))\n",
        "\n",
        "n3 = int(input(\"No. of items for Customer 3: \"))\n",
        "sl3=[]\n",
        "for i in range(n3):\n",
        "  sl3.append(input(\"Item Name: \"))\n",
        "\n",
        "ci12 = ['Customer 1 & 2',set(sl1) & set(sl2)]\n",
        "ci23 = ['Customer 2 & 3',set(sl2) & set(sl3)]\n",
        "ci31 = ['Customer 1 & 3',set(sl1) & set(sl3)]\n",
        "lucky = max([len(ci12[1]),len(ci23[1]),len(ci31[1])])\n",
        "\n",
        "for i in [ci12,ci23,ci31]:\n",
        "  if len(i[1]) == lucky:\n",
        "    print(\"\\nLucky Winners:\",i[0])\n",
        "    print(\"Number of Common Items:\",lucky)\n",
        "    print(\"Common Items:\")\n",
        "    print(*i[1],sep='\\n')"
      ],
      "execution_count": null,
      "outputs": [
        {
          "output_type": "stream",
          "name": "stdout",
          "text": [
            "No. of items for Customer 1: 3\n",
            "Item Name: a\n",
            "Item Name: b\n",
            "Item Name: c\n",
            "No. of items for Customer 2: 2\n",
            "Item Name: a\n",
            "Item Name: b\n",
            "No. of items for Customer 3: 4\n",
            "Item Name: b\n",
            "Item Name: c\n",
            "Item Name: d\n",
            "Item Name: e\n",
            "\n",
            "Lucky Winners: Customer 1 & 2\n",
            "Number of Common Items: 2\n",
            "Common Items:\n",
            "a\n",
            "b\n",
            "\n",
            "Lucky Winners: Customer 1 & 3\n",
            "Number of Common Items: 2\n",
            "Common Items:\n",
            "c\n",
            "b\n"
          ]
        }
      ]
    },
    {
      "cell_type": "code",
      "metadata": {
        "colab": {
          "base_uri": "https://localhost:8080/"
        },
        "id": "L5TWe5K_sFfO",
        "outputId": "796b004c-5f1e-4873-afa9-74c29b205bd8"
      },
      "source": [
        "#Excercise 5\n",
        "\n",
        "directory = {'Lucy Fletcher':['(341) 823-1959','(404) 445-0876'],'Shirley Mcguire':['(678) 445-9846'],'Raymond Gibbs':['(935) 228-6451'],'Clark Clarke':['(744) 217-1123'],\n",
        "             'Gordon Ramsey':['(483) 817-7024'],'Tim Clark':['(928) 297-6277'],'Michael John':['(893) 906-1989'],'Donna Park':['(557) 839-7655','(557) 801-9334'],\n",
        "             'Oscar Walsh':['(390) 804-3688','(390) 655-0316'],'Malcolm Cook':['(781) 678-3511'],'Alejandro Kelly':['(970) 712-7474'],'Kelly Mann':['(785) 392-0784'],\n",
        "             'Tammy Ramsey':['(909) 380-8650'],'John Paul':['(683) 998-3540','(683) 999-7412'],'Tim Cook':['(502) 323-8329']}\n",
        "\n",
        "n = input()\n",
        "msg = 0\n",
        "for k in directory.keys():\n",
        "  v = directory[k]\n",
        "  if n.lower() in k.lower():\n",
        "    print(k+':',\", \".join(v))\n",
        "    msg = 1\n",
        "if not(msg):\n",
        "  print(\"No contact number available for\",n)"
      ],
      "execution_count": null,
      "outputs": [
        {
          "output_type": "stream",
          "name": "stdout",
          "text": [
            "John\n",
            "Michael John: (893) 906-1989\n",
            "John Paul: (683) 998-3540, (683) 999-7412\n"
          ]
        }
      ]
    },
    {
      "cell_type": "code",
      "metadata": {
        "colab": {
          "base_uri": "https://localhost:8080/"
        },
        "id": "VqgryQFLzpgH",
        "outputId": "c4466c63-460d-4391-c99b-0c7b71550f7d"
      },
      "source": [
        "#Excercise 6\n",
        "teams = {}\n",
        "n = int(input())\n",
        "\n",
        "for i in range(n):\n",
        "  t_n = input()\n",
        "  teams[t_n]=[]\n",
        "  for i in range(15):\n",
        "    teams[t_n].append(input())\n",
        "\n",
        "team_name = input('\\n')\n",
        "print(*teams[team_name],sep=', ')"
      ],
      "execution_count": null,
      "outputs": [
        {
          "output_type": "stream",
          "name": "stdout",
          "text": [
            "2\n",
            "India\n",
            "abc\n",
            "bcd\n",
            "cde\n",
            "def\n",
            "efg\n",
            "fgh\n",
            "ghi ghi\n",
            "hij\n",
            "ijk\n",
            "jkl m\n",
            "klm\n",
            "lmo\n",
            "mno\n",
            "nop\n",
            "opq\n",
            "New Zealand\n",
            "pqr\n",
            "qrs\n",
            "rst\n",
            "stu\n",
            "tuv\n",
            "uvw\n",
            "vwx\n",
            "wxy\n",
            "xyz\n",
            "yza\n",
            "zab\n",
            "abc\n",
            "bcd\n",
            "cde\n",
            "def\n",
            "\n",
            "India\n",
            "abc, bcd, cde, def, efg, fgh, ghi ghi, hij, ijk, jkl m, klm, lmo, mno, nop, opq\n"
          ]
        }
      ]
    }
  ]
}