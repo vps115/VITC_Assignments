{
  "nbformat": 4,
  "nbformat_minor": 0,
  "metadata": {
    "colab": {
      "name": "gslambda.ipynb",
      "provenance": [],
      "collapsed_sections": []
    },
    "kernelspec": {
      "name": "python3",
      "display_name": "Python 3"
    },
    "language_info": {
      "name": "python"
    }
  },
  "cells": [
    {
      "cell_type": "markdown",
      "source": [
        "#Lambda Functions\n",
        "##1. Anonymous or nameless function\n",
        "##2. Lambda is the keyword\n",
        "#Uses\n",
        "1. One-time use\n",
        "2. I/O of other functions\n",
        "3. Reduce the code size"
      ],
      "metadata": {
        "id": "6iS3dfMaIiZN"
      }
    },
    {
      "cell_type": "markdown",
      "source": [
        "#Syntax\n",
        "##lambda arguments: expression\n"
      ],
      "metadata": {
        "id": "wy5ZNOMsP3sd"
      }
    },
    {
      "cell_type": "code",
      "source": [
        "x = lambda a: a**2\n",
        "x(55)"
      ],
      "metadata": {
        "id": "0cwciY3mQCQv"
      },
      "execution_count": null,
      "outputs": []
    },
    {
      "cell_type": "code",
      "source": [
        "def sqr(a):\n",
        "  return a*a\n",
        "sqr(55)"
      ],
      "metadata": {
        "id": "jTW-pgbyQLMT"
      },
      "execution_count": null,
      "outputs": []
    },
    {
      "cell_type": "markdown",
      "source": [
        "#write a program to find max of two numbers"
      ],
      "metadata": {
        "id": "zvCzoILNVDIp"
      }
    },
    {
      "cell_type": "code",
      "source": [
        "def max(a,b):\n",
        "  if a>b:\n",
        "    return a\n",
        "  return b\n",
        "\n",
        "print(max(79,82))"
      ],
      "metadata": {
        "id": "HwT-mRIYVB1X"
      },
      "execution_count": null,
      "outputs": []
    },
    {
      "cell_type": "code",
      "source": [
        "mx= lambda x,y: x if x> y else y\n",
        "print(mx(999, 99))"
      ],
      "metadata": {
        "id": "eCGyEhF0WD7n"
      },
      "execution_count": null,
      "outputs": []
    },
    {
      "cell_type": "code",
      "source": [
        ""
      ],
      "metadata": {
        "id": "J3J68FeZVRge"
      },
      "execution_count": null,
      "outputs": []
    },
    {
      "cell_type": "markdown",
      "source": [
        "#Write a program to print square of first 10 numbers using lambda function"
      ],
      "metadata": {
        "id": "yQus1JOEz-vi"
      }
    },
    {
      "cell_type": "code",
      "source": [
        "sq = lambda x: x**2\n",
        "for i in range(1,11):\n",
        "  print(sq(i))"
      ],
      "metadata": {
        "id": "2Cegsmd-0G1H"
      },
      "execution_count": null,
      "outputs": []
    },
    {
      "cell_type": "markdown",
      "source": [
        "# Lambda with user-defined functions"
      ],
      "metadata": {
        "id": "sYjmv1qXbvCH"
      }
    },
    {
      "cell_type": "markdown",
      "source": [
        "#filter()\n",
        "Used to filter given iterables like sets, lists based on some condition\n",
        "#*filter(func, iterables)*"
      ],
      "metadata": {
        "id": "GYJqk3s3co7U"
      }
    },
    {
      "cell_type": "code",
      "source": [
        "lst =[2,3,4,5,6,7,8,9,10]\n",
        "newlst = list(filter(lambda x: (x%5 == 0),lst))\n",
        "print(newlst)"
      ],
      "metadata": {
        "id": "UsSacC4UKaKD"
      },
      "execution_count": null,
      "outputs": []
    },
    {
      "cell_type": "code",
      "source": [
        "age=[12, 9, 18, 40, 39, 41]\n",
        "\n",
        "\n",
        "def chkage(a):\n",
        "  if a < 18:\n",
        "    return False\n",
        "  return True\n",
        "\n",
        "voters = list(filter(chkage, age))\n",
        "print(voters)\n"
      ],
      "metadata": {
        "id": "0FuZhXN9OaP-"
      },
      "execution_count": null,
      "outputs": []
    },
    {
      "cell_type": "code",
      "source": [
        "age1= [56,34,2, 18, 90]\n",
        "voter1 = list(filter(lambda a: a> 18, age1))\n",
        "print(voter1)"
      ],
      "metadata": {
        "id": "OxQ_L9dzRjBj"
      },
      "execution_count": null,
      "outputs": []
    },
    {
      "cell_type": "markdown",
      "source": [
        "#Lambda within map()\n",
        "For every element present in the iterables apply some function and generate new elemnt with the required modification.\n",
        "#*map(func,iterables)*"
      ],
      "metadata": {
        "id": "BVxHm6UmfF6o"
      }
    },
    {
      "cell_type": "code",
      "source": [
        "def sqr1(a):\n",
        "  return a**2\n",
        "\n",
        "l= [5,6,7,9]\n",
        "\n",
        "list(map(sqr1, [5,6,7,9]))"
      ],
      "metadata": {
        "id": "A99Ht-bC1COf"
      },
      "execution_count": null,
      "outputs": []
    },
    {
      "cell_type": "code",
      "source": [
        "lst =[2,3,4,5,6,7,8,9,10]\n",
        "newlst = list(map(lambda x: (x**2),lst))\n",
        "print(newlst)"
      ],
      "metadata": {
        "id": "H_4UnOXQLrSG"
      },
      "execution_count": null,
      "outputs": []
    },
    {
      "cell_type": "code",
      "source": [
        "lst1=[1,2,3,4,5,6,7]\n",
        "lst2=[11,12,13,14,15,16, 17]\n",
        "lst3 = list(map(lambda x,y: x*y, lst1,lst2))\n",
        "print(lst3)"
      ],
      "metadata": {
        "id": "uVIeT0AWBiJ-"
      },
      "execution_count": null,
      "outputs": []
    },
    {
      "cell_type": "code",
      "source": [
        "l1=[1,2,3,4,5]\n",
        "l2=[11,12,13,14,15]\n",
        "l3=[111, 112, 113, 114, 115]\n",
        "l4=list(map(lambda x,y,z: x+y+z, l1,l2,l3))\n",
        "print(l4)"
      ],
      "metadata": {
        "id": "77FSERLQB5KA"
      },
      "execution_count": null,
      "outputs": []
    },
    {
      "cell_type": "markdown",
      "source": [
        "#lambda within reduce()\n",
        "#*reduce(func, sequence)*"
      ],
      "metadata": {
        "id": "RMaSy27bfikp"
      }
    },
    {
      "cell_type": "code",
      "source": [
        "from functools import reduce\n",
        "reduce(lambda a,b: a+b, [2,3,4,5,6,7,8,9,10])"
      ],
      "metadata": {
        "id": "52l9uj6-NDJu"
      },
      "execution_count": null,
      "outputs": []
    },
    {
      "cell_type": "markdown",
      "source": [
        "#Write a program to print the product of numbers given in the list"
      ],
      "metadata": {
        "id": "RCRccQTxa73C"
      }
    },
    {
      "cell_type": "code",
      "source": [
        "def multiply(l):\n",
        "  prod = l[0]\n",
        "  for i in range(1, len(l)):\n",
        "    prod*= l[i]\n",
        "  return prod\n",
        "\n",
        "print(multiply([44,33,22,1]))\n"
      ],
      "metadata": {
        "id": "wr5ugskGbElA"
      },
      "execution_count": null,
      "outputs": []
    },
    {
      "cell_type": "code",
      "source": [
        "n=[11,2, 3, 1]\n",
        "print(reduce(lambda x,y: x*y, n))"
      ],
      "metadata": {
        "id": "HE0n4MabgXOL"
      },
      "execution_count": null,
      "outputs": []
    },
    {
      "cell_type": "markdown",
      "source": [
        "#linear eqn"
      ],
      "metadata": {
        "id": "q31Hatomg9fx"
      }
    },
    {
      "cell_type": "code",
      "source": [
        "#3x+5\n",
        "q= lambda x:(3*x+5) \n",
        "q(5)"
      ],
      "metadata": {
        "id": "WHMbvelVhBP7"
      },
      "execution_count": null,
      "outputs": []
    },
    {
      "cell_type": "code",
      "source": [
        "#3x+5y\n",
        "q= lambda x,y:(3*x+5*y)\n",
        "q(2,2)"
      ],
      "metadata": {
        "id": "Al4WfFClhSc_"
      },
      "execution_count": null,
      "outputs": []
    },
    {
      "cell_type": "markdown",
      "source": [
        "#Quadratic Eqn"
      ],
      "metadata": {
        "id": "26O9g7hUhgRZ"
      }
    },
    {
      "cell_type": "code",
      "source": [
        "#(a+b)^2\n",
        "s= lambda a,b:(a+b)**2\n",
        "s(5,5)"
      ],
      "metadata": {
        "id": "XiOus8oshixz"
      },
      "execution_count": null,
      "outputs": []
    },
    {
      "cell_type": "markdown",
      "source": [
        "#Write a program that filters vowels in a seq using a filter function"
      ],
      "metadata": {
        "id": "DNe2dMtWih2J"
      }
    },
    {
      "cell_type": "code",
      "source": [
        "def fun(var):\n",
        "    letters = ['a', 'e', 'i', 'o', 'u']\n",
        "    if (var in letters):\n",
        "        return True\n",
        "    else:\n",
        "        return False\n",
        "    \n",
        "sequence = ['g', 'e', 'e', 'j', 'k', 's', 'p', 'r']\n",
        "  \n",
        "# using filter function\n",
        "filtered = filter(fun, sequence)\n",
        "  \n",
        "for s in filtered:\n",
        "    print(s)"
      ],
      "metadata": {
        "id": "K1vlBwVIimse"
      },
      "execution_count": null,
      "outputs": []
    },
    {
      "cell_type": "code",
      "source": [
        "seq = ['g', 'e', 'e', 'j', 'k', 's', 'p', 'r', 'i']\n",
        "fil = list(filter(lambda x: (x in ('a','e','i','o','u')), seq))\n",
        "print(fil)"
      ],
      "metadata": {
        "id": "k_JDsCTUiqRh"
      },
      "execution_count": null,
      "outputs": []
    },
    {
      "cell_type": "markdown",
      "source": [
        "#Write a python program to accept a list of numbers from user. If the number is divisible by 4, square the numbers and print the list.(Use filter and map functions)"
      ],
      "metadata": {
        "id": "RpN3IPY76coi"
      }
    },
    {
      "cell_type": "code",
      "source": [
        "l=[4, 40, 111, 13, 101, 44]\n",
        "ans = list(map(lambda x: x**2, filter(lambda x: (x%4==0), l)))\n",
        "print(ans)"
      ],
      "metadata": {
        "id": "yO2Qdiu56s56"
      },
      "execution_count": null,
      "outputs": []
    },
    {
      "cell_type": "markdown",
      "source": [
        "#Write a python program to get list of players in a list and convert them into capital letters"
      ],
      "metadata": {
        "id": "0qKv8NZ98Fi8"
      }
    },
    {
      "cell_type": "code",
      "source": [
        "my_fav = ['CR7', 'messi', 'mbappe', 'salah']\n",
        "uppercase = list(map(lambda x:x.upper(), my_fav))\n",
        "print(uppercase)"
      ],
      "metadata": {
        "id": "hOrGSXYM8tyj"
      },
      "execution_count": null,
      "outputs": []
    },
    {
      "cell_type": "markdown",
      "source": [
        "#Write a python program to get list of score of 10 students in python FAT exam. Display the scores of the students who has secured more than 75 marks with and without using anonymous function"
      ],
      "metadata": {
        "id": "aG-79C2sJKso"
      }
    },
    {
      "cell_type": "code",
      "source": [
        "scores = [66, 90, 68, 59, 76, 60, 88, 74, 81, 65]\n",
        "\n",
        "def above75(score):\n",
        "    return score > 75\n",
        "\n",
        "over_75 = list(filter(above75, scores))\n",
        "\n",
        "print(over_75)"
      ],
      "metadata": {
        "id": "irmYGsBtJjSL"
      },
      "execution_count": null,
      "outputs": []
    },
    {
      "cell_type": "code",
      "source": [
        "scores1 = [66, 90, 68, 59, 76, 60, 88, 74, 81, 65,90]\n",
        "out= list(filter(lambda x:x>75, scores1))\n",
        "print(out)"
      ],
      "metadata": {
        "id": "vt3-nKt0JqSA"
      },
      "execution_count": null,
      "outputs": []
    }
  ]
}