{
  "nbformat": 4,
  "nbformat_minor": 0,
  "metadata": {
    "kernelspec": {
      "display_name": "Python 3",
      "language": "python",
      "name": "python3"
    },
    "language_info": {
      "codemirror_mode": {
        "name": "ipython",
        "version": 3
      },
      "file_extension": ".py",
      "mimetype": "text/x-python",
      "name": "python",
      "nbconvert_exporter": "python",
      "pygments_lexer": "ipython3",
      "version": "3.6.2"
    },
    "colab": {
      "name": "02_Introduction.ipynb",
      "provenance": [],
      "collapsed_sections": []
    }
  },
  "cells": [
    {
      "cell_type": "markdown",
      "metadata": {
        "collapsed": true,
        "id": "hVaX_k0E5NOb"
      },
      "source": [
        "## Time to code!"
      ]
    },
    {
      "cell_type": "code",
      "metadata": {
        "id": "hkwsrg-e8ycL"
      },
      "source": [
        "print (\"Hello BE Students, Good Morning\") "
      ],
      "execution_count": null,
      "outputs": []
    },
    {
      "cell_type": "code",
      "metadata": {
        "id": "Xmd-nPO9JqFT"
      },
      "source": [
        "#variable: is a reserved memory location to store values.\n",
        "s1 = \"python\"\n",
        "print(s1)"
      ],
      "execution_count": null,
      "outputs": []
    },
    {
      "cell_type": "code",
      "metadata": {
        "id": "7LsfE4iCKOCD"
      },
      "source": [
        "s2=\"Machine_Learning\"\n",
        "s3=\"DBMS\""
      ],
      "execution_count": null,
      "outputs": []
    },
    {
      "cell_type": "code",
      "metadata": {
        "id": "GbuPyv0pKVmn"
      },
      "source": [
        "print(\"Welcome to s1\")"
      ],
      "execution_count": null,
      "outputs": []
    },
    {
      "cell_type": "code",
      "metadata": {
        "id": "BalGWuAQKepe"
      },
      "source": [
        "print(\"Welcome to\", s1)\n",
        "print(\"Welcome to\", s2)\n",
        "print(\"Welcome to\", s3)"
      ],
      "execution_count": null,
      "outputs": []
    },
    {
      "cell_type": "code",
      "metadata": {
        "id": "nEofyzY8PiFV"
      },
      "source": [
        "print(\"Introduction to\", s1,\"and\", s2);"
      ],
      "execution_count": null,
      "outputs": []
    },
    {
      "cell_type": "code",
      "metadata": {
        "id": "vIhgYN_0BVGi"
      },
      "source": [
        "#Write the code to print your name, course and mobile#\n",
        "print(\"Name\")\n",
        "print(\"Course\")\n",
        "print(\"998877665544\")\n"
      ],
      "execution_count": null,
      "outputs": []
    },
    {
      "cell_type": "code",
      "metadata": {
        "id": "RV15dHwEWZqS"
      },
      "source": [
        "age =22\n",
        "print(\"Your age is:\", age)"
      ],
      "execution_count": null,
      "outputs": []
    },
    {
      "cell_type": "markdown",
      "metadata": {
        "id": "8PmCVmmZeMSI"
      },
      "source": [
        "Reassign the variables"
      ]
    },
    {
      "cell_type": "code",
      "metadata": {
        "id": "8DmYXEYbWdNs"
      },
      "source": [
        "age = 25\n",
        "print(\"Your age is:\", age)"
      ],
      "execution_count": null,
      "outputs": []
    },
    {
      "cell_type": "code",
      "metadata": {
        "id": "CXpiS1wNWiBN"
      },
      "source": [
        "age = age+1\n",
        "age"
      ],
      "execution_count": null,
      "outputs": []
    },
    {
      "cell_type": "markdown",
      "metadata": {
        "id": "TKDA5cxNOMe4"
      },
      "source": [
        "#Variable Naming Rules in Python\n",
        "1. Variable name should start with letter.\n",
        "### Valid : age , _age , Age\n",
        "### Invalid : 1age\n",
        "2. No special characters allowed other than underscore (_).\n",
        "### Valid : age_ , _age\n",
        "### Invalid : age_*\n",
        "3. Variables are case sensitive.\n",
        "### age and Age are different.\n",
        "4. Variable name can have numbers but not at the beginning.\n",
        "### Example: Age1\n",
        "5. Python keywords are not allowed.\n",
        "###  Invalid: if, break, continue..."
      ]
    },
    {
      "cell_type": "markdown",
      "metadata": {
        "id": "tY3mx5MXpAVe"
      },
      "source": [
        "Remove the illegal characters in the variable name:"
      ]
    },
    {
      "cell_type": "code",
      "metadata": {
        "id": "o8qTDKSgpBzN"
      },
      "source": [
        "#Remove the illegal characters\n",
        "myfirst_name = \"John\""
      ],
      "execution_count": null,
      "outputs": []
    },
    {
      "cell_type": "code",
      "metadata": {
        "id": "-Jf0GuuHAHVi"
      },
      "source": [
        "#Python automatically determines variable type.\n",
        "age= \"Harsh\"\n",
        "print(age)\n",
        "print(type(age))"
      ],
      "execution_count": null,
      "outputs": []
    },
    {
      "cell_type": "code",
      "metadata": {
        "id": "l6ZxWkqhUZnY"
      },
      "source": [
        "print(type(s1))"
      ],
      "execution_count": null,
      "outputs": []
    },
    {
      "cell_type": "code",
      "metadata": {
        "id": "mUFjBohuqoXj"
      },
      "source": [
        "x = True\n",
        "print(type(x))"
      ],
      "execution_count": null,
      "outputs": []
    },
    {
      "cell_type": "markdown",
      "metadata": {
        "id": "ftWmN1T3p2x6"
      },
      "source": [
        "write a code to convert x into floating point"
      ]
    },
    {
      "cell_type": "code",
      "metadata": {
        "id": "uL50lv8mqVXk"
      },
      "source": [
        "#print ans as float\n",
        "x=5\n",
        "print(float(x))"
      ],
      "execution_count": null,
      "outputs": []
    },
    {
      "cell_type": "code",
      "metadata": {
        "id": "UwLQ_ZkYrGH_"
      },
      "source": [
        "#Insert the correct syntax to convert x into a integer.\n",
        "x = 5.5\n",
        "print(int(x))\n"
      ],
      "execution_count": null,
      "outputs": []
    },
    {
      "cell_type": "code",
      "metadata": {
        "id": "SIUnaVyJW8YX"
      },
      "source": [
        "#Sequence of instructions\n",
        "a=1 \n",
        "print(a)\n",
        "a=a+1 \n",
        "print(a)\n",
        "a=a+1 \n",
        "print(a)\n"
      ],
      "execution_count": null,
      "outputs": []
    },
    {
      "cell_type": "markdown",
      "metadata": {
        "id": "4ByKWHM4nSXo"
      },
      "source": [
        "#Getting inputs from user\n"
      ]
    },
    {
      "cell_type": "code",
      "metadata": {
        "id": "8BigGkvk-MMB"
      },
      "source": [
        "n = input (\"What is your major?\")\n",
        "print(n)"
      ],
      "execution_count": null,
      "outputs": []
    },
    {
      "cell_type": "code",
      "metadata": {
        "id": "15WSphLp-Wfm"
      },
      "source": [
        "print(\"Welcome to\",n)"
      ],
      "execution_count": null,
      "outputs": []
    },
    {
      "cell_type": "code",
      "metadata": {
        "id": "xtJArWuj-elt"
      },
      "source": [
        "print(\"Welcome to\",n, \". All the best!\")"
      ],
      "execution_count": null,
      "outputs": []
    },
    {
      "cell_type": "markdown",
      "metadata": {
        "id": "swFck4I1ojOn"
      },
      "source": [
        "Create a variable named carname and get the input from the user and display the carname"
      ]
    },
    {
      "cell_type": "code",
      "metadata": {
        "id": "a5yARveposaG"
      },
      "source": [
        "# Display carname\n"
      ],
      "execution_count": null,
      "outputs": []
    },
    {
      "cell_type": "code",
      "metadata": {
        "id": "yGVd3sGO6-eg"
      },
      "source": [
        "#  operators\n",
        "# Arithmetic operators\n",
        "x= 5\n",
        "y=3\n",
        "print(\"Addition:\", x+y)\n",
        "print(\"Subtraction:\", x-y)\n",
        "print(\"Multiplication:\", x*y)\n",
        "print(\"Divison:\", x/y)\n",
        "print(\"Remainder:\", x%y)\n",
        "print(\"Exponential:\", x**y)\n",
        "print(\"Floor:\", x//y)\n"
      ],
      "execution_count": null,
      "outputs": []
    },
    {
      "cell_type": "code",
      "metadata": {
        "id": "70mfdC_h80at"
      },
      "source": [
        "x = \"5\"\n",
        "y = \"John\"\n",
        "print(x + y)"
      ],
      "execution_count": null,
      "outputs": []
    },
    {
      "cell_type": "code",
      "metadata": {
        "id": "j3j3_uBd7dfB"
      },
      "source": [
        "#  operators\n",
        "#Assignment Operators\n",
        "x=5\n",
        "x=x-1\n",
        "print(x)"
      ],
      "execution_count": null,
      "outputs": []
    },
    {
      "cell_type": "markdown",
      "metadata": {
        "id": "FYgqz_KF1FAZ"
      },
      "source": [
        "Short hand opearator\n"
      ]
    },
    {
      "cell_type": "code",
      "metadata": {
        "id": "WxjWTSb38Z2W"
      },
      "source": [
        "x= 5\n",
        "x-=1\n",
        "print(x)"
      ],
      "execution_count": null,
      "outputs": []
    },
    {
      "cell_type": "markdown",
      "metadata": {
        "id": "TwfxQ5Zn1uOW"
      },
      "source": [
        "# Write code to subtract using short-hand operator"
      ]
    },
    {
      "cell_type": "code",
      "metadata": {
        "id": "O3fd0sc81enA"
      },
      "source": [
        "# Write code to subtract using short-hand operator\n",
        "x = 10\n",
        "\n",
        "print()"
      ],
      "execution_count": null,
      "outputs": []
    },
    {
      "cell_type": "markdown",
      "metadata": {
        "id": "AoDE5m0s3eE1"
      },
      "source": [
        "# Comparison Operator: compares the values of two operands and returns True or False based on the condition."
      ]
    },
    {
      "cell_type": "markdown",
      "metadata": {
        "id": "0DTS1Pyan6Zp"
      },
      "source": [
        "1. **<** less than\n",
        "Checks if left value is lesser than right"
      ]
    },
    {
      "cell_type": "code",
      "metadata": {
        "id": "zgXkp9S-n9NW"
      },
      "source": [
        "a=10\n",
        "b=5\n",
        "b<a\n"
      ],
      "execution_count": null,
      "outputs": []
    },
    {
      "cell_type": "code",
      "metadata": {
        "id": "0KW-v3eo3Vw7"
      },
      "source": [
        "'Ben' < 'ben'"
      ],
      "execution_count": null,
      "outputs": []
    },
    {
      "cell_type": "markdown",
      "metadata": {
        "id": "a_q9SLuJ45ki"
      },
      "source": [
        "Here ascii value of the string is compared. Ascii of B = 66 and b =98"
      ]
    },
    {
      "cell_type": "markdown",
      "metadata": {
        "id": "VAAI1EtuoRrq"
      },
      "source": [
        "2.**>** greater than. Checks if value on left is greater than right value."
      ]
    },
    {
      "cell_type": "code",
      "metadata": {
        "id": "Y5Qjma0JpaA5"
      },
      "source": [
        "0.5 > False "
      ],
      "execution_count": null,
      "outputs": []
    },
    {
      "cell_type": "markdown",
      "metadata": {
        "id": "iH6yaQJopFY5"
      },
      "source": [
        "3. **<=** less than or equal to, returns True only if the value on the left is either less than or equal to right."
      ]
    },
    {
      "cell_type": "code",
      "metadata": {
        "id": "Bg1yjTgRpSOs"
      },
      "source": [
        "a = 2\n",
        "a <= a*2"
      ],
      "execution_count": null,
      "outputs": []
    },
    {
      "cell_type": "markdown",
      "metadata": {
        "id": "n_wnm6BkqCHe"
      },
      "source": [
        "4. **>=** (Equal To or Greater Than), returns True only if the value on the left is greater than or equal to right."
      ]
    },
    {
      "cell_type": "code",
      "metadata": {
        "id": "BHzdyenxrOBC"
      },
      "source": [
        "from math import pi\n",
        "3.14 >= pi\n"
      ],
      "execution_count": null,
      "outputs": []
    },
    {
      "cell_type": "markdown",
      "metadata": {
        "id": "6rWJL5q_q1gH"
      },
      "source": [
        "5. **==** (Equal to), returns True if the values on either side of the operator are equal."
      ]
    },
    {
      "cell_type": "code",
      "metadata": {
        "id": "XWSv0OLjrGvA"
      },
      "source": [
        "3=='3'"
      ],
      "execution_count": null,
      "outputs": []
    },
    {
      "cell_type": "markdown",
      "metadata": {
        "id": "uADyz9Ucr0Dl"
      },
      "source": [
        "6.**!=** (Not Equalto), does exact opposite of =="
      ]
    },
    {
      "cell_type": "code",
      "metadata": {
        "id": "aFqilhDT8gkV"
      },
      "source": [
        "x=100\n",
        "y=10\n",
        "print(x!=y)"
      ],
      "execution_count": null,
      "outputs": []
    },
    {
      "cell_type": "markdown",
      "metadata": {
        "id": "2BTbYvortOJ8"
      },
      "source": [
        "Write a code to get two inputs from user and do all the arthimetic operations.\n"
      ]
    },
    {
      "cell_type": "code",
      "metadata": {
        "id": "YAWuhvezteLr"
      },
      "source": [
        "# Arthimetic operations\n",
        "x= int(input(\"Enter x:\"))\n",
        "y= int(input(\"Enter y:\"))"
      ],
      "execution_count": null,
      "outputs": []
    },
    {
      "cell_type": "markdown",
      "metadata": {
        "id": "b0m6pWkxsPSP"
      },
      "source": [
        "# Logical Operators"
      ]
    },
    {
      "cell_type": "markdown",
      "metadata": {
        "id": "DWIDS-1zttar"
      },
      "source": [
        "1.Logical **or**- Returns True if either of the operands are True"
      ]
    },
    {
      "cell_type": "code",
      "metadata": {
        "id": "7jwbGRZA95gA"
      },
      "source": [
        "x=5\n",
        "print(x>3 or x<4)"
      ],
      "execution_count": null,
      "outputs": []
    },
    {
      "cell_type": "markdown",
      "metadata": {
        "id": "s4tzaXKgt4SF"
      },
      "source": [
        "2.Logical **and**-Returns True if both statements are true"
      ]
    },
    {
      "cell_type": "code",
      "metadata": {
        "id": "i-9KGmEauBVg"
      },
      "source": [
        "x = 5\n",
        "print(x > 3 and x < 10)\n"
      ],
      "execution_count": null,
      "outputs": []
    },
    {
      "cell_type": "markdown",
      "metadata": {
        "id": "06oAgRbyuS_r"
      },
      "source": [
        "3.Logical **not**-returns False if the result is true"
      ]
    },
    {
      "cell_type": "code",
      "metadata": {
        "id": "aKXy6jb_uZIw"
      },
      "source": [
        "x = 5\n",
        "\n",
        "print(not(x > 3 and x < 10))"
      ],
      "execution_count": null,
      "outputs": []
    },
    {
      "cell_type": "markdown",
      "metadata": {
        "id": "gIeGWDt7uqvj"
      },
      "source": [
        "#Bitwise operator: used to compare (binary) numbers"
      ]
    },
    {
      "cell_type": "markdown",
      "metadata": {
        "id": "VWqsCB48u_5z"
      },
      "source": [
        "1. **&- AND:**\tSets each bit to 1 if both bits are 1"
      ]
    },
    {
      "cell_type": "code",
      "metadata": {
        "id": "t1xwDb81vNr_"
      },
      "source": [
        "a = 10\n",
        "b = 6\n",
        " \n",
        "# Print bitwise AND operation      #10 = 0000 1010; 6 = 0000 0110 = 0010\n",
        "print(\"a & b =\", a & b)"
      ],
      "execution_count": null,
      "outputs": []
    },
    {
      "cell_type": "markdown",
      "metadata": {
        "id": "m2bgfCSTvVsX"
      },
      "source": [
        "2. **|-OR** Sets each bit to 1 if one of two bits is 1"
      ]
    },
    {
      "cell_type": "code",
      "metadata": {
        "id": "37BUPhfHvyuR"
      },
      "source": [
        "a = 10\n",
        "b = 6\n",
        "# Print bitwise OR operation       #10 = 0000 1010; 6 = 0000 0110 = 1110\n",
        "print(\"a | b =\", a | b)"
      ],
      "execution_count": null,
      "outputs": []
    },
    {
      "cell_type": "markdown",
      "metadata": {
        "id": "K5imEF24wCax"
      },
      "source": [
        "3. **^ XOR:**\tSets each bit to 1 if only one of two bits is 1"
      ]
    },
    {
      "cell_type": "code",
      "metadata": {
        "id": "EWwNv0u3wTpN"
      },
      "source": [
        "a = 10\n",
        "b = 6\n",
        "# print bitwise XOR operation     #10 = 0000 1010; 6 = 0000 0110 = 0000 1100\n",
        "print(\"a ^ b =\", a ^ b)"
      ],
      "execution_count": null,
      "outputs": []
    },
    {
      "cell_type": "markdown",
      "metadata": {
        "id": "H4yx_hmMwlfF"
      },
      "source": [
        "4. **~ NOT:**\tInverts all the bits"
      ]
    },
    {
      "cell_type": "code",
      "metadata": {
        "id": "4ENk8YdJ_Lrc"
      },
      "source": [
        "a = 10\n",
        "# Print bitwise NOT operation      #10 = 0000 1010 = 1111 0101 = 0000 1010 \n",
        "print(\"~a =\", ~a)                                                       "
      ],
      "execution_count": null,
      "outputs": []
    },
    {
      "cell_type": "markdown",
      "metadata": {
        "id": "Wmmpcay8CubS"
      },
      "source": [
        "2's complement = 1's complement + 1"
      ]
    },
    {
      "cell_type": "markdown",
      "metadata": {
        "id": "JYQaWphVxQkR"
      },
      "source": [
        "4. **<< left shift:**\tShift left by pushing zeros in from the right and let the leftmost bits fall off"
      ]
    },
    {
      "cell_type": "code",
      "metadata": {
        "id": "f3kE6NzMNgLB"
      },
      "source": [
        "# print bitwise left shift operation     \n",
        "a=5                                     #5 = 0001 0100 => 0001 0100           \n",
        "print(a << 2)"
      ],
      "execution_count": null,
      "outputs": []
    },
    {
      "cell_type": "markdown",
      "metadata": {
        "id": "D5SdAqXmx0I-"
      },
      "source": [
        "5. **>> right shift:**\tShift right by pushing copies of the leftmost bit in from the left, and let the rightmost bits fall off"
      ]
    },
    {
      "cell_type": "code",
      "metadata": {
        "id": "FxPbgeLcO4QD"
      },
      "source": [
        "# print bitwise right shift operation     #5 = 0000 0101 => 0000 0101\n",
        "a=10\n",
        "print(a >> 1)"
      ],
      "execution_count": null,
      "outputs": []
    },
    {
      "cell_type": "markdown",
      "metadata": {
        "id": "NJfc1Gexu9Sy"
      },
      "source": [
        "Write a program to swap two variables"
      ]
    },
    {
      "cell_type": "code",
      "metadata": {
        "id": "qsS1oP2dvC-G"
      },
      "source": [
        "#input: x=5; y=100\n",
        "#output: x= 100; y=5\n"
      ],
      "execution_count": null,
      "outputs": []
    },
    {
      "cell_type": "code",
      "metadata": {
        "id": "wU0SGEYV_krc"
      },
      "source": [
        "#Discount Calculation\n",
        "cost = input(print(\"Enter the cost of item:\"))\n",
        "#amt = cost*0.9\n",
        "amt = int(cost) * .9\n",
        "print(\"Please pay the amount\", amt)"
      ],
      "execution_count": null,
      "outputs": []
    },
    {
      "cell_type": "markdown",
      "metadata": {
        "id": "_-m867zMyYiF"
      },
      "source": [
        "Write a program to accept a number as input and display the square of the number as the output.\n"
      ]
    },
    {
      "cell_type": "code",
      "metadata": {
        "id": "Ncr8PlPG6RId"
      },
      "source": [
        "#square of the number \n",
        "#x = int(input())"
      ],
      "execution_count": null,
      "outputs": []
    },
    {
      "cell_type": "code",
      "metadata": {
        "id": "QlVnQ1bvCmXK"
      },
      "source": [
        "#Understanding if condition\n",
        "choice= input(print(\"Please enter your major\"))\n",
        "if choice == \"AI\":\n",
        "  print(\"You belong to Artificial Intelligence.\")\n",
        "  print(\"All the best\")\n",
        "if choice == \"ML\":\n",
        "  print(\"You belong to Machine Learning.\")\n",
        "if choice == \"BD\":\n",
        "  print(\"You belong to Big Data.\")\n"
      ],
      "execution_count": null,
      "outputs": []
    },
    {
      "cell_type": "code",
      "metadata": {
        "id": "DGTSjCR3RyFT"
      },
      "source": [
        "#Python relies on indentation (whitespace at the beginning of a line) to define scope in the code. \n",
        "#Other programming languages often use curly-brackets for this purpose.\n",
        "choice= input(print(\"Please enter your major\"))\n",
        "if choice == \"AI\":\n",
        "print(\"You belong to Artificial Intelligence.\")"
      ],
      "execution_count": null,
      "outputs": []
    },
    {
      "cell_type": "code",
      "metadata": {
        "id": "x-2FT9H5zrkW"
      },
      "source": [
        "a = 100\n",
        "b = 200\n",
        "if b > a:\n",
        "  print(\"b is greater than a\")"
      ],
      "execution_count": null,
      "outputs": []
    },
    {
      "cell_type": "markdown",
      "metadata": {
        "id": "JudFLsFKz677"
      },
      "source": [
        "**Elif -** if the previous conditions were not true, then try this condition\"."
      ]
    },
    {
      "cell_type": "code",
      "metadata": {
        "id": "kOPxqYWJ0EY6"
      },
      "source": [
        "a = 100\n",
        "b = 100\n",
        "if b > a:\n",
        "  print(\"b is greater than a\")\n",
        "elif a == b:\n",
        "  print(\"a and b are equal\")"
      ],
      "execution_count": null,
      "outputs": []
    },
    {
      "cell_type": "markdown",
      "metadata": {
        "id": "h03sl0cY5i7a"
      },
      "source": [
        "**else** keyword catches anything which isn't caught by the preceding conditions."
      ]
    },
    {
      "cell_type": "code",
      "metadata": {
        "id": "MIaFtR8D5hUl"
      },
      "source": [
        "a = 200\n",
        "b = 100\n",
        "if b > a:\n",
        "  print(\"b is greater than a\")\n",
        "elif a == b:\n",
        "  print(\"a and b are equal\")\n",
        "else:\n",
        "  print(\"a is greater than b\")"
      ],
      "execution_count": null,
      "outputs": []
    },
    {
      "cell_type": "markdown",
      "metadata": {
        "id": "TqCtNu-i7Ow7"
      },
      "source": [
        "Write a program to accept a number as input and check if the number is posotive or negative."
      ]
    },
    {
      "cell_type": "code",
      "metadata": {
        "id": "qlfclgRU7e60"
      },
      "source": [
        "# positive or negative.\n",
        "\n"
      ],
      "execution_count": null,
      "outputs": []
    },
    {
      "cell_type": "markdown",
      "metadata": {
        "id": "i5F6RFALw2c9"
      },
      "source": [
        "**Write a program to find the whether the input year is a leap year**\n",
        "1. If it is not divisible by 4. It is not a leap year. \n",
        "For example: 1997 is not a leap year.\n",
        "2. If a year is divisible by 4, but not by 100. \n",
        "For example: 2012, it is a leap year. \n",
        "3. If a year is divisible by both 4 and 100, but not by 400. \n",
        "For example: 1900, then it is not a leap year. \n",
        "If a year is divisible by both, then it is a leap year.  2000 is a leap year."
      ]
    },
    {
      "cell_type": "code",
      "metadata": {
        "id": "e_aq5lYJx0sD"
      },
      "source": [
        "#leap year"
      ],
      "execution_count": null,
      "outputs": []
    },
    {
      "cell_type": "markdown",
      "metadata": {
        "id": "3TBWGcyl8mZX"
      },
      "source": [
        "**for loop**\n",
        "1. Is a Iterator\n",
        "2. excutes a block as long as specified condition is true\n",
        "**range():** python built-in function"
      ]
    },
    {
      "cell_type": "code",
      "metadata": {
        "id": "RqXHqfJgK3KY"
      },
      "source": [
        "# for \n",
        "for i in range(10):        #upperbound is exclusive     i=0; i=1; i=2; ....... i=9\n",
        "  print(i*5)"
      ],
      "execution_count": null,
      "outputs": []
    },
    {
      "cell_type": "code",
      "metadata": {
        "id": "LVTXAXFfT8V3"
      },
      "source": [
        "t = int(input(\"Enter the Table:\"))\n",
        "for i in range(1,11):\n",
        "  print(i, \"X\", t, \"=\", i*t)"
      ],
      "execution_count": null,
      "outputs": []
    },
    {
      "cell_type": "code",
      "metadata": {
        "id": "D7xE5wyhjyG0"
      },
      "source": [
        "\n",
        "for i in range(4,10):\n",
        "  print(\"i=:\", i)\n",
        "  "
      ],
      "execution_count": null,
      "outputs": []
    },
    {
      "cell_type": "markdown",
      "metadata": {
        "id": "DoKeJAGeAi3d"
      },
      "source": [
        "To print horizontally (row)"
      ]
    },
    {
      "cell_type": "code",
      "metadata": {
        "id": "F3F6V1ssAnUb"
      },
      "source": [
        "for i in range(10,0, -1): \n",
        "  print(i, end =\" \")"
      ],
      "execution_count": null,
      "outputs": []
    },
    {
      "cell_type": "markdown",
      "metadata": {
        "id": "VE0hzQCQBipw"
      },
      "source": [
        "Write a program to accept number from user and print sum of numbers"
      ]
    },
    {
      "cell_type": "code",
      "metadata": {
        "id": "7dTTybSuBrK5"
      },
      "source": [
        "x= int(input())\n",
        "sum=0\n",
        "# write your code here\n"
      ],
      "execution_count": null,
      "outputs": []
    },
    {
      "cell_type": "markdown",
      "metadata": {
        "id": "3y_yytYMCilW"
      },
      "source": [
        "**While loop:** we can execute a set of statements as long as a condition is true."
      ]
    },
    {
      "cell_type": "code",
      "metadata": {
        "id": "c0tytVkfCq9M"
      },
      "source": [
        "i = 1\n",
        "while i < 6:\n",
        "  print(i)\n",
        "  i += 1"
      ],
      "execution_count": null,
      "outputs": []
    },
    {
      "cell_type": "markdown",
      "metadata": {
        "id": "Tfq-os_oGYV4"
      },
      "source": [
        "**Lambda operator:** The lambda operator or lambda function is a way to create small anonymous functions, i.e. functions without a name."
      ]
    },
    {
      "cell_type": "code",
      "metadata": {
        "id": "T5MqW6nnG1Qs"
      },
      "source": [
        "# lamba function to add three numbers\n",
        "fadd = lambda a, b, c : a + b + c\n",
        "print(fadd(5, 6, 2))"
      ],
      "execution_count": null,
      "outputs": []
    },
    {
      "cell_type": "markdown",
      "metadata": {
        "id": "KdlBzOg3HVMg"
      },
      "source": [
        "Write a program to multiply two numbers using lambda function\n"
      ]
    },
    {
      "cell_type": "code",
      "metadata": {
        "id": "Q3LoOrwrHQKU"
      },
      "source": [
        "# lamba function to multiply two numbers"
      ],
      "execution_count": null,
      "outputs": []
    }
  ]
}