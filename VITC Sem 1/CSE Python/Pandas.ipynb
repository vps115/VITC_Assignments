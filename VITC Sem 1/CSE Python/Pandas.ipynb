{
  "nbformat": 4,
  "nbformat_minor": 5,
  "metadata": {
    "kernelspec": {
      "display_name": "Python 3",
      "language": "python",
      "name": "python3"
    },
    "language_info": {
      "codemirror_mode": {
        "name": "ipython",
        "version": 3
      },
      "file_extension": ".py",
      "mimetype": "text/x-python",
      "name": "python",
      "nbconvert_exporter": "python",
      "pygments_lexer": "ipython3",
      "version": "3.8.8"
    },
    "colab": {
      "name": "gsPandas.ipynb",
      "provenance": [],
      "collapsed_sections": []
    }
  },
  "cells": [
    {
      "cell_type": "markdown",
      "source": [
        "#Pandas - \"Python Data Analysis Library\"\n",
        "##### Multidimensional structured data sets\n",
        "##### Pandas takes the data input in .csv, .tsv or sql database and creates a python object with rows and columns."
      ],
      "metadata": {
        "id": "-vkn0zNmRx6c"
      },
      "id": "-vkn0zNmRx6c"
    },
    {
      "cell_type": "code",
      "metadata": {
        "id": "d57eed8d"
      },
      "source": [
        "import pandas as pd\n",
        "import numpy as np"
      ],
      "id": "d57eed8d",
      "execution_count": null,
      "outputs": []
    },
    {
      "cell_type": "code",
      "source": [
        "lst ={'lang': ['python', 'c', 'c++', 'dbms']}\n",
        "df= pd.DataFrame(lst)\n",
        "print(df)"
      ],
      "metadata": {
        "id": "OjD6EqH4UC3m"
      },
      "id": "OjD6EqH4UC3m",
      "execution_count": null,
      "outputs": []
    },
    {
      "cell_type": "markdown",
      "metadata": {
        "id": "60ce150f"
      },
      "source": [
        "### Creating DataFrame from files"
      ],
      "id": "60ce150f"
    },
    {
      "cell_type": "markdown",
      "metadata": {
        "id": "0336db87"
      },
      "source": [
        "DataFrame can be created from three types of files:\n",
        "<ol>\n",
        "    <li>Comma Separated Values(CSV files) - read_csv function</li>\n",
        "    <li> Excel Files - read_excel function</li>\n",
        "    <li> Text files - read_table function</li>\n",
        "</ol>"
      ],
      "id": "0336db87"
    },
    {
      "cell_type": "markdown",
      "metadata": {
        "id": "bfcba970"
      },
      "source": [
        "Separators maybe specified while using read_csv or read_table functions"
      ],
      "id": "bfcba970"
    },
    {
      "cell_type": "code",
      "metadata": {
        "id": "9d1030b1"
      },
      "source": [
        "sslc = pd.read_csv('marks.txt',sep=';',header=None,index_col=None)"
      ],
      "id": "9d1030b1",
      "execution_count": null,
      "outputs": []
    },
    {
      "cell_type": "markdown",
      "metadata": {
        "id": "9dca2256"
      },
      "source": [
        "#### Display first five records"
      ],
      "id": "9dca2256"
    },
    {
      "cell_type": "code",
      "metadata": {
        "id": "f4219a66"
      },
      "source": [
        "sslc.head()"
      ],
      "id": "f4219a66",
      "execution_count": null,
      "outputs": []
    },
    {
      "cell_type": "code",
      "metadata": {
        "id": "741b3222"
      },
      "source": [
        "sslc.columns = ['region','roll_number','eng','lang2','math','sci','ss','total','pass','withheld','extra']"
      ],
      "id": "741b3222",
      "execution_count": null,
      "outputs": []
    },
    {
      "cell_type": "code",
      "metadata": {
        "id": "9c9d5e87"
      },
      "source": [
        "sslc.head(7)"
      ],
      "id": "9c9d5e87",
      "execution_count": null,
      "outputs": []
    },
    {
      "cell_type": "markdown",
      "metadata": {
        "id": "2bfba20d"
      },
      "source": [
        "#### Display Last Eight Records"
      ],
      "id": "2bfba20d"
    },
    {
      "cell_type": "code",
      "metadata": {
        "id": "d54c9a81"
      },
      "source": [
        "sslc.tail(8)"
      ],
      "id": "d54c9a81",
      "execution_count": null,
      "outputs": []
    },
    {
      "cell_type": "markdown",
      "metadata": {
        "id": "636e0482"
      },
      "source": [
        "### General attributes of dataframe"
      ],
      "id": "636e0482"
    },
    {
      "cell_type": "code",
      "metadata": {
        "id": "ffe0774e"
      },
      "source": [
        "# returns number of data(cells) in the dataframe\n",
        "sslc.size"
      ],
      "id": "ffe0774e",
      "execution_count": null,
      "outputs": []
    },
    {
      "cell_type": "code",
      "metadata": {
        "id": "dc63f2ee"
      },
      "source": [
        "# returns the number of non-null values in each column\n",
        "sslc.count()"
      ],
      "id": "dc63f2ee",
      "execution_count": null,
      "outputs": []
    },
    {
      "cell_type": "code",
      "metadata": {
        "id": "00c49166"
      },
      "source": [
        "# Return a tuple of the number of records(rows) and number of attributes (columns)\n",
        "sslc.shape"
      ],
      "id": "00c49166",
      "execution_count": null,
      "outputs": []
    },
    {
      "cell_type": "code",
      "metadata": {
        "id": "507f88a8"
      },
      "source": [
        "# Return number of dimensions of the dataframe\n",
        "sslc.ndim"
      ],
      "id": "507f88a8",
      "execution_count": null,
      "outputs": []
    },
    {
      "cell_type": "markdown",
      "metadata": {
        "id": "cdc03a05"
      },
      "source": [
        "#### Summary about dataframe"
      ],
      "id": "cdc03a05"
    },
    {
      "cell_type": "code",
      "metadata": {
        "scrolled": true,
        "id": "66f2c97e"
      },
      "source": [
        "sslc.info()"
      ],
      "id": "66f2c97e",
      "execution_count": null,
      "outputs": []
    },
    {
      "cell_type": "code",
      "metadata": {
        "id": "i0CIthjGPf0i"
      },
      "source": [
        "# number of unique values in each column of dataframe\n",
        "sslc.nunique()"
      ],
      "id": "i0CIthjGPf0i",
      "execution_count": null,
      "outputs": []
    },
    {
      "cell_type": "markdown",
      "metadata": {
        "id": "05170165"
      },
      "source": [
        "#### Statistical Description about Dataframe\n",
        "<ul>\n",
        "    <li>By default it shows only for numerical attributes</li>\n",
        "    <li>Keyword arguments shall be given to specifically display attributes</li>\n",
        "    <li>For categorical attributes count,unique,top,freq are displayed</li>\n",
        "</ul>\n",
        "    \n"
      ],
      "id": "05170165"
    },
    {
      "cell_type": "code",
      "metadata": {
        "id": "f3795367"
      },
      "source": [
        "sslc.describe() # Default only numerical values are considered"
      ],
      "id": "f3795367",
      "execution_count": null,
      "outputs": []
    },
    {
      "cell_type": "code",
      "metadata": {
        "id": "3b0a65bf"
      },
      "source": [
        "sslc.describe(include=[object]) # no-numerical attributes"
      ],
      "id": "3b0a65bf",
      "execution_count": null,
      "outputs": []
    },
    {
      "cell_type": "code",
      "metadata": {
        "id": "0f72d880"
      },
      "source": [
        "sslc.describe(exclude=[object])"
      ],
      "id": "0f72d880",
      "execution_count": null,
      "outputs": []
    },
    {
      "cell_type": "code",
      "metadata": {
        "scrolled": true,
        "id": "bd688651"
      },
      "source": [
        "sslc.describe(include='all')"
      ],
      "id": "bd688651",
      "execution_count": null,
      "outputs": []
    },
    {
      "cell_type": "markdown",
      "metadata": {
        "id": "9fb089b2"
      },
      "source": [
        "### Number of bytes consumed"
      ],
      "id": "9fb089b2"
    },
    {
      "cell_type": "markdown",
      "metadata": {
        "id": "0851e085"
      },
      "source": [
        "#### By DataFrame"
      ],
      "id": "0851e085"
    },
    {
      "cell_type": "code",
      "metadata": {
        "scrolled": true,
        "id": "e7cfa638"
      },
      "source": [
        "sslc.memory_usage()"
      ],
      "id": "e7cfa638",
      "execution_count": null,
      "outputs": []
    },
    {
      "cell_type": "markdown",
      "metadata": {
        "id": "9766489b"
      },
      "source": [
        "#### By a Specific Columns"
      ],
      "id": "9766489b"
    },
    {
      "cell_type": "code",
      "metadata": {
        "id": "a6c17f43"
      },
      "source": [
        "sslc['pass'].nbytes"
      ],
      "id": "a6c17f43",
      "execution_count": null,
      "outputs": []
    },
    {
      "cell_type": "markdown",
      "metadata": {
        "id": "925b29cb"
      },
      "source": [
        "#### Accessing a Column"
      ],
      "id": "925b29cb"
    },
    {
      "cell_type": "code",
      "metadata": {
        "id": "bcca071a"
      },
      "source": [
        "#Square brackets\n",
        "sslc['region']"
      ],
      "id": "bcca071a",
      "execution_count": null,
      "outputs": []
    },
    {
      "cell_type": "code",
      "metadata": {
        "id": "2d2d3e14"
      },
      "source": [
        "#Print all column names\n",
        "sslc.columns"
      ],
      "id": "2d2d3e14",
      "execution_count": null,
      "outputs": []
    },
    {
      "cell_type": "code",
      "metadata": {
        "id": "2952df4b"
      },
      "source": [
        "#Dot operator\n",
        "sslc.withheld"
      ],
      "id": "2952df4b",
      "execution_count": null,
      "outputs": []
    },
    {
      "cell_type": "markdown",
      "metadata": {
        "id": "5fefcbeb"
      },
      "source": [
        "#### Reterving rows"
      ],
      "id": "5fefcbeb"
    },
    {
      "cell_type": "markdown",
      "metadata": {
        "id": "31c7c655"
      },
      "source": [
        "#### By default numerical index given by Pandas"
      ],
      "id": "31c7c655"
    },
    {
      "cell_type": "code",
      "metadata": {
        "id": "f9d00322"
      },
      "source": [
        "# print details in first row\n",
        "sslc.iloc[0]"
      ],
      "id": "f9d00322",
      "execution_count": null,
      "outputs": []
    },
    {
      "cell_type": "markdown",
      "metadata": {
        "id": "08b8a4e3"
      },
      "source": [
        "#### Change index of dataframe"
      ],
      "id": "08b8a4e3"
    },
    {
      "cell_type": "code",
      "metadata": {
        "id": "e94429c0"
      },
      "source": [
        "sslc.set_index('roll_number',inplace=True)"
      ],
      "id": "e94429c0",
      "execution_count": null,
      "outputs": []
    },
    {
      "cell_type": "markdown",
      "metadata": {
        "id": "7829746f"
      },
      "source": [
        "#### Access row by index column specified by user"
      ],
      "id": "7829746f"
    },
    {
      "cell_type": "code",
      "metadata": {
        "id": "5c67c77c"
      },
      "source": [
        "sslc.loc[10001]"
      ],
      "id": "5c67c77c",
      "execution_count": null,
      "outputs": []
    },
    {
      "cell_type": "code",
      "metadata": {
        "id": "AHBw8_KRj0Kl"
      },
      "source": [
        "sslc.iloc[0]"
      ],
      "id": "AHBw8_KRj0Kl",
      "execution_count": null,
      "outputs": []
    },
    {
      "cell_type": "markdown",
      "metadata": {
        "id": "342065a6"
      },
      "source": [
        "### Accessing a data in dataframe"
      ],
      "id": "342065a6"
    },
    {
      "cell_type": "markdown",
      "metadata": {
        "id": "cac104a3"
      },
      "source": [
        "#### Using row and column indices given by Pandas"
      ],
      "id": "cac104a3"
    },
    {
      "cell_type": "code",
      "metadata": {
        "id": "4TSm_qzgKUbT"
      },
      "source": [
        "sslc.iat[0,1]"
      ],
      "id": "4TSm_qzgKUbT",
      "execution_count": null,
      "outputs": []
    },
    {
      "cell_type": "code",
      "source": [
        "sslc.at[10001, 'eng']"
      ],
      "metadata": {
        "id": "Aw8mlObeZhrq"
      },
      "id": "Aw8mlObeZhrq",
      "execution_count": null,
      "outputs": []
    },
    {
      "cell_type": "markdown",
      "metadata": {
        "id": "f489db3c"
      },
      "source": [
        "#### Using indices specified by programmer"
      ],
      "id": "f489db3c"
    },
    {
      "cell_type": "code",
      "metadata": {
        "id": "14c74589"
      },
      "source": [
        "sslc.at[10001,'eng']"
      ],
      "id": "14c74589",
      "execution_count": null,
      "outputs": []
    },
    {
      "cell_type": "code",
      "metadata": {
        "id": "NqJ3ctZ2MxYV"
      },
      "source": [
        "# find number of null values in each column of the dataframe\n",
        "sslc.isnull().sum()"
      ],
      "id": "NqJ3ctZ2MxYV",
      "execution_count": null,
      "outputs": []
    },
    {
      "cell_type": "code",
      "metadata": {
        "id": "RlQhVs7ZPCio"
      },
      "source": [
        "sslc['eng'].unique() # display unique values in column "
      ],
      "id": "RlQhVs7ZPCio",
      "execution_count": null,
      "outputs": []
    },
    {
      "cell_type": "markdown",
      "metadata": {
        "id": "0cc8def9"
      },
      "source": [
        "#### Replace a value"
      ],
      "id": "0cc8def9"
    },
    {
      "cell_type": "code",
      "metadata": {
        "id": "0ceced45"
      },
      "source": [
        "sslc['eng'].replace('AA',np.nan,inplace=True)\n",
        "sslc['lang2'].replace('AA',np.nan,inplace=True)\n",
        "sslc['math'].replace('AA',np.nan,inplace=True)\n",
        "sslc['sci'].replace('AA',np.nan,inplace=True)\n",
        "sslc['ss'].replace('AA',np.nan,inplace=True)\n",
        "sslc['total'].replace('AA',np.nan,inplace=True)"
      ],
      "id": "0ceced45",
      "execution_count": null,
      "outputs": []
    },
    {
      "cell_type": "markdown",
      "metadata": {
        "id": "6280d2d4"
      },
      "source": [
        "#### Find unique values in a column"
      ],
      "id": "6280d2d4"
    },
    {
      "cell_type": "code",
      "metadata": {
        "id": "226000cb"
      },
      "source": [
        "sslc['eng'].unique()"
      ],
      "id": "226000cb",
      "execution_count": null,
      "outputs": []
    },
    {
      "cell_type": "markdown",
      "metadata": {
        "id": "237e52d1"
      },
      "source": [
        "#### Change datatype of a column"
      ],
      "id": "237e52d1"
    },
    {
      "cell_type": "code",
      "metadata": {
        "id": "23e867f6"
      },
      "source": [
        "sslc['eng'] = pd.to_numeric(sslc['eng'], errors='coerce')\n",
        "sslc['lang2'] = pd.to_numeric(sslc['lang2'], errors='coerce')\n",
        "sslc['math'] = pd.to_numeric(sslc['math'], errors='coerce')\n",
        "sslc['sci'] = pd.to_numeric(sslc['sci'], errors='coerce')\n",
        "sslc['ss'] = pd.to_numeric(sslc['ss'], errors='coerce')\n",
        "sslc['total'] = pd.to_numeric(sslc['total'], errors='coerce')"
      ],
      "id": "23e867f6",
      "execution_count": null,
      "outputs": []
    },
    {
      "cell_type": "code",
      "metadata": {
        "id": "907e6a40"
      },
      "source": [
        "sslc.info()"
      ],
      "id": "907e6a40",
      "execution_count": null,
      "outputs": []
    },
    {
      "cell_type": "code",
      "metadata": {
        "id": "59f63bb0"
      },
      "source": [
        "sslc['eng'].nbytes"
      ],
      "id": "59f63bb0",
      "execution_count": null,
      "outputs": []
    },
    {
      "cell_type": "code",
      "metadata": {
        "id": "e54d81f7"
      },
      "source": [
        "sslc['withheld'].nbytes"
      ],
      "id": "e54d81f7",
      "execution_count": null,
      "outputs": []
    },
    {
      "cell_type": "code",
      "metadata": {
        "id": "d525c786"
      },
      "source": [
        "sslc.describe()"
      ],
      "id": "d525c786",
      "execution_count": null,
      "outputs": []
    },
    {
      "cell_type": "code",
      "metadata": {
        "id": "1a65a5b1"
      },
      "source": [
        "sslc.memory_usage()"
      ],
      "id": "1a65a5b1",
      "execution_count": null,
      "outputs": []
    },
    {
      "cell_type": "markdown",
      "metadata": {
        "id": "511a55d7"
      },
      "source": [
        "#### Create sub dataframe with only a specific datatype"
      ],
      "id": "511a55d7"
    },
    {
      "cell_type": "code",
      "metadata": {
        "id": "b1a0925c"
      },
      "source": [
        "#filtered data frame\n",
        "non_numeric = sslc.select_dtypes(include=[object])"
      ],
      "id": "b1a0925c",
      "execution_count": null,
      "outputs": []
    },
    {
      "cell_type": "markdown",
      "metadata": {
        "id": "5d003d90"
      },
      "source": [
        "#### Statistical measures of columns"
      ],
      "id": "5d003d90"
    },
    {
      "cell_type": "code",
      "metadata": {
        "id": "32fa7ae8"
      },
      "source": [
        "sslc['total'].max()"
      ],
      "id": "32fa7ae8",
      "execution_count": null,
      "outputs": []
    },
    {
      "cell_type": "code",
      "metadata": {
        "id": "50b4a862"
      },
      "source": [
        "sslc['total'].min()"
      ],
      "id": "50b4a862",
      "execution_count": null,
      "outputs": []
    },
    {
      "cell_type": "code",
      "metadata": {
        "id": "66c696c4"
      },
      "source": [
        "sslc['total'].mean()"
      ],
      "id": "66c696c4",
      "execution_count": null,
      "outputs": []
    },
    {
      "cell_type": "code",
      "metadata": {
        "id": "d6301f06"
      },
      "source": [
        "sslc['total'].median()"
      ],
      "id": "d6301f06",
      "execution_count": null,
      "outputs": []
    },
    {
      "cell_type": "code",
      "metadata": {
        "id": "12e5a62e"
      },
      "source": [
        "sslc['region'].mode()"
      ],
      "id": "12e5a62e",
      "execution_count": null,
      "outputs": []
    },
    {
      "cell_type": "markdown",
      "metadata": {
        "id": "2d06a0b3"
      },
      "source": [
        "#### Verify mode by priniting count of all regions"
      ],
      "id": "2d06a0b3"
    },
    {
      "cell_type": "code",
      "metadata": {
        "id": "91dcb978"
      },
      "source": [
        "sslc['total'].std()"
      ],
      "id": "91dcb978",
      "execution_count": null,
      "outputs": []
    },
    {
      "cell_type": "code",
      "metadata": {
        "id": "b965ce89"
      },
      "source": [
        "sslc['region'].value_counts()"
      ],
      "id": "b965ce89",
      "execution_count": null,
      "outputs": []
    },
    {
      "cell_type": "code",
      "metadata": {
        "id": "33a5d1a8"
      },
      "source": [
        "#check for null values after replacing 'AA'\n",
        "sslc.isnull().sum()"
      ],
      "id": "33a5d1a8",
      "execution_count": null,
      "outputs": []
    },
    {
      "cell_type": "markdown",
      "metadata": {
        "id": "f43b1698"
      },
      "source": [
        "#### Listdown unique values of a column"
      ],
      "id": "f43b1698"
    },
    {
      "cell_type": "code",
      "metadata": {
        "id": "7b67a4a2"
      },
      "source": [
        "sslc['pass'].unique()"
      ],
      "id": "7b67a4a2",
      "execution_count": null,
      "outputs": []
    },
    {
      "cell_type": "code",
      "metadata": {
        "id": "09f7a7bc"
      },
      "source": [
        "sslc['pass'].value_counts()"
      ],
      "id": "09f7a7bc",
      "execution_count": null,
      "outputs": []
    },
    {
      "cell_type": "code",
      "metadata": {
        "id": "75ba6b18"
      },
      "source": [
        "sslc['pass'].isnull().sum()"
      ],
      "id": "75ba6b18",
      "execution_count": null,
      "outputs": []
    },
    {
      "cell_type": "markdown",
      "metadata": {
        "id": "09d6e74c"
      },
      "source": [
        "#### Replace null values of a column by a value"
      ],
      "id": "09d6e74c"
    },
    {
      "cell_type": "code",
      "metadata": {
        "id": "97bf74d7"
      },
      "source": [
        "sslc['pass'] = sslc['pass'].fillna('F')"
      ],
      "id": "97bf74d7",
      "execution_count": null,
      "outputs": []
    },
    {
      "cell_type": "code",
      "metadata": {
        "id": "3284e8d9"
      },
      "source": [
        "sslc['pass'].value_counts()"
      ],
      "id": "3284e8d9",
      "execution_count": null,
      "outputs": []
    },
    {
      "cell_type": "code",
      "metadata": {
        "id": "537a6b81"
      },
      "source": [
        "sslc.withheld.value_counts()"
      ],
      "id": "537a6b81",
      "execution_count": null,
      "outputs": []
    },
    {
      "cell_type": "markdown",
      "metadata": {
        "id": "78f8b701"
      },
      "source": [
        "### Conditional Indexing"
      ],
      "id": "78f8b701"
    },
    {
      "cell_type": "markdown",
      "metadata": {
        "id": "5788c87a"
      },
      "source": [
        "#### Create a sub dataframe with only withheld results"
      ],
      "id": "5788c87a"
    },
    {
      "cell_type": "code",
      "metadata": {
        "id": "6ebecc53"
      },
      "source": [
        "sslc_WH = sslc[sslc['withheld']=='W']  #conditional indexing"
      ],
      "id": "6ebecc53",
      "execution_count": null,
      "outputs": []
    },
    {
      "cell_type": "code",
      "metadata": {
        "id": "a0a203ce"
      },
      "source": [
        "sslc_WH"
      ],
      "id": "a0a203ce",
      "execution_count": null,
      "outputs": []
    },
    {
      "cell_type": "markdown",
      "metadata": {
        "id": "f4f8c25a"
      },
      "source": [
        "#### Combining Conditions using and, or, xor"
      ],
      "id": "f4f8c25a"
    },
    {
      "cell_type": "code",
      "metadata": {
        "id": "cdd57a96"
      },
      "source": [
        "eng_and_lang2 = sslc[(sslc['eng']>75) & (sslc['lang2']>75)]"
      ],
      "id": "cdd57a96",
      "execution_count": null,
      "outputs": []
    },
    {
      "cell_type": "code",
      "metadata": {
        "id": "d1863d59"
      },
      "source": [
        "eng_and_lang2"
      ],
      "id": "d1863d59",
      "execution_count": null,
      "outputs": []
    },
    {
      "cell_type": "code",
      "metadata": {
        "id": "c6f209ee"
      },
      "source": [
        "eng_or_lang2 = sslc[(sslc['eng']>75) | (sslc['lang2']>75)]"
      ],
      "id": "c6f209ee",
      "execution_count": null,
      "outputs": []
    },
    {
      "cell_type": "code",
      "metadata": {
        "id": "1835ac31"
      },
      "source": [
        "eng_or_lang2"
      ],
      "id": "1835ac31",
      "execution_count": null,
      "outputs": []
    },
    {
      "cell_type": "code",
      "metadata": {
        "id": "l9Ap8IRtoASR"
      },
      "source": [
        "eng_or_lang2.head(50)"
      ],
      "id": "l9Ap8IRtoASR",
      "execution_count": null,
      "outputs": []
    },
    {
      "cell_type": "code",
      "metadata": {
        "id": "13fc7c0e"
      },
      "source": [
        "eng_xor_lang2 = sslc[(sslc['eng']>75) ^ (sslc['lang2']>75)] # any one lang and not both"
      ],
      "id": "13fc7c0e",
      "execution_count": null,
      "outputs": []
    },
    {
      "cell_type": "code",
      "metadata": {
        "id": "6a39fa8e"
      },
      "source": [
        "eng_xor_lang2"
      ],
      "id": "6a39fa8e",
      "execution_count": null,
      "outputs": []
    },
    {
      "cell_type": "markdown",
      "metadata": {
        "id": "9855a652"
      },
      "source": [
        "#### Findout number of pass and withheld results regionwise"
      ],
      "id": "9855a652"
    },
    {
      "cell_type": "code",
      "metadata": {
        "id": "e9fe1156"
      },
      "source": [
        "sslc.groupby('region')['pass'].value_counts()"
      ],
      "id": "e9fe1156",
      "execution_count": null,
      "outputs": []
    },
    {
      "cell_type": "code",
      "metadata": {
        "id": "8439bfe6"
      },
      "source": [
        " sslc.groupby('region')['withheld'].value_counts()"
      ],
      "id": "8439bfe6",
      "execution_count": null,
      "outputs": []
    },
    {
      "cell_type": "code",
      "metadata": {
        "id": "kRnaPpCVooJf"
      },
      "source": [
        "sslc.groupby('region')['math'].min()"
      ],
      "id": "kRnaPpCVooJf",
      "execution_count": null,
      "outputs": []
    },
    {
      "cell_type": "markdown",
      "metadata": {
        "id": "c693f922"
      },
      "source": [
        "#### Find the number of first language results withheld"
      ],
      "id": "c693f922"
    },
    {
      "cell_type": "code",
      "metadata": {
        "id": "c07aee99"
      },
      "source": [
        "sslc['eng'].isnull().sum()"
      ],
      "id": "c07aee99",
      "execution_count": null,
      "outputs": []
    },
    {
      "cell_type": "markdown",
      "metadata": {
        "id": "77de0c6c"
      },
      "source": [
        "#### Create a dataframe with total marks greater than or equal to 300"
      ],
      "id": "77de0c6c"
    },
    {
      "cell_type": "code",
      "metadata": {
        "id": "7b05b763"
      },
      "source": [
        "sslc_60 = sslc[sslc['total']>=300]"
      ],
      "id": "7b05b763",
      "execution_count": null,
      "outputs": []
    },
    {
      "cell_type": "code",
      "metadata": {
        "id": "b1b4d230"
      },
      "source": [
        "# number of records in subdataframe\n",
        "sslc_60.count()"
      ],
      "id": "b1b4d230",
      "execution_count": null,
      "outputs": []
    },
    {
      "cell_type": "markdown",
      "metadata": {
        "id": "def3a16a"
      },
      "source": [
        "### Insert a new column to have sum of language marks"
      ],
      "id": "def3a16a"
    },
    {
      "cell_type": "code",
      "metadata": {
        "id": "44067b47"
      },
      "source": [
        "sslc.insert(3,'language_total',0)"
      ],
      "id": "44067b47",
      "execution_count": null,
      "outputs": []
    },
    {
      "cell_type": "code",
      "metadata": {
        "id": "3f688177"
      },
      "source": [
        "sslc.head()"
      ],
      "id": "3f688177",
      "execution_count": null,
      "outputs": []
    },
    {
      "cell_type": "markdown",
      "metadata": {
        "id": "afd1e764"
      },
      "source": [
        "#### Function to find sum of two numbers"
      ],
      "id": "afd1e764"
    },
    {
      "cell_type": "code",
      "metadata": {
        "id": "c5236702"
      },
      "source": [
        "def total(eng,lang2):\n",
        "    return eng+lang2"
      ],
      "id": "c5236702",
      "execution_count": null,
      "outputs": []
    },
    {
      "cell_type": "markdown",
      "metadata": {
        "id": "9b6888d6"
      },
      "source": [
        "#### Call function to compute sum of fl and sl and store it in language_total column\n",
        "Broadcasting happens"
      ],
      "id": "9b6888d6"
    },
    {
      "cell_type": "code",
      "metadata": {
        "id": "eb73b9fe"
      },
      "source": [
        "sslc['language_total'] = total(sslc['eng'],sslc['lang2'])"
      ],
      "id": "eb73b9fe",
      "execution_count": null,
      "outputs": []
    },
    {
      "cell_type": "code",
      "metadata": {
        "id": "c3e236b6"
      },
      "source": [
        "sslc"
      ],
      "id": "c3e236b6",
      "execution_count": null,
      "outputs": []
    },
    {
      "cell_type": "code",
      "metadata": {
        "id": "a7d0a0d7"
      },
      "source": [
        ""
      ],
      "id": "a7d0a0d7",
      "execution_count": null,
      "outputs": []
    }
  ]
}